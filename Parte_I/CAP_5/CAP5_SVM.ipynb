{
 "cells": [
  {
   "cell_type": "markdown",
   "id": "d7fa7245",
   "metadata": {},
   "source": [
    "# Capítulo 5: Máquinas vectoriales de soporte (SVM)\n",
    "\n",
    "</br></br>\n",
    "Una máquina de vectores de soporte (SVM) es un modelo de aprendizaje automático potente y versátil, capaz de realizar la clasificación lineal o no lineal, la regresión e incluso la detección de novedades. Los SVM brillan con conjuntos de datos no lineales de tamaño pequeño a mediano (es decir, de cientos a miles de instancias), especialmente para tareas de clasificación. Sin embargo, no se escalan muy bien a conjuntos de datos muy grandes, como verás.\n",
    "\n",
    "Este capítulo explicará los conceptos básicos de los SVM, cómo usarlos y cómo funcionan. ¡Vamos a entrar!\n",
    "\n",
    "## Clasificación lineal de SVM\n",
    "\n",
    "</br></br>\n",
    "La idea fundamental detrás de los SVM se explica mejor con algunas imágenes. \n",
    "La Figura 5-1 muestra parte del conjunto de datos del iris que se introdujo al final del capítulo 4. Las dos clases se pueden separar fácilmente con una línea recta (son separables linealmente). \n",
    "El gráfico de la izquierda muestra los límites de decisión de tres posibles clasificadores lineales. El modelo cuyo límite de decisión está representado por la línea discontinua es tan malo que ni siquiera separa las clases correctamente. \n",
    "\n",
    "Los otros dos modelos funcionan perfectamente en este conjunto de entrenamiento, pero sus límites de decisión se acercan tanto a las instancias que estos modelos probablemente no funcionarán tan bien en las nuevas instancias. Por el contrario, la línea continua en el gráfico de la derecha representa el límite de decisión de un clasificador SVM; esta línea no solo separa las dos clases, sino que también se mantiene lo más lejos posible de las instancias de entrenamiento más cercanas. \n",
    "\n",
    "Se puede pensar en un clasificador SVM que se ajusta a la calle más ancha posible (representada por las líneas discontinuas paralelas) entre las clases. Esto se llama clasificación de gran margen.\n",
    "\n",
    "![](https://learning.oreilly.com/api/v2/epubs/urn:orm:book:9781098125967/files/assets/mls3_0501.png)\n",
    "\n",
    "(_Figura 5-1. Clasificación de gran margen_)\n",
    "\n",
    "Tenga en cuenta que agregar más instancias de entrenamiento \"fuera de la calle\" no afectará en absoluto al límite de la decisión: está totalmente determinado (o \"apoyado\") por las instancias ubicadas en el borde de la calle. Estas instancias se llaman vectores de soporte (están rodeados en la Figura 5-1)."
   ]
  },
  {
   "cell_type": "code",
   "execution_count": null,
   "id": "8154a2e1",
   "metadata": {},
   "outputs": [],
   "source": []
  }
 ],
 "metadata": {
  "kernelspec": {
   "display_name": "Python 3 (ipykernel)",
   "language": "python",
   "name": "python3"
  },
  "language_info": {
   "codemirror_mode": {
    "name": "ipython",
    "version": 3
   },
   "file_extension": ".py",
   "mimetype": "text/x-python",
   "name": "python",
   "nbconvert_exporter": "python",
   "pygments_lexer": "ipython3",
   "version": "3.9.13"
  }
 },
 "nbformat": 4,
 "nbformat_minor": 5
}
