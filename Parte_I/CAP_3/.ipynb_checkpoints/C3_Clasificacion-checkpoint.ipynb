{
 "cells": [
  {
   "cell_type": "markdown",
   "id": "d0c3ba60",
   "metadata": {},
   "source": [
    "## Capítulo 3: Clasificación\n",
    "\n",
    "\n",
    "En el capítulo 1 se mencionó que las tareas de aprendizaje supervisado más comunes son la **regresión** (predicción de valores) y la **clasificación** (predicción de clases).\n",
    "\n",
    "En el capítulo 2 se exploró una tarea de **regresión**, prediciendo los valores de la vivienda, usando algoritmos como la regresión lineal, Random Forest y árboles aleatorios.\n",
    "\n",
    "En este capítulo nos centraremos en **SISTEMAS DE CLASIFICACIÓN**."
   ]
  },
  {
   "cell_type": "markdown",
   "id": "0773d15f",
   "metadata": {},
   "source": [
    "### MNIST\n",
    "\n",
    "Vamos a usar el conjunto de datos de MNIST, que contiene 70 000 imágenes reducidas de dígitos escritas a mano.\n",
    "\n",
    "Cada imágen está etiquetada con el código que representa.\n",
    "\n",
    "Es el \"hola mundo\" del aprendizaje automático.\n",
    "\n",
    "</br></br>\n",
    "Vamos a usar la funcionalidad de Sklearn para descargar el conjunto de datos de MNIST de OpenML:"
   ]
  },
  {
   "cell_type": "code",
   "execution_count": 1,
   "id": "e939de3b",
   "metadata": {},
   "outputs": [],
   "source": [
    "from sklearn.datasets import fetch_openml\n",
    "\n",
    "mnist = fetch_openml('mnist_784', as_frame=False)"
   ]
  },
  {
   "cell_type": "markdown",
   "id": "08ce9d1b",
   "metadata": {},
   "source": [
    "El paquete `sklear.datasets` contiene en su mayoría 3 tipos de funciones:\n",
    "\n",
    "- Funciones `fetch_*`: Como `fetch_openml()` para descargar datasets de la vida real.\n",
    "\n",
    "- Funciones `load_*` para cargar pequeños datasets de juguete.\n",
    "\n",
    "- Funciones `make_*` para generar datasets falsos, prácticos para test.\n",
    "\n",
    "\n",
    "Normalmente contienen los siguientes atributos:\n",
    "\n",
    "* **\"DESCR\"**: Descripción del conjunto de datos.\n",
    "\n",
    "* **\"data\"**: Datos de entrada en forma de matriz NumPy 2D.\n",
    "\n",
    "* **\"target\"**: Etiquetas en forma de matriz NumPy 1D.\n",
    "\n",
    "\n",
    "La función `fetch_openml()`, de forma predeterminada, retorna las entradas como Pandas DataFrame y las etiquetas como Pandas Series.\n",
    "\n",
    "Pero el conjunto de datos de MNIST contiene imágenes y **los DataFrame no son buenos para eso**.\n",
    "\n",
    "Es preferible configurar `as_frame=False` para tener los datos como matrices NumPy.\n",
    "\n",
    "Veamos estas matrices:"
   ]
  },
  {
   "cell_type": "code",
   "execution_count": 2,
   "id": "db6039e5",
   "metadata": {},
   "outputs": [],
   "source": [
    "X, y = mnist.data, mnist.target"
   ]
  },
  {
   "cell_type": "code",
   "execution_count": 3,
   "id": "d2555ec3",
   "metadata": {},
   "outputs": [
    {
     "data": {
      "text/plain": [
       "array([[0., 0., 0., ..., 0., 0., 0.],\n",
       "       [0., 0., 0., ..., 0., 0., 0.],\n",
       "       [0., 0., 0., ..., 0., 0., 0.],\n",
       "       ...,\n",
       "       [0., 0., 0., ..., 0., 0., 0.],\n",
       "       [0., 0., 0., ..., 0., 0., 0.],\n",
       "       [0., 0., 0., ..., 0., 0., 0.]])"
      ]
     },
     "execution_count": 3,
     "metadata": {},
     "output_type": "execute_result"
    }
   ],
   "source": [
    "X"
   ]
  },
  {
   "cell_type": "code",
   "execution_count": 4,
   "id": "1126455d",
   "metadata": {},
   "outputs": [
    {
     "data": {
      "text/plain": [
       "(70000, 784)"
      ]
     },
     "execution_count": 4,
     "metadata": {},
     "output_type": "execute_result"
    }
   ],
   "source": [
    "X.shape"
   ]
  },
  {
   "cell_type": "code",
   "execution_count": 5,
   "id": "9eece7bf",
   "metadata": {},
   "outputs": [
    {
     "data": {
      "text/plain": [
       "array(['5', '0', '4', ..., '4', '5', '6'], dtype=object)"
      ]
     },
     "execution_count": 5,
     "metadata": {},
     "output_type": "execute_result"
    }
   ],
   "source": [
    "y"
   ]
  },
  {
   "cell_type": "code",
   "execution_count": 6,
   "id": "2bf771e5",
   "metadata": {},
   "outputs": [
    {
     "data": {
      "text/plain": [
       "(70000,)"
      ]
     },
     "execution_count": 6,
     "metadata": {},
     "output_type": "execute_result"
    }
   ],
   "source": [
    "y.shape"
   ]
  },
  {
   "cell_type": "markdown",
   "id": "0659c4e5",
   "metadata": {},
   "source": [
    "Hay 70.000 imágenes y cada una de ellas contiene **784** features.\n",
    "\n",
    "Esto de debe a que cada imagen tiene una resolución de **28x28** píxeles y cada característica representa la intensidad del píxel de **0 (white) - 255 (black)**.\n",
    "\n",
    "Tomemos una imagen del dataset.\n",
    "\n",
    "Todo lo que tenemos que hacer es tomar el **vector de características de esa instancia** (imagen), redimensionarlo (`reshape`) a un array de 28x28 y mostrarlo por pantalla usando matplotlib con el ajuste de color `cmap=\"binary\"` para obtener una escapa de grises conde el 0 es blanco y el 255 es negro."
   ]
  },
  {
   "cell_type": "code",
   "execution_count": 7,
   "id": "72131d3f",
   "metadata": {},
   "outputs": [
    {
     "data": {
      "image/png": "[encoded data removed]",
      "text/plain": [
       "<Figure size 640x480 with 1 Axes>"
      ]
     },
     "metadata": {},
     "output_type": "display_data"
    }
   ],
   "source": [
    "import matplotlib.pyplot as plt\n",
    "\n",
    "def plot_digit(image_data):\n",
    "    image = image_data.reshape(28, 28)\n",
    "    plt.imshow(image, cmap=\"binary\")\n",
    "    plt.axis(\"off\")\n",
    "    \n",
    "some_digit = X[0] # El primer elemento del dataset (número 5)\n",
    "plot_digit(some_digit)\n",
    "plt.show()"
   ]
  },
  {
   "cell_type": "markdown",
   "id": "b832cc62",
   "metadata": {},
   "source": [
    "Si comprobamos su etiqueta, nos dice que efectivamente es un **5**."
   ]
  },
  {
   "cell_type": "code",
   "execution_count": 8,
   "id": "5a5fd42a",
   "metadata": {},
   "outputs": [
    {
     "data": {
      "text/plain": [
       "'5'"
      ]
     },
     "execution_count": 8,
     "metadata": {},
     "output_type": "execute_result"
    }
   ],
   "source": [
    "y[0]"
   ]
  },
  {
   "cell_type": "markdown",
   "id": "b8f65898",
   "metadata": {},
   "source": [
    "Normalmente separamos una pequeña parte del dataset y lo usamos para test antes de inspeccionar los elementos.\n",
    "\n",
    "En este caso no es necesario porque la herramienta de `fetch_openml()` que estamos usando ya ha separado previamente los sets en **entrenamiento (primeras 60.000 imagenes)** y **test (10.000 imagenes)**."
   ]
  },
  {
   "cell_type": "code",
   "execution_count": 9,
   "id": "9620285f",
   "metadata": {},
   "outputs": [],
   "source": [
    "X_train, X_test, y_train, y_test = X[:60000], X[60000:], y[:60000], y[60000:]"
   ]
  },
  {
   "cell_type": "markdown",
   "id": "1662d20b",
   "metadata": {},
   "source": [
    "El conjunto de entrenamiento ya viene barajado para nosotros, lo cual garantiza que todos los pliegues de cross-validation serán similares (no queremos que a algún pliegue le falten dígitos).\n",
    "\n",
    "Además, algunos algoritmos de aprendizaje automático son sensibles al orden de las instancias de entrenamiento y funcionan mal si ven muchas instancias similares seguidas (no randomizadas).\n",
    "\n",
    "Hay que mezclar previamente el conjunto de datos."
   ]
  },
  {
   "cell_type": "markdown",
   "id": "8955d4ed",
   "metadata": {},
   "source": [
    "![muestra](https://learning.oreilly.com/api/v2/epubs/urn:orm:book:9781098125967/files/assets/mls3_0302.png)"
   ]
  },
  {
   "cell_type": "markdown",
   "id": "3c8ca988",
   "metadata": {},
   "source": [
    "### Entrenando un clasificador binario\n",
    "\n",
    "Vamos a simplificar el problema e **identificar sólo un dígito**, el número 5.\n",
    "\n",
    "Esto es un \"detector de 5\" y se considera un *clasificador binario* que es capaz de distinguir entre dos clases:\n",
    "\n",
    "* ES 5\n",
    "* NO ES 5\n",
    "\n",
    "Primero creamos los vectores de entrenamiento y test propios para este ejercicio:"
   ]
  },
  {
   "cell_type": "code",
   "execution_count": 10,
   "id": "ea660a83",
   "metadata": {},
   "outputs": [],
   "source": [
    "# True si es 5 y False si no lo es\n",
    "\n",
    "y_train_5 = (y_train == '5')\n",
    "y_test_5 = (y_test == '5')"
   ]
  },
  {
   "cell_type": "code",
   "execution_count": 11,
   "id": "667981fa",
   "metadata": {},
   "outputs": [
    {
     "data": {
      "text/plain": [
       "array([ True, False, False, ...,  True, False, False])"
      ]
     },
     "execution_count": 11,
     "metadata": {},
     "output_type": "execute_result"
    }
   ],
   "source": [
    "y_train_5"
   ]
  },
  {
   "cell_type": "code",
   "execution_count": 12,
   "id": "2ba296c1",
   "metadata": {},
   "outputs": [
    {
     "data": {
      "text/plain": [
       "array([False, False, False, ..., False,  True, False])"
      ]
     },
     "execution_count": 12,
     "metadata": {},
     "output_type": "execute_result"
    }
   ],
   "source": [
    "y_test_5"
   ]
  },
  {
   "cell_type": "markdown",
   "id": "7186bb53",
   "metadata": {},
   "source": [
    "Lo único que hemos cambiado es el vector de etiquetas, que en vez de tener 10 posibilidades, ahora tiene 2 (Sí, No)."
   ]
  },
  {
   "cell_type": "markdown",
   "id": "64dd0961",
   "metadata": {},
   "source": [
    "Ahora vamos a tomar un clasificador y entrenarlo.\n",
    "\n",
    "Una buena forma de empezar es usar el clasificador ***stochastic gradient descent*** (SGD) o descenso del gradiente estocástico.\n",
    "\n",
    "Está dentro de la clase `SGDClassifier` de SKLearn.\n",
    "\n",
    "Este clasificador es capaz de manejar datasets muy grandes de forma eficiente ya que toma las instancias de forma independiente (una por una) y hace que sea un **algoritmo muy conveniente para el aprendizaje online**."
   ]
  },
  {
   "cell_type": "code",
   "execution_count": 13,
   "id": "b9bbfeda",
   "metadata": {},
   "outputs": [
    {
     "data": {
      "text/plain": [
       "SGDClassifier(random_state=42)"
      ]
     },
     "execution_count": 13,
     "metadata": {},
     "output_type": "execute_result"
    }
   ],
   "source": [
    "# Creamos un SGDClassifier y lo entrenamos con todo el conjunto de entrenamiento\n",
    "\n",
    "from sklearn.linear_model import SGDClassifier\n",
    "\n",
    "sgd_clf = SGDClassifier(random_state=42)\n",
    "sgd_clf.fit(X_train, y_train_5)"
   ]
  },
  {
   "cell_type": "markdown",
   "id": "873c17fb",
   "metadata": {},
   "source": [
    "Ahora podemos usarlo para detectar imágenes del número 5:"
   ]
  },
  {
   "cell_type": "code",
   "execution_count": 14,
   "id": "a847612e",
   "metadata": {},
   "outputs": [
    {
     "data": {
      "text/plain": [
       "array([ True])"
      ]
     },
     "execution_count": 14,
     "metadata": {},
     "output_type": "execute_result"
    }
   ],
   "source": [
    "sgd_clf.predict([some_digit])"
   ]
  },
  {
   "cell_type": "markdown",
   "id": "3c29b351",
   "metadata": {},
   "source": [
    "Nos da como resultado **True**, lo que significa que es un 5.\n",
    "\n",
    "\n",
    "Una vez comprobado que funciona, vamos a evaluar el rendimiento."
   ]
  },
  {
   "cell_type": "markdown",
   "id": "f3b5d670",
   "metadata": {},
   "source": [
    "### Medidas de rendimiento\n",
    "\n",
    "**Evaluar un clasificador suele ser mas complejo que evaluar un regresor**.\n",
    "\n",
    "Hay una gran cantidad de formas de medir el rendimiento así que prepara un café que empezamos.\n",
    "\n",
    "### > Medición de la precisión mediante la validación cruzada\n",
    "\n",
    "Una buena forma de evaluar el rendimiento es usar la validación cruzada como se hizo en el capítulo 2.\n",
    "\n",
    "Usamos `cross_val_score()` para evaluar el SGDClassifier, usando la validación cruzada `k-fold` con 3 pliegues (folds).\n",
    "\n",
    "* **RECUERDA**: La validación cruzada de K pliegues significa dividir el conjunto de entrenamiento en K pliegues (3 en este caso) y luego entrenar el modelo K veces, ofreciendo un pliegue diferente cada vez en la evaluación."
   ]
  },
  {
   "cell_type": "code",
   "execution_count": 15,
   "id": "1bb579bf",
   "metadata": {},
   "outputs": [
    {
     "data": {
      "text/plain": [
       "array([0.95035, 0.96035, 0.9604 ])"
      ]
     },
     "execution_count": 15,
     "metadata": {},
     "output_type": "execute_result"
    }
   ],
   "source": [
    "from sklearn.model_selection import cross_val_score\n",
    "\n",
    "cross_val_score(sgd_clf, X_train, y_train_5, cv=3, scoring=\"accuracy\")"
   ]
  },
  {
   "cell_type": "markdown",
   "id": "a49af2c8",
   "metadata": {},
   "source": [
    "Obtenemos una precisión por encima del 95% en todos los pliegues de validación.\n",
    "\n",
    "Pero antes de cantar victoria vamos a usar un **clasificador ficticio** (Dummy Classifier) que solo clasifica cada imagen en la **clase más frecuente** (en este caso es la clase negativa *no 5*)"
   ]
  },
  {
   "cell_type": "code",
   "execution_count": 16,
   "id": "493b7680",
   "metadata": {},
   "outputs": [
    {
     "name": "stdout",
     "output_type": "stream",
     "text": [
      "True\n"
     ]
    }
   ],
   "source": [
    "from sklearn.dummy import DummyClassifier\n",
    "\n",
    "dummy_clf = DummyClassifier()\n",
    "dummy_clf.fit(X_train, y_train)\n",
    "print( any(dummy_clf.predict(X_train)) ) # Imprimir False: 5s no detectados"
   ]
  },
  {
   "cell_type": "markdown",
   "id": "991246e4",
   "metadata": {},
   "source": [
    "Averiguamos la nueva precisión del modelo:"
   ]
  },
  {
   "cell_type": "code",
   "execution_count": 17,
   "id": "16f0d518",
   "metadata": {},
   "outputs": [
    {
     "data": {
      "text/plain": [
       "array([0.90965, 0.90965, 0.90965])"
      ]
     },
     "execution_count": 17,
     "metadata": {},
     "output_type": "execute_result"
    }
   ],
   "source": [
    "cross_val_score(dummy_clf, X_train, y_train_5, cv=3, scoring=\"accuracy\")"
   ]
  },
  {
   "cell_type": "markdown",
   "id": "d037326c",
   "metadata": {},
   "source": [
    "Tiene más del **90% de precisión!** \n",
    "\n",
    "Esto se debe a que solo hay alrededor de un 10% de imagenes con 5s, por lo que siempre adivines que una imagen no es un 5, tendrás razón el 90% de las veces.\n",
    "\n",
    "Esto demuestra que la precisión generalmente no es la mejor medida para evaluar los clasificadores, especialmente cuando se trata de **conjuntos de datos sesgados** (cuando algunas clases son mucho más frecuentes que otras <hay más NO 5s que 5s>).\n",
    "\n",
    "Otra forma mucho mejor de medir el rendimiento es mirar la **MATRIZ DE CONFUSIÓN** (CM)."
   ]
  },
  {
   "cell_type": "markdown",
   "id": "704ba975",
   "metadata": {},
   "source": [
    "---------------------------------------------------------------------\n",
    "\n",
    "    IMPLEMENTACIÓN DE LA VALIDACIÓN CRUZADA (OPCIONAL)\n",
    "    \n",
    "    \n",
    "Ocasionalmente vamos a necesitar tener más control sobre el proceso de validación cruzada del que SKlearn nos da.\n",
    "\n",
    "En este caso podemos implementar el proceso de validación cruzada manualmente.\n",
    "\n",
    "El siguiente código hace lo mismo que la función `cross_val_score()`:"
   ]
  },
  {
   "cell_type": "code",
   "execution_count": 18,
   "id": "4000e42b",
   "metadata": {},
   "outputs": [
    {
     "name": "stdout",
     "output_type": "stream",
     "text": [
      "0.95035\n",
      "0.96035\n",
      "0.9604\n"
     ]
    }
   ],
   "source": [
    "## OPCIONAL\n",
    "\n",
    "from sklearn.model_selection import StratifiedKFold\n",
    "from sklearn.base import clone\n",
    "\n",
    "skfolds = StratifiedKFold(n_splits=3)  # add shuffle=True if the dataset is\n",
    "                                       # not already shuffled\n",
    "for train_index, test_index in skfolds.split(X_train, y_train_5):\n",
    "    clone_clf = clone(sgd_clf)\n",
    "    X_train_folds = X_train[train_index]\n",
    "    y_train_folds = y_train_5[train_index]\n",
    "    X_test_fold = X_train[test_index]\n",
    "    y_test_fold = y_train_5[test_index]\n",
    "\n",
    "    clone_clf.fit(X_train_folds, y_train_folds)\n",
    "    y_pred = clone_clf.predict(X_test_fold)\n",
    "    n_correct = sum(y_pred == y_test_fold)\n",
    "    print(n_correct / len(y_pred))  # prints 0.95035, 0.96035, and 0.9604"
   ]
  },
  {
   "cell_type": "markdown",
   "id": "bbc05752",
   "metadata": {},
   "source": [
    "La clase `StratifiedKFold` realiza un muestreo estratificado (como se explica en el capítulo 2) para producir pliegues (folds) que contienen una proporción representativa de cada clase.\n",
    "\n",
    "El cada iteración, el código crea un clon del clasificador, entrena ese clon en los pliegues de entrenamiento y hace predicciones en el pliegue de prueba.\n",
    "\n",
    "Luego cuenta el número de predicciones correctas y genera la proporción de predicciones correctas.\n",
    "\n",
    "-----------------------------------------------------------------------"
   ]
  },
  {
   "cell_type": "markdown",
   "id": "981ee6a6",
   "metadata": {},
   "source": [
    "### > Matrices de confusión\n",
    "\n",
    "La idea de una matriz de confusión es contar el número de veces que las instancias de clase A se clasifican como clase B, oara todos los pares A/B.\n",
    "\n",
    "Por ejemplo, **para saber el número de veces que el clasificador confundió las imágenes  de 8 con 0, mirarías la fila número 8 y columna número 0 de la matriz de confusión**.\n",
    "\n",
    "Para calcular la matriz de confusión necesitamos primero un conjunto de predicciones para poder compararlas con los objetivos reales.\n",
    "\n",
    "Podríamos hacer predicciones en el conjunto de pruebas, pero lo mejor es no tocarlo por ahora (solo se toca al final)."
   ]
  },
  {
   "cell_type": "code",
   "execution_count": 19,
   "id": "d264ce5f",
   "metadata": {},
   "outputs": [],
   "source": [
    "from sklearn.model_selection import cross_val_predict\n",
    "\n",
    "y_train_pred = cross_val_predict(sgd_clf, X_train, y_train_5, cv=3)"
   ]
  },
  {
   "cell_type": "markdown",
   "id": "adf7a5d7",
   "metadata": {},
   "source": [
    "Al igual que la función `cross_val_score()`, `cross_val_predict()` realiza una validación cruzada de K veces pero en vez de retornar las puntuaciones de la evaluación, retorna las predicciones realizadas en cada prueba.\n",
    "\n",
    "Significa que se obtiene una predicción limpia para instancia en el conjunto de entrenamiento (\"limpio\" = fuera de la muestra).\n",
    "\n",
    "El modelo hace predicciones sobre unos datos que nunca vió durante el entrenamiento.\n",
    "\n",
    "Finalmente obtenemos la matriz de confusión usando `confusion_matrix()`.\n",
    "\n",
    "Se le pasan las clases objetivo (`y_train_`) y las predichas (`y_train_pred`)."
   ]
  },
  {
   "cell_type": "code",
   "execution_count": 20,
   "id": "137004de",
   "metadata": {},
   "outputs": [
    {
     "data": {
      "text/plain": [
       "array([[53892,   687],\n",
       "       [ 1891,  3530]])"
      ]
     },
     "execution_count": 20,
     "metadata": {},
     "output_type": "execute_result"
    }
   ],
   "source": [
    "from sklearn.metrics import confusion_matrix\n",
    "\n",
    "cm = confusion_matrix(y_train_5, y_train_pred)\n",
    "\n",
    "cm"
   ]
  },
  {
   "cell_type": "markdown",
   "id": "a89aa133",
   "metadata": {},
   "source": [
    "Matriz de confusión:\n",
    "\n",
    "    FILA = Clase real\n",
    "    COLUMNA = Clase predicha\n",
    "    \n",
    "* La primera fila de la matriz considera las imágenes que son NO-5s (clase negativa).\n",
    "\n",
    "    * 53892 imágenes que no son NO-5s han sido clasificadas correctamente (**verdaderos negativos**).\n",
    "\n",
    "    * 687 imágenes se clasificaron erróneamente como 5s (**falsos positivos**).\n",
    "\n",
    "* La segunda fila de la matriz considera las imágenes que son 5s (clase positiva).\n",
    "\n",
    "    * 1981 imágenes se clasificaron erróneamente como NO-5s (**falsos negativos**).\n",
    "\n",
    "    * 3530 imágenes restantes se clasificaron correctamente como 5s (**verdaderos positivos**).\n",
    "\n",
    "\n",
    "Un clasificador perfecto solo tendría verdaderos positivos y verdaderos negativos por lo que la matriz de confusión solo tendría valores distintos de 0 en su diagonal principal."
   ]
  },
  {
   "cell_type": "code",
   "execution_count": 21,
   "id": "5f6efb74",
   "metadata": {},
   "outputs": [
    {
     "data": {
      "text/plain": [
       "array([[54579,     0],\n",
       "       [    0,  5421]])"
      ]
     },
     "execution_count": 21,
     "metadata": {},
     "output_type": "execute_result"
    }
   ],
   "source": [
    "# (NO HACER) ASÍ DEBERÍA SER UNA MATRIZ PERFECTA\n",
    "\n",
    "y_train_perfect_predictions = y_train_5  # pretendemos buscar la perfección\n",
    "\n",
    "confusion_matrix(y_train_5, y_train_perfect_predictions)"
   ]
  },
  {
   "cell_type": "markdown",
   "id": "1c7f7c2a",
   "metadata": {},
   "source": [
    "A pesar de que la matriz de confusión da mucha información, quizá nos interese más usar una **MÉTRICA MÁS PRECISA**.\n",
    "\n",
    "Una interesante a tener en cuenta es la **precisión de las predicciones positivas**, a esto se le llama ***precisión*** del clasificador."
   ]
  },
  {
   "cell_type": "markdown",
   "id": "19e3cd51",
   "metadata": {},
   "source": [
    "### Ecuación 3-1. Precisión\n",
    "\n",
    "</br>\n",
    "\n",
    "$precisión =  \\frac{TP}{TP + FP}$\n",
    "\n",
    "donde:\n",
    "\n",
    "* $TP$ es el número de **verdaderos positivos**\n",
    "* $FP$ el número de **falsos positivos**.\n",
    "\n",
    "Una forma común de tener una precisión perfecta es crear un clasificador que siemrpe haga predicciones negativas, excepto por una sola predicción positiva en la instancia en la que tiene más confianza.\n",
    "\n",
    "Si esta predicción es correcta, el clasificador tiene una precisión del 100% (precisión = 1/1 = 100%).\n",
    "\n",
    "Obviamente el clasificador no sería muy útil ya que ignoraría todas las instancias positivas menos una.\n",
    "\n",
    "Por lo tanto, la precisión se usa normalmente junto con otra métrica llamada *recuerdo*, tambien llamada *sensibilidad* o la *verdadera tasa positiva (TPR)*.\n",
    "\n",
    "Esta es la proporción de instancias positivas que son detectadas correctamente por el clasificador."
   ]
  },
  {
   "cell_type": "markdown",
   "id": "81507014",
   "metadata": {},
   "source": [
    "### Ecuación 3-2. Recall (retirada)\n",
    "\n",
    "</br>\n",
    "\n",
    "$recall =  \\frac{TP}{TP + FN}$\n",
    "\n",
    "donde:\n",
    "    \n",
    "    FN es el número de falsos negativos\n",
    "    \n",
    "    \n",
    "Si estás confundido con la matriz de confusión, esta imagen puede ayudar:\n",
    "\n",
    "![recall](https://learning.oreilly.com/api/v2/epubs/urn:orm:book:9781098125967/files/assets/mls3_0303.png)\n",
    "\n",
    "*Una matriz de confusión ilustrada que muestra ejemplos de verdaderos negativos (arriba a la izquierda), falsos positivos (arriba a la derecha), falsos negativos (abajo a la izquierda) y verdaderos positivos (abajo a la derecha)*\n",
    "\n",
    "Video explicativo:\n",
    "\n",
    "https://youtu.be/aR7eg_PrpJQ"
   ]
  },
  {
   "cell_type": "markdown",
   "id": "6dd5cea0",
   "metadata": {},
   "source": [
    "### Precisión y Recall (Retirada)\n",
    "\n",
    "\n",
    "SKlearn proporciona funciones para calcular las métricas del clasificador, incluyendo precisión y recall."
   ]
  },
  {
   "cell_type": "code",
   "execution_count": 22,
   "id": "0ee0a5d2",
   "metadata": {},
   "outputs": [
    {
     "data": {
      "text/plain": [
       "0.8370879772350012"
      ]
     },
     "execution_count": 22,
     "metadata": {},
     "output_type": "execute_result"
    }
   ],
   "source": [
    "from sklearn.metrics import precision_score, recall_score\n",
    "\n",
    "# precisión de las predicciones\n",
    "precision_score(y_train_5, y_train_pred)  # == 3530 / (687 + 3530)"
   ]
  },
  {
   "cell_type": "code",
   "execution_count": 23,
   "id": "36caad1c",
   "metadata": {},
   "outputs": [
    {
     "data": {
      "text/plain": [
       "0.6511713705958311"
      ]
     },
     "execution_count": 23,
     "metadata": {},
     "output_type": "execute_result"
    }
   ],
   "source": [
    "# recall de las predicciones\n",
    "recall_score(y_train_5, y_train_pred)  # == 3530 / (1891 + 3530)"
   ]
  },
  {
   "cell_type": "markdown",
   "id": "1fb053ea",
   "metadata": {},
   "source": [
    "Ahora podemos ver que nuestro detector de 5s no es tan bueno como calculamos su precisión.\n",
    "\n",
    "* Cuando afirma que una imagen es un 5: Es correcto solo el **83.7%** de las veces.\n",
    "\n",
    "* Solo detecta el **65.1%** de los 5s que se le dan.\n",
    "\n",
    "Es conveniente combinar la precisión y el recall en una sola métrica llamada **puntuación F1**, especialmente cuando se necesita **una sola métrica para comparar** dos clasificadores.\n",
    "\n",
    "\n",
    "* **F1** es la **media armónica** de precisión y recall.\n",
    "\n",
    "La media de toda la vida trata a todos los valores por igual mientras que la armónica da mucho más peso a los valores bajos.\n",
    "\n",
    "**Esto hace que el clasificador solo obtenga una alta puntuación de F1 si tanto el recall como la precisión (ambos) son altos**."
   ]
  },
  {
   "cell_type": "markdown",
   "id": "fdba0630",
   "metadata": {},
   "source": [
    "### Ecuación 3-3. Puntuación de F1 (F1 score)\n",
    "</br>\n",
    "\n",
    "$F1 =  \\frac{2}{ \\frac{1}{precision} + \\frac{1}{recall} } = 2 x \\frac{precision x recall}{precision x recall} = \\frac{TP}{TP + \\frac{FN+FP}{2}}$\n",
    "\n",
    "Para calcular la puntuación de F1, se llama a la función `f1_score()`:"
   ]
  },
  {
   "cell_type": "code",
   "execution_count": 24,
   "id": "a5623b2d",
   "metadata": {},
   "outputs": [
    {
     "data": {
      "text/plain": [
       "0.7325171197343846"
      ]
     },
     "execution_count": 24,
     "metadata": {},
     "output_type": "execute_result"
    }
   ],
   "source": [
    "from sklearn.metrics import f1_score\n",
    "\n",
    "f1_score(y_train_5, y_train_pred)"
   ]
  },
  {
   "cell_type": "markdown",
   "id": "876a3e07",
   "metadata": {},
   "source": [
    "F1 score **favorece a los clasificadores que tienen una precisión y recall similares**.\n",
    "\n",
    "No siempre necesitamos esto: En algunos contextos nos importa principalmente la precisión, y en otros contextos realmente importa el racall.\n",
    "\n",
    "Por ejemlplo:\n",
    "\n",
    "Si se entrenó un clasificador para **detectar videos que son seguros para niños**, probablemente prefiramos un clasificador que rechace muchos vídeos buenos (bajo reacall) pero que los mantenga seguros (alta precisión), en lugar de un clasificador que tenga un recall mucho más alto pero que permita que aparezcan videos realmente malos en nuestras predicciones (en ese caso).\n",
    "\n",
    "Por otro lado:\n",
    "\n",
    "Supongamos que entrenamos un clasificador para **detectar a los ladrones de tiendas en las imagenes de vigilancia**: \n",
    "Probablemente esté bien si nuestro clasificador solo tiene un 30% de precisión, siempre y cuando tenga un 99% de recall (seguramente algunos guardias de seguridad recibirán alertas falsas, pero casi todos los ladrones serán atrapados.\n",
    "\n",
    "Desafortunadamente **NO** puedes tenerlo en ambos sentidos:\n",
    "\n",
    "**Aumentar la precisión reduce el recall y viceversa (*compensación de precisión/recall*)**."
   ]
  },
  {
   "cell_type": "markdown",
   "id": "8b3ed605",
   "metadata": {},
   "source": [
    "### Compensación precisión/recall\n",
    "\n",
    "Veamos como `SGDClassifier` toma sus decisiones para la clasificación.\n",
    "\n",
    "Para cada instancia calcula una puntuación basada en una **función de decisión**.\n",
    "\n",
    "Si esta puntuación es mayor que el umbral, asigna la instancia a la clase positiva.\n",
    "\n",
    "En caso contrario asigna la instancia a la clase negativa.\n",
    "\n",
    "En la imágen inferior podemos dígitos que se esparcen desde la puntuación más baja (izquierda) hasta la más alta (derecha).\n",
    "\n",
    "Supongamos que el umbral de decisión se coloca en la parte central (entre ambos 5s), tendremos:\n",
    "\n",
    "* **4 positivos verdaderos (5 reales) a la derecha de ese umbral.**\n",
    "* **1 falso positivo (realmente, un 6).**\n",
    "\n",
    "Por lo tanto, con ese umbral, la precisión es del 80% (4 de 5).\n",
    "Pero de los 6,5 reales, el clasificador solo detecta 4, por lo que el recall es del 67% (4 de 6).\n",
    "\n",
    "Si subimos el umbral (movemos hacia la derecha), el falso positivo (el 6) se convierte en un verdadero negativo, aumentando así la precisión (hasta el 100% en este caso), pero un verdadero positivo se convierte en un falso negativo, disminuyendo el recall hasta un 50%.\n",
    "\n",
    "Por el contrario, bajar el umbral aumenta el recall y reduce la precisión.\n",
    "\n",
    "![precision_recall](https://learning.oreilly.com/api/v2/epubs/urn:orm:book:9781098125967/files/assets/mls3_0304.png)\n",
    "\n",
    "*La compensación de precisión/retirada: las imágenes se clasifican por su puntuación de clasificador, y las que están por encima del umbral de decisión elegido se consideran positivas; cuanto mayor sea el umbral, menor será la retirada, pero (en general) mayor será la precisión*\n",
    "\n",
    "-----------------------------------------------------------------------\n",
    "\n",
    "Sk-Learn no permite establecer el umbral directamente pero tenemos acceso a las puntuaciones de decisión que usa para hacer las predicciones.\n",
    "\n",
    "En vez de llamar al método `predict()` del clasificador, podemos llamar al objeto `decision_function()`, que retorna la puntuación para cada instancia y después usar cualquier umbral que queramos para hacer las predicciones basadas en esas puntuaciones."
   ]
  },
  {
   "cell_type": "code",
   "execution_count": 25,
   "id": "2be722fe",
   "metadata": {},
   "outputs": [
    {
     "data": {
      "text/plain": [
       "array([2164.22030239])"
      ]
     },
     "execution_count": 25,
     "metadata": {},
     "output_type": "execute_result"
    }
   ],
   "source": [
    "y_scores = sgd_clf.decision_function([some_digit])\n",
    "y_scores"
   ]
  },
  {
   "cell_type": "code",
   "execution_count": 26,
   "id": "e80fda3c",
   "metadata": {},
   "outputs": [
    {
     "data": {
      "text/plain": [
       "array([ True])"
      ]
     },
     "execution_count": 26,
     "metadata": {},
     "output_type": "execute_result"
    }
   ],
   "source": [
    "threshold = 0 # umbral\n",
    "y_some_digit_pred = (y_scores > threshold)\n",
    "y_some_digit_pred"
   ]
  },
  {
   "cell_type": "markdown",
   "id": "e06ce7d3",
   "metadata": {},
   "source": [
    "El `SGDClassifier` usa un umbral igual a 0, entonces el siguiente código retorna el mismo resultado que el método `predict()` (ej: True).\n",
    "\n",
    "Vamos a aumentar el umbral:"
   ]
  },
  {
   "cell_type": "code",
   "execution_count": 27,
   "id": "b903da41",
   "metadata": {},
   "outputs": [
    {
     "data": {
      "text/plain": [
       "array([False])"
      ]
     },
     "execution_count": 27,
     "metadata": {},
     "output_type": "execute_result"
    }
   ],
   "source": [
    "threshold = 3000\n",
    "y_some_digit_pred = (y_scores > threshold)\n",
    "y_some_digit_pred"
   ]
  },
  {
   "cell_type": "markdown",
   "id": "464b7f68",
   "metadata": {},
   "source": [
    "Esto confirma que **el aumento del umbral disminuye el recuerdo**.\n",
    "\n",
    "La imagen en realidad representa un 5 y el clasificador la detecta cuando el umbral es 0, pero no lo hace cuando el umbral aumenta a 3000.\n",
    "\n",
    "**Cómo decidimos que umbral usar?**\n",
    "\n",
    "Primero usamos la función `cross_val_predict()` para obtener las puntuaciones de todas las instancias del set de entrenamiento, pero esta vez especificamos que queremos retornar las puntuaciones en lugar de las predicciones:"
   ]
  },
  {
   "cell_type": "code",
   "execution_count": 28,
   "id": "b866316e",
   "metadata": {},
   "outputs": [],
   "source": [
    "y_scores = cross_val_predict(sgd_clf, X_train, y_train_5, cv=3, method=\"decision_function\")"
   ]
  },
  {
   "cell_type": "markdown",
   "id": "fd439496",
   "metadata": {},
   "source": [
    "Con estas puntuaciones, usamos la función `precision_recall_curve()` para calcular la precisión y recall para todos los posibles umbrales (la función agrega una última precisión de **0** y un último recall de **1**, que corresponde a un umbral **infinito**)."
   ]
  },
  {
   "cell_type": "code",
   "execution_count": 29,
   "id": "a2c41922",
   "metadata": {},
   "outputs": [],
   "source": [
    "from sklearn.metrics import precision_recall_curve\n",
    "\n",
    "precisions, recalls, thresholds = precision_recall_curve(y_train_5, y_scores)"
   ]
  },
  {
   "cell_type": "markdown",
   "id": "cb1f5a1f",
   "metadata": {},
   "source": [
    "Y por último, mostramos las la precisión y reacall como funciones del valor umbral.\n",
    "\n",
    "Vamos a mostrar el umbral de 3000 que seleccionamos:"
   ]
  },
  {
   "cell_type": "code",
   "execution_count": 30,
   "id": "61c56d30",
   "metadata": {},
   "outputs": [
    {
     "data": {
      "image/png": "[encoded data removed]",
      "text/plain": [
       "<Figure size 640x480 with 1 Axes>"
      ]
     },
     "metadata": {},
     "output_type": "display_data"
    }
   ],
   "source": [
    "plt.plot(thresholds, precisions[:-1], \"b--\", label=\"Precision\", linewidth=2)\n",
    "plt.plot(thresholds, recalls[:-1], \"g-\", label=\"Recall\", linewidth=2)\n",
    "plt.vlines(threshold, 0, 1.0, \"k\", \"dotted\", label=\"threshold\")\n",
    "[...]  # beautify the figure: add grid, legend, axis, labels, and circles\n",
    "plt.show()"
   ]
  },
  {
   "cell_type": "markdown",
   "id": "86a6b2bc",
   "metadata": {},
   "source": [
    "![precision_y_recall_frente_al_umbral](https://learning.oreilly.com/api/v2/epubs/urn:orm:book:9781098125967/files/assets/mls3_0305.png)\n",
    "\n",
    "En este valor umbral, la **precisión está cerca del 90% y el recall es de alrededor del 50%**.\n",
    "\n",
    "Otra forma de seleccionar una buena compensación de precisión/recall es **trazar la precisión directamente contra el recall**:\n",
    "\n",
    "![precision_vs_recall](https://learning.oreilly.com/api/v2/epubs/urn:orm:book:9781098125967/files/assets/mls3_0306.png)"
   ]
  },
  {
   "cell_type": "markdown",
   "id": "8f41f54b",
   "metadata": {},
   "source": [
    "Podemos observar que la precisión **comienza a caer bruscamente en alrededor del 80%** del recall.\n",
    "\n",
    "Probablemente queramos obtener una compensación precisión/recall **justo antes** de esa caída, por ejemplo, alrededor del 60%.\n",
    "\n",
    "La elección dependerá del proyecto.\n",
    "\n",
    "**Supongamos que estamos buscando un 90% de precisión**.\n",
    "\n",
    "Podemos usar el primer plot (imagen impresa de la función) para encontrar el umbral que necesitamos usar, pero esto no es muy preciso.\n",
    "\n",
    "De forma alternativa, **podemos buscar el menor umbral que nos de, como mínimo, un 90% de precisión**.\n",
    "\n",
    "Pero primero, podemos usar el método array de NumPy `argmax()`.\n",
    "Esto retorna el primer índice del valor máximo, que es el primer valor `True` en este caso:"
   ]
  },
  {
   "cell_type": "code",
   "execution_count": 31,
   "id": "d25a2bf7",
   "metadata": {},
   "outputs": [
    {
     "data": {
      "text/plain": [
       "3370.0194991439557"
      ]
     },
     "execution_count": 31,
     "metadata": {},
     "output_type": "execute_result"
    }
   ],
   "source": [
    "idx_for_90_precision = (precisions >= 0.90).argmax()\n",
    "threshold_for_90_precision = thresholds[idx_for_90_precision]\n",
    "\n",
    "threshold_for_90_precision"
   ]
  },
  {
   "cell_type": "markdown",
   "id": "3b79f58b",
   "metadata": {},
   "source": [
    "Para hacer predicciones (ahora en el set de entrenamiento), en vez de llamar al clasificador `predict()`, podemos correr este código:"
   ]
  },
  {
   "cell_type": "code",
   "execution_count": 32,
   "id": "483674a8",
   "metadata": {},
   "outputs": [],
   "source": [
    "y_train_pred_90 = (y_scores >= threshold_for_90_precision)"
   ]
  },
  {
   "cell_type": "markdown",
   "id": "5f1ee7e9",
   "metadata": {},
   "source": [
    "Comprobemos la precisión y recall de estas predicciones:"
   ]
  },
  {
   "cell_type": "code",
   "execution_count": 33,
   "id": "d4c0dde1",
   "metadata": {},
   "outputs": [
    {
     "data": {
      "text/plain": [
       "0.4799852425751706"
      ]
     },
     "execution_count": 33,
     "metadata": {},
     "output_type": "execute_result"
    }
   ],
   "source": [
    "precision_score(y_train_5, y_train_pred_90)\n",
    "recall_at_90_precision = recall_score(y_train_5, y_train_pred_90)\n",
    "\n",
    "recall_at_90_precision"
   ]
  },
  {
   "cell_type": "markdown",
   "id": "344b79ce",
   "metadata": {},
   "source": [
    "Perfecto!\n",
    "\n",
    "Ahora tenemos un clasificador con una precisión del 90%.\n",
    "\n",
    "Es muy fácil crear un clasificador con casi cualquier precisión que queramos:\n",
    "\n",
    "Simplemente se establece un umbral lo suficientemente alto y listo.\n",
    "\n",
    "**Pero espera!**:\n",
    "\n",
    "**Un clasificador de alta precisión no es muy útil si su recall es demasiado bajo.**\n",
    "\n",
    "Para muchas predicciones, el 48% de recall no sería nada bueno.\n",
    "\n",
    "</br></br>\n",
    "\n",
    "**--------------/ CONSEJO /--------------**\n",
    "\n",
    "*Si alguien dice: \"Alcancemos el 99 % de precisión\", deberías preguntar: \"¿En qué recuerdo?\"*\n",
    "\n",
    "-------------------------------------"
   ]
  },
  {
   "cell_type": "markdown",
   "id": "e45f9320",
   "metadata": {},
   "source": [
    "### La curva de ROC\n",
    "\n",
    "La *curva de la característica de funcionamiento del receptor* (ROC) es otra herramienta usada en los **clasificadores binarios**.\n",
    "\n",
    "Similar a la curva de precisión/recall, pero en lugar de trazar la precisión frente al recall, traza la **tasa de positivos verdaderos** (otro nombre para el recall) frente a **tasa de falsos positivos** (FPR).\n",
    "\n",
    "El **FPR** (también llamado *caída*) es la proporción de casos negativos que se clasifican incorrectamente como positivos.\n",
    "\n",
    "Es igual a **(1 - *tasa negativa verdadera* (TNR))**, que es la proporción de casos negativos que se clasifican correctamente como negativas.\n",
    "\n",
    "El TNR también se llama ***especificidad***.\n",
    "\n",
    "Por lo tanto, la curva de ROC representa la *sensibilidad* (recall) frente a la *especificidad* de 1.\n",
    "\n",
    "</br>\n",
    "\n",
    "Para imprimir la curva de ROC, primero usamos la función `roc_curve()` para calcular el TPR y el FPR para varios valores del umbral:"
   ]
  },
  {
   "cell_type": "code",
   "execution_count": 34,
   "id": "ea3cad95",
   "metadata": {},
   "outputs": [],
   "source": [
    "from sklearn.metrics import roc_curve\n",
    "\n",
    "fpr, tpr, thresholds = roc_curve(y_train_5, y_scores)"
   ]
  },
  {
   "cell_type": "markdown",
   "id": "ed92e8f3",
   "metadata": {},
   "source": [
    "Después podemos **imprimir el FPR contra el TPR** usando Matplotlib.\n",
    "\n",
    "Para encontrar el punto que corresponde al 90% de precisión, necesitamos buscar el índice del umbral deseado. \n",
    "\n",
    "Dado que los umbrales se enumeran en orden decreciente en este caso, usamos **<=** en lugar de **>=** en la primera línea:"
   ]
  },
  {
   "cell_type": "code",
   "execution_count": 35,
   "id": "45bd72f6",
   "metadata": {},
   "outputs": [
    {
     "data": {
      "image/png": "[encoded data removed]",
      "text/plain": [
       "<Figure size 640x480 with 1 Axes>"
      ]
     },
     "metadata": {},
     "output_type": "display_data"
    }
   ],
   "source": [
    "idx_for_threshold_at_90 = (thresholds <= threshold_for_90_precision).argmax()\n",
    "tpr_90, fpr_90 = tpr[idx_for_threshold_at_90], fpr[idx_for_threshold_at_90]\n",
    "\n",
    "plt.plot(fpr, tpr, linewidth=2, label=\"ROC curve\")\n",
    "plt.plot([0, 1], [0, 1], 'k:', label=\"Random classifier's ROC curve\")\n",
    "plt.plot([fpr_90], [tpr_90], \"ko\", label=\"Threshold for 90% precision\")\n",
    "[...]  # beautify the figure: add labels, grid, legend, arrow, and text\n",
    "plt.show()"
   ]
  },
  {
   "cell_type": "markdown",
   "id": "5cf55473",
   "metadata": {},
   "source": [
    "![Una curva ROC que traza la tasa de falsos positivos contra la tasa de verdaderos positivos para todos los umbrales posibles; el círculo negro resalta la proporción elegida - con un 90 % de precisión y un 48 % de recuperación](https://learning.oreilly.com/api/v2/epubs/urn:orm:book:9781098125967/files/assets/mls3_0307.png)\n",
    "\n",
    "\n",
    "Una vez más, hay una compensación:\n",
    "\n",
    "Cuanto mayor es el recall (TPR), más falsos positivos (FPR) produce el clasificador.\n",
    "\n",
    "La línea de puntos represneta la curva de ROC de un clasificador puramente aleatorio; **un buen clasificador se mantiene lo más lejos posible de esa línea** (hacia la esquina superior izquierda).\n",
    "\n",
    "Una forma de **medir los clasificadores** es medir el *área de trabajo de la curva* **(AUC)**.\n",
    "\n",
    "Un clasificador perfecto tendrá un AUC ROC igual a 1, mientras que un clasificador puramente aleatorio tendrá un AUC ROC igual a 0,5. Scikit-Learn proporciona una función para estimar el AUC de ROC:"
   ]
  },
  {
   "cell_type": "code",
   "execution_count": 36,
   "id": "6e122454",
   "metadata": {},
   "outputs": [
    {
     "data": {
      "text/plain": [
       "0.9604938554008616"
      ]
     },
     "execution_count": 36,
     "metadata": {},
     "output_type": "execute_result"
    }
   ],
   "source": [
    "from sklearn.metrics import roc_auc_score\n",
    "\n",
    "roc_auc_score(y_train_5, y_scores)"
   ]
  },
  {
   "cell_type": "markdown",
   "id": "3db8f6c0",
   "metadata": {},
   "source": [
    "**CONSEJO:**\n",
    "\n",
    "--------------------------------------------------------------\n",
    "\n",
    "Debido a que la curva de ROC es muy parecida a la curva de precisión/recall (PR), es posible que te preguntes cómo decidir **cuál usar**.\n",
    "\n",
    "Como regla general se debe **preferir la curva precisión/recall (PR)** siempre que: \n",
    "\n",
    "- **La clase positiva sea rara**\n",
    "\n",
    "- **Cuando te preocupes más por los falsos positivos**.\n",
    "\n",
    "De lo contrario, usar la curva de ROC.\n",
    "\n",
    "**Ej**: Mirando la curva de ROC anterior (y la puntuación de ROC AUC) podríamos pensar que el clasificador es realmente bueno.\n",
    "\n",
    "Pero esto se debe, principalmente, a que hay pocos positivos (**5s**) en comparación con los negativos (**NO-5s**).\n",
    "\n",
    "Por el contrario, la curva de PR deja claro que **el clasificador tiene margen de mejora** (la curva podría estar mas cerca de la esquina superior derecha). \n",
    "\n",
    "--------------------------------------------------------------"
   ]
  },
  {
   "cell_type": "markdown",
   "id": "3844aa21",
   "metadata": {},
   "source": [
    "Ahora vamos a crear un clasificador `RandomForestClassifier` cuya curva PR y puntuación F1 podemos comparar con las del `SGDClassifier`:"
   ]
  },
  {
   "cell_type": "code",
   "execution_count": 37,
   "id": "fd4c58dd",
   "metadata": {},
   "outputs": [],
   "source": [
    "from sklearn.ensemble import RandomForestClassifier\n",
    "\n",
    "forest_clf = RandomForestClassifier(random_state=42)"
   ]
  },
  {
   "cell_type": "markdown",
   "id": "7d5a6f0e",
   "metadata": {},
   "source": [
    "La función `precision_recall_curve()` espera etiquetas y puntuaciones para cada instancia, por lo que necesitamos entrenar un clasificador Random Forest y hacer que asigne una puntuación a cada instancia.\n",
    "\n",
    "Pero la clase `RandomForestClassifier` no tiene un método `decision_function()` debido a la forma en la que trabaja.\n",
    "\n",
    "Afortunadamente tiene un método `predict_proba()` que retorna probabilidades de clase para cada instancia, por lo que debe funcionar bien.\n",
    "\n",
    "Podemos llamara a la función `cross_val_predict()` para entrenar el `RandomForestClassifier` usando validación-cruzada y haciendo que prediga probabilidades de clase para cada imagen de la siguiente forma:"
   ]
  },
  {
   "cell_type": "code",
   "execution_count": 38,
   "id": "8e0a807a",
   "metadata": {},
   "outputs": [],
   "source": [
    "y_probas_forest = cross_val_predict(forest_clf, X_train, y_train_5, cv=3, method=\"predict_proba\")"
   ]
  },
  {
   "cell_type": "markdown",
   "id": "e5bf4477",
   "metadata": {},
   "source": [
    "Echemos un vistazo a las probabilidades de la clase para las dos primeras imagenes del conjunto de entrenamiento:"
   ]
  },
  {
   "cell_type": "code",
   "execution_count": 39,
   "id": "69b76251",
   "metadata": {},
   "outputs": [
    {
     "data": {
      "text/plain": [
       "array([[0.11, 0.89],\n",
       "       [0.99, 0.01]])"
      ]
     },
     "execution_count": 39,
     "metadata": {},
     "output_type": "execute_result"
    }
   ],
   "source": [
    "y_probas_forest[:2]"
   ]
  },
  {
   "cell_type": "markdown",
   "id": "eaf756f6",
   "metadata": {},
   "source": [
    "El modelo predice que:\n",
    "\n",
    "- Primera imagen: **Positiva** con un **89%** de probabilidad.\n",
    "- Segunda imagen: **Negativa** con un **99%** de probabilidad.\n",
    "\n",
    "Si sumamos las filas, en cada una se obtiene 100%."
   ]
  },
  {
   "cell_type": "markdown",
   "id": "0a40bf73",
   "metadata": {},
   "source": [
    "**CUIDADO!**\n",
    "\n",
    "Estas son probabilidades estimadas, **NO** reales.\n",
    "\n",
    "Ej: Si observa todas las imágenes que el modelo clasificó como positivas con una probabilidad estimada entre el 50 % y el 60 %, aproximadamente el 94 % de ellas son realmente positivas.\n",
    "\n",
    "Por lo tanto, las probabilidades estimadas del modelo eran demasiado bajas en este caso, pero los modelos también pueden tener un exceso de confianza.\n",
    "\n",
    "El paquete `sklearn.calibration` contiene herramientas para calibrar las probabilidades estimadas y acercarlas mucho más a las probabilidades reales."
   ]
  },
  {
   "cell_type": "markdown",
   "id": "2bdc982f",
   "metadata": {},
   "source": [
    "---------------------------------------------------------------------\n",
    "La segunda columna contiene las probabilidades estimadas para la clase positiva, así que vamos a pasarlas a la función `precision_recall_curve()`:"
   ]
  },
  {
   "cell_type": "code",
   "execution_count": 40,
   "id": "80521ca0",
   "metadata": {},
   "outputs": [],
   "source": [
    "y_scores_forest = y_probas_forest[:, 1]\n",
    "\n",
    "precisions_forest, recalls_forest, thresholds_forest = precision_recall_curve(y_train_5, y_scores_forest)"
   ]
  },
  {
   "cell_type": "markdown",
   "id": "fe410b2c",
   "metadata": {},
   "source": [
    "Ahora estamos listos para trazar la curva de recall.\n",
    "\n",
    "Es útil trazar la primera curva de PR también para ver como ser comparan."
   ]
  },
  {
   "cell_type": "code",
   "execution_count": 41,
   "id": "6e98cd05",
   "metadata": {},
   "outputs": [
    {
     "data": {
      "image/png": "[encoded data removed]",
      "text/plain": [
       "<Figure size 640x480 with 1 Axes>"
      ]
     },
     "metadata": {},
     "output_type": "display_data"
    }
   ],
   "source": [
    "plt.plot(recalls_forest, precisions_forest, \"b-\", linewidth=2, label=\"Random Forest\")\n",
    "\n",
    "plt.plot(recalls, precisions, \"--\", linewidth=2, label=\"SGD\")\n",
    "[...]  # beautify the figure: add labels, grid, and legend\n",
    "\n",
    "plt.show()"
   ]
  },
  {
   "cell_type": "markdown",
   "id": "1fcc926f",
   "metadata": {},
   "source": [
    "![comparacion_curvas_PR](https://learning.oreilly.com/api/v2/epubs/urn:orm:book:9781098125967/files/assets/mls3_0308.png)\n",
    "\n",
    "*El clasificador Random Forest es superior al clasificador SGD porque su curva PR está mucho más cerca de la esquina superior derecha, y tiene un AUC y F1 score mayor*"
   ]
  },
  {
   "cell_type": "code",
   "execution_count": 44,
   "id": "15499cd5",
   "metadata": {},
   "outputs": [
    {
     "data": {
      "text/plain": [
       "0.9274509803921569"
      ]
     },
     "execution_count": 44,
     "metadata": {},
     "output_type": "execute_result"
    }
   ],
   "source": [
    "y_train_pred_forest = y_probas_forest[:, 1] >= 0.5  # probabilidad positiva ≥ 50%\n",
    "\n",
    "f1_score(y_train_5, y_train_pred_forest)"
   ]
  },
  {
   "cell_type": "code",
   "execution_count": 43,
   "id": "e0e99121",
   "metadata": {},
   "outputs": [
    {
     "data": {
      "text/plain": [
       "0.9983436731328145"
      ]
     },
     "execution_count": 43,
     "metadata": {},
     "output_type": "execute_result"
    }
   ],
   "source": [
    "roc_auc_score(y_train_5, y_scores_forest)"
   ]
  },
  {
   "cell_type": "markdown",
   "id": "77b628ba",
   "metadata": {},
   "source": [
    "--------------------------------------------------------------------\n",
    "Intenta medir la precisión y las puntuaciones de recall: deberías encontrar alrededor del 99,1 % de precisión y un 86,6 % de recall. \n",
    "\n",
    "¡No está nada mal!\n",
    "\n",
    "Ahora sabes cómo entrenar clasificadores binarios, elegir la métrica adecuada para tu tarea, evaluar sus clasificadores mediante validación cruzada, seleccionar la compensación de precisión/retirada que se adapte a sus necesidades y utilizar varias métricas y curvas para comparar varios modelos. \n",
    "\n",
    "Estamos listo para intentar detectar algo más que los 5s."
   ]
  },
  {
   "cell_type": "markdown",
   "id": "88250ed9",
   "metadata": {},
   "source": [
    "### Clasificación multiclase"
   ]
  },
  {
   "cell_type": "code",
   "execution_count": null,
   "id": "56e3225c",
   "metadata": {},
   "outputs": [],
   "source": []
  }
 ],
 "metadata": {
  "kernelspec": {
   "display_name": "Python 3 (ipykernel)",
   "language": "python",
   "name": "python3"
  },
  "language_info": {
   "codemirror_mode": {
    "name": "ipython",
    "version": 3
   },
   "file_extension": ".py",
   "mimetype": "text/x-python",
   "name": "python",
   "nbconvert_exporter": "python",
   "pygments_lexer": "ipython3",
   "version": "3.9.13"
  }
 },
 "nbformat": 4,
 "nbformat_minor": 5
}
