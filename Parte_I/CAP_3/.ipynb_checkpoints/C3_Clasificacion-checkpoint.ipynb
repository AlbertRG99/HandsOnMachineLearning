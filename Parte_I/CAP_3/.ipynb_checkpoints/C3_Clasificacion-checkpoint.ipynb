{
 "cells": [
  {
   "cell_type": "markdown",
   "id": "d0c3ba60",
   "metadata": {},
   "source": [
    "## Capítulo 3: Clasificación\n",
    "\n",
    "\n",
    "En el capítulo 1 se mencionó que las tareas de aprendizaje supervisado más comunes son la **regresión** (predicción de valores) y la **clasificación** (predicción de clases).\n",
    "\n",
    "En el capítulo 2 se exploró una tarea de **regresión**, prediciendo los valores de la vivienda, usando algoritmos como la regresión lineal, Random Forest y árboles aleatorios.\n",
    "\n",
    "En este capítulo nos centraremos en **SISTEMAS DE CLASIFICACIÓN**."
   ]
  },
  {
   "cell_type": "markdown",
   "id": "0773d15f",
   "metadata": {},
   "source": [
    "### MNIST\n",
    "\n",
    "Vamos a usar el conjunto de datos de MNIST, que contiene 70 000 imágenes reducidas de dígitos escritas a mano.\n",
    "\n",
    "Cada imágen está etiquetada con el código que representa.\n",
    "\n",
    "Es el \"hola mundo\" del aprendizaje automático.\n",
    "\n",
    "</br></br>\n",
    "Vamos a usar la funcionalidad de Sklearn para descargar el conjunto de datos de MNIST de OpenML:"
   ]
  },
  {
   "cell_type": "code",
   "execution_count": 1,
   "id": "e939de3b",
   "metadata": {},
   "outputs": [],
   "source": [
    "from sklearn.datasets import fetch_openml\n",
    "\n",
    "mnist = fetch_openml('mnist_784', as_frame=False)"
   ]
  },
  {
   "cell_type": "markdown",
   "id": "92eddf53",
   "metadata": {},
   "source": [
    "El paquete `sklear.datasets` contiene en su mayoría 3 tipos de funciones:\n",
    "\n",
    "- Funciones `fetch_*`: Como `fetch_openml()` para descargar datasets de la vida real.\n",
    "\n",
    "- Funciones `load_*` para cargar pequeños datasets de juguete.\n",
    "\n",
    "- Funciones `make_*` para generar datasets falsos, prácticos para test.\n",
    "\n",
    "\n",
    "Normalmente contienen los siguientes atributos:\n",
    "\n",
    "* **\"DESCR\"**: Descripción del conjunto de datos.\n",
    "\n",
    "* **\"data\"**: Datos de entrada en forma de matriz NumPy 2D.\n",
    "\n",
    "* **\"target\"**: Etiquetas en forma de matriz NumPy 1D.\n",
    "\n",
    "\n",
    "La función `fetch_openml()`, de forma predeterminada, retorna las entradas como Pandas DataFrame y las etiquetas como Pandas Series.\n",
    "\n",
    "Pero el conjunto de datos de MNIST contiene imágenes y **los DataFrame no son buenos para eso**.\n",
    "\n",
    "Es preferible configurar `as_frame=False` para tener los datos como matrices NumPy.\n",
    "\n",
    "Veamos estas matrices:"
   ]
  },
  {
   "cell_type": "code",
   "execution_count": 2,
   "id": "4e94a969",
   "metadata": {},
   "outputs": [],
   "source": [
    "X, y = mnist.data, mnist.target"
   ]
  },
  {
   "cell_type": "code",
   "execution_count": 3,
   "id": "a2b0fbce",
   "metadata": {},
   "outputs": [
    {
     "data": {
      "text/plain": [
       "array([[0., 0., 0., ..., 0., 0., 0.],\n",
       "       [0., 0., 0., ..., 0., 0., 0.],\n",
       "       [0., 0., 0., ..., 0., 0., 0.],\n",
       "       ...,\n",
       "       [0., 0., 0., ..., 0., 0., 0.],\n",
       "       [0., 0., 0., ..., 0., 0., 0.],\n",
       "       [0., 0., 0., ..., 0., 0., 0.]])"
      ]
     },
     "execution_count": 3,
     "metadata": {},
     "output_type": "execute_result"
    }
   ],
   "source": [
    "X"
   ]
  },
  {
   "cell_type": "code",
   "execution_count": 4,
   "id": "a2cb47ce",
   "metadata": {},
   "outputs": [
    {
     "data": {
      "text/plain": [
       "(70000, 784)"
      ]
     },
     "execution_count": 4,
     "metadata": {},
     "output_type": "execute_result"
    }
   ],
   "source": [
    "X.shape"
   ]
  },
  {
   "cell_type": "code",
   "execution_count": 5,
   "id": "36cc0b01",
   "metadata": {},
   "outputs": [
    {
     "data": {
      "text/plain": [
       "array(['5', '0', '4', ..., '4', '5', '6'], dtype=object)"
      ]
     },
     "execution_count": 5,
     "metadata": {},
     "output_type": "execute_result"
    }
   ],
   "source": [
    "y"
   ]
  },
  {
   "cell_type": "code",
   "execution_count": 6,
   "id": "f2ad4a68",
   "metadata": {},
   "outputs": [
    {
     "data": {
      "text/plain": [
       "(70000,)"
      ]
     },
     "execution_count": 6,
     "metadata": {},
     "output_type": "execute_result"
    }
   ],
   "source": [
    "y.shape"
   ]
  },
  {
   "cell_type": "markdown",
   "id": "41f729da",
   "metadata": {},
   "source": [
    "Hay 70.000 imágenes y cada una de ellas contiene **784** features.\n",
    "\n",
    "Esto de debe a que cada imagen tiene una resolución de **28x28** píxeles y cada característica representa la intensidad del píxel de **0 (white) - 255 (black)**.\n",
    "\n",
    "Tomemos una imagen del dataset.\n",
    "\n",
    "Todo lo que tenemos que hacer es tomar el **vector de características de esa instancia** (imagen), redimensionarlo (`reshape`) a un array de 28x28 y mostrarlo por pantalla usando matplotlib con el ajuste de color `cmap=\"binary\"` para obtener una escapa de grises conde el 0 es blanco y el 255 es negro."
   ]
  },
  {
   "cell_type": "code",
   "execution_count": 7,
   "id": "f928f23c",
   "metadata": {},
   "outputs": [
    {
     "data": {
      "image/png": "[encoded data removed]",
      "text/plain": [
       "<Figure size 640x480 with 1 Axes>"
      ]
     },
     "metadata": {},
     "output_type": "display_data"
    }
   ],
   "source": [
    "import matplotlib.pyplot as plt\n",
    "\n",
    "def plot_digit(image_data):\n",
    "    image = image_data.reshape(28, 28)\n",
    "    plt.imshow(image, cmap=\"binary\")\n",
    "    plt.axis(\"off\")\n",
    "    \n",
    "some_digit = X[0] # El primer elemento del dataset (número 5)\n",
    "plot_digit(some_digit)\n",
    "plt.show()"
   ]
  },
  {
   "cell_type": "markdown",
   "id": "1a256172",
   "metadata": {},
   "source": [
    "Si comprobamos su etiqueta, nos dice que efectivamente es un **5**."
   ]
  },
  {
   "cell_type": "code",
   "execution_count": 8,
   "id": "da3d7c55",
   "metadata": {},
   "outputs": [
    {
     "data": {
      "text/plain": [
       "'5'"
      ]
     },
     "execution_count": 8,
     "metadata": {},
     "output_type": "execute_result"
    }
   ],
   "source": [
    "y[0]"
   ]
  },
  {
   "cell_type": "markdown",
   "id": "e2fc48bc",
   "metadata": {},
   "source": [
    "Normalmente separamos una pequeña parte del dataset y lo usamos para test antes de inspeccionar los elementos.\n",
    "\n",
    "En este caso no es necesario porque la herramienta de `fetch_openml()` que estamos usando ya ha separado previamente los sets en **entrenamiento (primeras 60.000 imagenes)** y **test (10.000 imagenes)**."
   ]
  },
  {
   "cell_type": "code",
   "execution_count": 9,
   "id": "cd94c5e6",
   "metadata": {},
   "outputs": [],
   "source": [
    "X_train, X_test, y_train, y_test = X[:60000], X[60000:], y[:60000], y[60000:]"
   ]
  },
  {
   "cell_type": "markdown",
   "id": "814edca2",
   "metadata": {},
   "source": [
    "El conjunto de entrenamiento ya viene barajado para nosotros, lo cual garantiza que todos los pliegues de cross-validation serán similares (no queremos que a algún pliegue le falten dígitos).\n",
    "\n",
    "Además, algunos algoritmos de aprendizaje automático son sensibles al orden de las instancias de entrenamiento y funcionan mal si ven muchas instancias similares seguidas (no randomizadas).\n",
    "\n",
    "Hay que mezclar previamente el conjunto de datos."
   ]
  },
  {
   "cell_type": "markdown",
   "id": "bee7d607",
   "metadata": {},
   "source": [
    "![muestra](https://learning.oreilly.com/api/v2/epubs/urn:orm:book:9781098125967/files/assets/mls3_0302.png)"
   ]
  },
  {
   "cell_type": "markdown",
   "id": "d8188a46",
   "metadata": {},
   "source": [
    "### Entrenando un clasificador binario\n",
    "\n",
    "Vamos a simplificar el problema e **identificar sólo un dígito**, el número 5.\n",
    "\n",
    "Esto es un \"detector de 5\" y se considera un *clasificador binario* que es capaz de distinguir entre dos clases:\n",
    "\n",
    "* ES 5\n",
    "* NO ES 5\n",
    "\n",
    "Primero creamos los vectores de entrenamiento y test propios para este ejercicio:"
   ]
  },
  {
   "cell_type": "code",
   "execution_count": 10,
   "id": "5e25dadd",
   "metadata": {},
   "outputs": [],
   "source": [
    "# True si es 5 y False si no lo es\n",
    "\n",
    "y_train_5 = (y_train == '5')\n",
    "y_test_5 = (y_test == '5')"
   ]
  },
  {
   "cell_type": "code",
   "execution_count": 11,
   "id": "3500bbdd",
   "metadata": {},
   "outputs": [
    {
     "data": {
      "text/plain": [
       "array([ True, False, False, ...,  True, False, False])"
      ]
     },
     "execution_count": 11,
     "metadata": {},
     "output_type": "execute_result"
    }
   ],
   "source": [
    "y_train_5"
   ]
  },
  {
   "cell_type": "code",
   "execution_count": 12,
   "id": "93c682aa",
   "metadata": {},
   "outputs": [
    {
     "data": {
      "text/plain": [
       "array([False, False, False, ..., False,  True, False])"
      ]
     },
     "execution_count": 12,
     "metadata": {},
     "output_type": "execute_result"
    }
   ],
   "source": [
    "y_test_5"
   ]
  },
  {
   "cell_type": "markdown",
   "id": "668ca829",
   "metadata": {},
   "source": [
    "Lo único que hemos cambiado es el vector de etiquetas, que en vez de tener 10 posibilidades, ahora tiene 2 (Sí, No)."
   ]
  },
  {
   "cell_type": "markdown",
   "id": "0bcb235f",
   "metadata": {},
   "source": [
    "Ahora vamos a tomar un clasificador y entrenarlo.\n",
    "\n",
    "Una buena forma de empezar es usar el clasificador ***stochastic gradient descent*** (SGD) o descenso del gradiente estocástico.\n",
    "\n",
    "Está dentro de la clase `SGDClassifier` de SKLearn.\n",
    "\n",
    "Este clasificador es capaz de manejar datasets muy grandes de forma eficiente ya que toma las instancias de forma independiente (una por una) y hace que sea un **algoritmo muy conveniente para el aprendizaje online**."
   ]
  },
  {
   "cell_type": "code",
   "execution_count": 13,
   "id": "ae8726dc",
   "metadata": {},
   "outputs": [
    {
     "data": {
      "text/plain": [
       "SGDClassifier(random_state=42)"
      ]
     },
     "execution_count": 13,
     "metadata": {},
     "output_type": "execute_result"
    }
   ],
   "source": [
    "# Creamos un SGDClassifier y lo entrenamos con todo el conjunto de entrenamiento\n",
    "\n",
    "from sklearn.linear_model import SGDClassifier\n",
    "\n",
    "sgd_clf = SGDClassifier(random_state=42)\n",
    "sgd_clf.fit(X_train, y_train_5)"
   ]
  },
  {
   "cell_type": "markdown",
   "id": "3efe19ab",
   "metadata": {},
   "source": [
    "Ahora podemos usarlo para detectar imágenes del número 5:"
   ]
  },
  {
   "cell_type": "code",
   "execution_count": 14,
   "id": "967d6831",
   "metadata": {},
   "outputs": [
    {
     "data": {
      "text/plain": [
       "array([ True])"
      ]
     },
     "execution_count": 14,
     "metadata": {},
     "output_type": "execute_result"
    }
   ],
   "source": [
    "sgd_clf.predict([some_digit])"
   ]
  },
  {
   "cell_type": "markdown",
   "id": "c6fe2082",
   "metadata": {},
   "source": [
    "Nos da como resultado **True**, lo que significa que es un 5.\n",
    "\n",
    "\n",
    "Una vez comprobado que funciona, vamos a evaluar el rendimiento."
   ]
  },
  {
   "cell_type": "markdown",
   "id": "6013c533",
   "metadata": {},
   "source": [
    "### Medidas de rendimiento\n",
    "\n",
    "**Evaluar un clasificador suele ser mas complejo que evaluar un regresor**.\n",
    "\n",
    "Hay una gran cantidad de formas de medir el rendimiento así que prepara un café que empezamos."
   ]
  }
 ],
 "metadata": {
  "kernelspec": {
   "display_name": "Python 3 (ipykernel)",
   "language": "python",
   "name": "python3"
  },
  "language_info": {
   "codemirror_mode": {
    "name": "ipython",
    "version": 3
   },
   "file_extension": ".py",
   "mimetype": "text/x-python",
   "name": "python",
   "nbconvert_exporter": "python",
   "pygments_lexer": "ipython3",
   "version": "3.9.13"
  }
 },
 "nbformat": 4,
 "nbformat_minor": 5
}
