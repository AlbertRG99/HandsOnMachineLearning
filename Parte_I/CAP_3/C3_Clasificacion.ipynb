{
 "cells": [
  {
   "cell_type": "markdown",
   "id": "d0c3ba60",
   "metadata": {},
   "source": [
    "## Capítulo 3: Clasificación\n",
    "\n",
    "\n",
    "En el capítulo 1 se mencionó que las tareas de aprendizaje supervisado más comunes son la **regresión** (predicción de valores) y la **clasificación** (predicción de clases).\n",
    "\n",
    "En el capítulo 2 se exploró una tarea de **regresión**, prediciendo los valores de la vivienda, usando algoritmos como la regresión lineal, Random Forest y árboles aleatorios.\n",
    "\n",
    "En este capítulo nos centraremos en **SISTEMAS DE CLASIFICACIÓN**."
   ]
  },
  {
   "cell_type": "markdown",
   "id": "0773d15f",
   "metadata": {},
   "source": [
    "### MNIST\n",
    "\n",
    "Vamos a usar el conjunto de datos de MNIST, que contiene 70 000 imágenes reducidas de dígitos escritas a mano.\n",
    "\n",
    "Cada imágen está etiquetada con el código que representa.\n",
    "\n",
    "Es el \"hola mundo\" del aprendizaje automático.\n",
    "\n",
    "</br></br>\n",
    "Vamos a usar la funcionalidad de Sklearn para descargar el conjunto de datos de MNIST de OpenML:"
   ]
  },
  {
   "cell_type": "code",
   "execution_count": 1,
   "id": "e939de3b",
   "metadata": {},
   "outputs": [],
   "source": [
    "from sklearn.datasets import fetch_openml\n",
    "\n",
    "mnist = fetch_openml('mnist_784', as_frame=False)"
   ]
  },
  {
   "cell_type": "markdown",
   "id": "08ce9d1b",
   "metadata": {},
   "source": [
    "El paquete `sklear.datasets` contiene en su mayoría 3 tipos de funciones:\n",
    "\n",
    "- Funciones `fetch_*`: Como `fetch_openml()` para descargar datasets de la vida real.\n",
    "\n",
    "- Funciones `load_*` para cargar pequeños datasets de juguete.\n",
    "\n",
    "- Funciones `make_*` para generar datasets falsos, prácticos para test.\n",
    "\n",
    "\n",
    "Normalmente contienen los siguientes atributos:\n",
    "\n",
    "* **\"DESCR\"**: Descripción del conjunto de datos.\n",
    "\n",
    "* **\"data\"**: Datos de entrada en forma de matriz NumPy 2D.\n",
    "\n",
    "* **\"target\"**: Etiquetas en forma de matriz NumPy 1D.\n",
    "\n",
    "\n",
    "La función `fetch_openml()`, de forma predeterminada, retorna las entradas como Pandas DataFrame y las etiquetas como Pandas Series.\n",
    "\n",
    "Pero el conjunto de datos de MNIST contiene imágenes y **los DataFrame no son buenos para eso**.\n",
    "\n",
    "Es preferible configurar `as_frame=False` para tener los datos como matrices NumPy.\n",
    "\n",
    "Veamos estas matrices:"
   ]
  },
  {
   "cell_type": "code",
   "execution_count": 2,
   "id": "db6039e5",
   "metadata": {},
   "outputs": [],
   "source": [
    "X, y = mnist.data, mnist.target"
   ]
  },
  {
   "cell_type": "code",
   "execution_count": 3,
   "id": "d2555ec3",
   "metadata": {},
   "outputs": [
    {
     "data": {
      "text/plain": [
       "array([[0., 0., 0., ..., 0., 0., 0.],\n",
       "       [0., 0., 0., ..., 0., 0., 0.],\n",
       "       [0., 0., 0., ..., 0., 0., 0.],\n",
       "       ...,\n",
       "       [0., 0., 0., ..., 0., 0., 0.],\n",
       "       [0., 0., 0., ..., 0., 0., 0.],\n",
       "       [0., 0., 0., ..., 0., 0., 0.]])"
      ]
     },
     "execution_count": 3,
     "metadata": {},
     "output_type": "execute_result"
    }
   ],
   "source": [
    "X"
   ]
  },
  {
   "cell_type": "code",
   "execution_count": 4,
   "id": "1126455d",
   "metadata": {},
   "outputs": [
    {
     "data": {
      "text/plain": [
       "(70000, 784)"
      ]
     },
     "execution_count": 4,
     "metadata": {},
     "output_type": "execute_result"
    }
   ],
   "source": [
    "X.shape"
   ]
  },
  {
   "cell_type": "code",
   "execution_count": 5,
   "id": "9eece7bf",
   "metadata": {},
   "outputs": [
    {
     "data": {
      "text/plain": [
       "array(['5', '0', '4', ..., '4', '5', '6'], dtype=object)"
      ]
     },
     "execution_count": 5,
     "metadata": {},
     "output_type": "execute_result"
    }
   ],
   "source": [
    "y"
   ]
  },
  {
   "cell_type": "code",
   "execution_count": 6,
   "id": "2bf771e5",
   "metadata": {},
   "outputs": [
    {
     "data": {
      "text/plain": [
       "(70000,)"
      ]
     },
     "execution_count": 6,
     "metadata": {},
     "output_type": "execute_result"
    }
   ],
   "source": [
    "y.shape"
   ]
  },
  {
   "cell_type": "markdown",
   "id": "0659c4e5",
   "metadata": {},
   "source": [
    "Hay 70.000 imágenes y cada una de ellas contiene **784** features.\n",
    "\n",
    "Esto de debe a que cada imagen tiene una resolución de **28x28** píxeles y cada característica representa la intensidad del píxel de **0 (white) - 255 (black)**.\n",
    "\n",
    "Tomemos una imagen del dataset.\n",
    "\n",
    "Todo lo que tenemos que hacer es tomar el **vector de características de esa instancia** (imagen), redimensionarlo (`reshape`) a un array de 28x28 y mostrarlo por pantalla usando matplotlib con el ajuste de color `cmap=\"binary\"` para obtener una escapa de grises conde el 0 es blanco y el 255 es negro."
   ]
  },
  {
   "cell_type": "code",
   "execution_count": 7,
   "id": "72131d3f",
   "metadata": {},
   "outputs": [
    {
     "data": {
      "image/png": "[encoded data removed]",
      "text/plain": [
       "<Figure size 640x480 with 1 Axes>"
      ]
     },
     "metadata": {},
     "output_type": "display_data"
    }
   ],
   "source": [
    "import matplotlib.pyplot as plt\n",
    "\n",
    "def plot_digit(image_data):\n",
    "    image = image_data.reshape(28, 28)\n",
    "    plt.imshow(image, cmap=\"binary\")\n",
    "    plt.axis(\"off\")\n",
    "    \n",
    "some_digit = X[0] # El primer elemento del dataset (número 5)\n",
    "plot_digit(some_digit)\n",
    "plt.show()"
   ]
  },
  {
   "cell_type": "markdown",
   "id": "b832cc62",
   "metadata": {},
   "source": [
    "Si comprobamos su etiqueta, nos dice que efectivamente es un **5**."
   ]
  },
  {
   "cell_type": "code",
   "execution_count": 8,
   "id": "5a5fd42a",
   "metadata": {},
   "outputs": [
    {
     "data": {
      "text/plain": [
       "'5'"
      ]
     },
     "execution_count": 8,
     "metadata": {},
     "output_type": "execute_result"
    }
   ],
   "source": [
    "y[0]"
   ]
  },
  {
   "cell_type": "markdown",
   "id": "b8f65898",
   "metadata": {},
   "source": [
    "Normalmente separamos una pequeña parte del dataset y lo usamos para test antes de inspeccionar los elementos.\n",
    "\n",
    "En este caso no es necesario porque la herramienta de `fetch_openml()` que estamos usando ya ha separado previamente los sets en **entrenamiento (primeras 60.000 imagenes)** y **test (10.000 imagenes)**."
   ]
  },
  {
   "cell_type": "code",
   "execution_count": 9,
   "id": "9620285f",
   "metadata": {},
   "outputs": [],
   "source": [
    "X_train, X_test, y_train, y_test = X[:60000], X[60000:], y[:60000], y[60000:]"
   ]
  },
  {
   "cell_type": "markdown",
   "id": "1662d20b",
   "metadata": {},
   "source": [
    "El conjunto de entrenamiento ya viene barajado para nosotros, lo cual garantiza que todos los pliegues de cross-validation serán similares (no queremos que a algún pliegue le falten dígitos).\n",
    "\n",
    "Además, algunos algoritmos de aprendizaje automático son sensibles al orden de las instancias de entrenamiento y funcionan mal si ven muchas instancias similares seguidas (no randomizadas).\n",
    "\n",
    "Hay que mezclar previamente el conjunto de datos."
   ]
  },
  {
   "cell_type": "markdown",
   "id": "8955d4ed",
   "metadata": {},
   "source": [
    "![muestra](https://learning.oreilly.com/api/v2/epubs/urn:orm:book:9781098125967/files/assets/mls3_0302.png)"
   ]
  },
  {
   "cell_type": "markdown",
   "id": "3c8ca988",
   "metadata": {},
   "source": [
    "### Entrenando un clasificador binario\n",
    "\n",
    "Vamos a simplificar el problema e **identificar sólo un dígito**, el número 5.\n",
    "\n",
    "Esto es un \"detector de 5\" y se considera un *clasificador binario* que es capaz de distinguir entre dos clases:\n",
    "\n",
    "* ES 5\n",
    "* NO ES 5\n",
    "\n",
    "Primero creamos los vectores de entrenamiento y test propios para este ejercicio:"
   ]
  },
  {
   "cell_type": "code",
   "execution_count": 10,
   "id": "ea660a83",
   "metadata": {},
   "outputs": [],
   "source": [
    "# True si es 5 y False si no lo es\n",
    "\n",
    "y_train_5 = (y_train == '5')\n",
    "y_test_5 = (y_test == '5')"
   ]
  },
  {
   "cell_type": "code",
   "execution_count": 11,
   "id": "667981fa",
   "metadata": {},
   "outputs": [
    {
     "data": {
      "text/plain": [
       "array([ True, False, False, ...,  True, False, False])"
      ]
     },
     "execution_count": 11,
     "metadata": {},
     "output_type": "execute_result"
    }
   ],
   "source": [
    "y_train_5"
   ]
  },
  {
   "cell_type": "code",
   "execution_count": 12,
   "id": "2ba296c1",
   "metadata": {},
   "outputs": [
    {
     "data": {
      "text/plain": [
       "array([False, False, False, ..., False,  True, False])"
      ]
     },
     "execution_count": 12,
     "metadata": {},
     "output_type": "execute_result"
    }
   ],
   "source": [
    "y_test_5"
   ]
  },
  {
   "cell_type": "markdown",
   "id": "7186bb53",
   "metadata": {},
   "source": [
    "Lo único que hemos cambiado es el vector de etiquetas, que en vez de tener 10 posibilidades, ahora tiene 2 (Sí, No)."
   ]
  },
  {
   "cell_type": "markdown",
   "id": "64dd0961",
   "metadata": {},
   "source": [
    "Ahora vamos a tomar un clasificador y entrenarlo.\n",
    "\n",
    "Una buena forma de empezar es usar el clasificador ***stochastic gradient descent*** (SGD) o descenso del gradiente estocástico.\n",
    "\n",
    "Está dentro de la clase `SGDClassifier` de SKLearn.\n",
    "\n",
    "Este clasificador es capaz de manejar datasets muy grandes de forma eficiente ya que toma las instancias de forma independiente (una por una) y hace que sea un **algoritmo muy conveniente para el aprendizaje online**."
   ]
  },
  {
   "cell_type": "code",
   "execution_count": 13,
   "id": "b9bbfeda",
   "metadata": {},
   "outputs": [
    {
     "data": {
      "text/plain": [
       "SGDClassifier(random_state=42)"
      ]
     },
     "execution_count": 13,
     "metadata": {},
     "output_type": "execute_result"
    }
   ],
   "source": [
    "# Creamos un SGDClassifier y lo entrenamos con todo el conjunto de entrenamiento\n",
    "\n",
    "from sklearn.linear_model import SGDClassifier\n",
    "\n",
    "sgd_clf = SGDClassifier(random_state=42)\n",
    "sgd_clf.fit(X_train, y_train_5)"
   ]
  },
  {
   "cell_type": "markdown",
   "id": "873c17fb",
   "metadata": {},
   "source": [
    "Ahora podemos usarlo para detectar imágenes del número 5:"
   ]
  },
  {
   "cell_type": "code",
   "execution_count": 14,
   "id": "a847612e",
   "metadata": {},
   "outputs": [
    {
     "data": {
      "text/plain": [
       "array([ True])"
      ]
     },
     "execution_count": 14,
     "metadata": {},
     "output_type": "execute_result"
    }
   ],
   "source": [
    "sgd_clf.predict([some_digit])"
   ]
  },
  {
   "cell_type": "markdown",
   "id": "3c29b351",
   "metadata": {},
   "source": [
    "Nos da como resultado **True**, lo que significa que es un 5.\n",
    "\n",
    "\n",
    "Una vez comprobado que funciona, vamos a evaluar el rendimiento."
   ]
  },
  {
   "cell_type": "markdown",
   "id": "f3b5d670",
   "metadata": {},
   "source": [
    "### Medidas de rendimiento\n",
    "\n",
    "**Evaluar un clasificador suele ser mas complejo que evaluar un regresor**.\n",
    "\n",
    "Hay una gran cantidad de formas de medir el rendimiento así que prepara un café que empezamos.\n",
    "\n",
    "### > Medición de la precisión mediante la validación cruzada\n",
    "\n",
    "Una buena forma de evaluar el rendimiento es usar la validación cruzada como se hizo en el capítulo 2.\n",
    "\n",
    "Usamos `cross_val_score()` para evaluar el SGDClassifier, usando la validación cruzada `k-fold` con 3 pliegues (folds).\n",
    "\n",
    "* **RECUERDA**: La validación cruzada de K pliegues significa dividir el conjunto de entrenamiento en K pliegues (3 en este caso) y luego entrenar el modelo K veces, ofreciendo un pliegue diferente cada vez en la evaluación."
   ]
  },
  {
   "cell_type": "code",
   "execution_count": 15,
   "id": "1bb579bf",
   "metadata": {},
   "outputs": [
    {
     "data": {
      "text/plain": [
       "array([0.95035, 0.96035, 0.9604 ])"
      ]
     },
     "execution_count": 15,
     "metadata": {},
     "output_type": "execute_result"
    }
   ],
   "source": [
    "from sklearn.model_selection import cross_val_score\n",
    "\n",
    "cross_val_score(sgd_clf, X_train, y_train_5, cv=3, scoring=\"accuracy\")"
   ]
  },
  {
   "cell_type": "markdown",
   "id": "a49af2c8",
   "metadata": {},
   "source": [
    "Obtenemos una precisión por encima del 95% en todos los pliegues de validación.\n",
    "\n",
    "Pero antes de cantar victoria vamos a usar un **clasificador ficticio** (Dummy Classifier) que solo clasifica cada imagen en la **clase más frecuente** (en este caso es la clase negativa *no 5*)"
   ]
  },
  {
   "cell_type": "code",
   "execution_count": 16,
   "id": "493b7680",
   "metadata": {},
   "outputs": [
    {
     "name": "stdout",
     "output_type": "stream",
     "text": [
      "True\n"
     ]
    }
   ],
   "source": [
    "from sklearn.dummy import DummyClassifier\n",
    "\n",
    "dummy_clf = DummyClassifier()\n",
    "dummy_clf.fit(X_train, y_train)\n",
    "print( any(dummy_clf.predict(X_train)) ) # Imprimir False: 5s no detectados"
   ]
  },
  {
   "cell_type": "markdown",
   "id": "991246e4",
   "metadata": {},
   "source": [
    "Averiguamos la nueva precisión del modelo:"
   ]
  },
  {
   "cell_type": "code",
   "execution_count": 17,
   "id": "16f0d518",
   "metadata": {},
   "outputs": [
    {
     "data": {
      "text/plain": [
       "array([0.90965, 0.90965, 0.90965])"
      ]
     },
     "execution_count": 17,
     "metadata": {},
     "output_type": "execute_result"
    }
   ],
   "source": [
    "cross_val_score(dummy_clf, X_train, y_train_5, cv=3, scoring=\"accuracy\")"
   ]
  },
  {
   "cell_type": "markdown",
   "id": "d037326c",
   "metadata": {},
   "source": [
    "Tiene más del **90% de precisión!** \n",
    "\n",
    "Esto se debe a que solo hay alrededor de un 10% de imagenes con 5s, por lo que siempre adivines que una imagen no es un 5, tendrás razón el 90% de las veces.\n",
    "\n",
    "Esto demuestra que la precisión generalmente no es la mejor medida para evaluar los clasificadores, especialmente cuando se trata de **conjuntos de datos sesgados** (cuando algunas clases son mucho más frecuentes que otras <hay más NO 5s que 5s>).\n",
    "\n",
    "Otra forma mucho mejor de medir el rendimiento es mirar la **MATRIZ DE CONFUSIÓN** (CM)."
   ]
  },
  {
   "cell_type": "markdown",
   "id": "704ba975",
   "metadata": {},
   "source": [
    "---------------------------------------------------------------------\n",
    "\n",
    "    IMPLEMENTACIÓN DE LA VALIDACIÓN CRUZADA (OPCIONAL)\n",
    "    \n",
    "    \n",
    "Ocasionalmente vamos a necesitar tener más control sobre el proceso de validación cruzada del que SKlearn nos da.\n",
    "\n",
    "En este caso podemos implementar el proceso de validación cruzada manualmente.\n",
    "\n",
    "El siguiente código hace lo mismo que la función `cross_val_score()`:"
   ]
  },
  {
   "cell_type": "code",
   "execution_count": 18,
   "id": "4000e42b",
   "metadata": {},
   "outputs": [
    {
     "name": "stdout",
     "output_type": "stream",
     "text": [
      "0.95035\n",
      "0.96035\n",
      "0.9604\n"
     ]
    }
   ],
   "source": [
    "## OPCIONAL\n",
    "\n",
    "from sklearn.model_selection import StratifiedKFold\n",
    "from sklearn.base import clone\n",
    "\n",
    "skfolds = StratifiedKFold(n_splits=3)  # add shuffle=True if the dataset is\n",
    "                                       # not already shuffled\n",
    "for train_index, test_index in skfolds.split(X_train, y_train_5):\n",
    "    clone_clf = clone(sgd_clf)\n",
    "    X_train_folds = X_train[train_index]\n",
    "    y_train_folds = y_train_5[train_index]\n",
    "    X_test_fold = X_train[test_index]\n",
    "    y_test_fold = y_train_5[test_index]\n",
    "\n",
    "    clone_clf.fit(X_train_folds, y_train_folds)\n",
    "    y_pred = clone_clf.predict(X_test_fold)\n",
    "    n_correct = sum(y_pred == y_test_fold)\n",
    "    print(n_correct / len(y_pred))  # prints 0.95035, 0.96035, and 0.9604"
   ]
  },
  {
   "cell_type": "markdown",
   "id": "bbc05752",
   "metadata": {},
   "source": [
    "La clase `StratifiedKFold` realiza un muestreo estratificado (como se explica en el capítulo 2) para producir pliegues (folds) que contienen una proporción representativa de cada clase.\n",
    "\n",
    "El cada iteración, el código crea un clon del clasificador, entrena ese clon en los pliegues de entrenamiento y hace predicciones en el pliegue de prueba.\n",
    "\n",
    "Luego cuenta el número de predicciones correctas y genera la proporción de predicciones correctas.\n",
    "\n",
    "-----------------------------------------------------------------------"
   ]
  },
  {
   "cell_type": "markdown",
   "id": "981ee6a6",
   "metadata": {},
   "source": [
    "### > Matrices de confusión\n",
    "\n",
    "La idea de una matriz de confusión es contar el número de veces que las instancias de clase A se clasifican como clase B, oara todos los pares A/B.\n",
    "\n",
    "Por ejemplo, **para saber el número de veces que el clasificador confundió las imágenes  de 8 con 0, mirarías la fila número 8 y columna número 0 de la matriz de confusión**.\n",
    "\n",
    "Para calcular la matriz de confusión necesitamos primero un conjunto de predicciones para poder compararlas con los objetivos reales.\n",
    "\n",
    "Podríamos hacer predicciones en el conjunto de pruebas, pero lo mejor es no tocarlo por ahora (solo se toca al final)."
   ]
  },
  {
   "cell_type": "code",
   "execution_count": 19,
   "id": "d264ce5f",
   "metadata": {},
   "outputs": [],
   "source": [
    "from sklearn.model_selection import cross_val_predict\n",
    "\n",
    "y_train_pred = cross_val_predict(sgd_clf, X_train, y_train_5, cv=3)"
   ]
  },
  {
   "cell_type": "markdown",
   "id": "adf7a5d7",
   "metadata": {},
   "source": [
    "Al igual que la función `cross_val_score()`, `cross_val_predict()` realiza una validación cruzada de K veces pero en vez de retornar las puntuaciones de la evaluación, retorna las predicciones realizadas en cada prueba.\n",
    "\n",
    "Significa que se obtiene una predicción limpia para instancia en el conjunto de entrenamiento (\"limpio\" = fuera de la muestra).\n",
    "\n",
    "El modelo hace predicciones sobre unos datos que nunca vió durante el entrenamiento.\n",
    "\n",
    "Finalmente obtenemos la matriz de confusión usando `confusion_matrix()`.\n",
    "\n",
    "Se le pasan las clases objetivo (`y_train_`) y las predichas (`y_train_pred`)."
   ]
  },
  {
   "cell_type": "code",
   "execution_count": 20,
   "id": "137004de",
   "metadata": {},
   "outputs": [
    {
     "data": {
      "text/plain": [
       "array([[53892,   687],\n",
       "       [ 1891,  3530]])"
      ]
     },
     "execution_count": 20,
     "metadata": {},
     "output_type": "execute_result"
    }
   ],
   "source": [
    "from sklearn.metrics import confusion_matrix\n",
    "\n",
    "cm = confusion_matrix(y_train_5, y_train_pred)\n",
    "\n",
    "cm"
   ]
  },
  {
   "cell_type": "markdown",
   "id": "a89aa133",
   "metadata": {},
   "source": [
    "Matriz de confusión:\n",
    "\n",
    "    FILA = Clase real\n",
    "    COLUMNA = Clase predicha\n",
    "    \n",
    "* La primera fila de la matriz considera las imágenes que son NO-5s (clase negativa).\n",
    "\n",
    "    * 53892 imágenes que no son NO-5s han sido clasificadas correctamente (**verdaderos negativos**).\n",
    "\n",
    "    * 687 imágenes se clasificaron erróneamente como 5s (**falsos positivos**).\n",
    "\n",
    "* La segunda fila de la matriz considera las imágenes que son 5s (clase positiva).\n",
    "\n",
    "    * 1981 imágenes se clasificaron erróneamente como NO-5s (**falsos negativos**).\n",
    "\n",
    "    * 3530 imágenes restantes se clasificaron correctamente como 5s (**verdaderos positivos**).\n",
    "\n",
    "\n",
    "Un clasificador perfecto solo tendría verdaderos positivos y verdaderos negativos por lo que la matriz de confusión solo tendría valores distintos de 0 en su diagonal principal."
   ]
  },
  {
   "cell_type": "code",
   "execution_count": 21,
   "id": "5f6efb74",
   "metadata": {},
   "outputs": [
    {
     "data": {
      "text/plain": [
       "array([[54579,     0],\n",
       "       [    0,  5421]])"
      ]
     },
     "execution_count": 21,
     "metadata": {},
     "output_type": "execute_result"
    }
   ],
   "source": [
    "# (NO HACER) ASÍ DEBERÍA SER UNA MATRIZ PERFECTA\n",
    "\n",
    "y_train_perfect_predictions = y_train_5  # pretendemos buscar la perfección\n",
    "\n",
    "confusion_matrix(y_train_5, y_train_perfect_predictions)"
   ]
  },
  {
   "cell_type": "markdown",
   "id": "1c7f7c2a",
   "metadata": {},
   "source": [
    "A pesar de que la matriz de confusión da mucha información, quizá nos interese más usar una **MÉTRICA MÁS PRECISA**.\n",
    "\n",
    "Una interesante a tener en cuenta es la **precisión de las predicciones positivas**, a esto se le llama ***precisión*** del clasificador."
   ]
  },
  {
   "cell_type": "markdown",
   "id": "19e3cd51",
   "metadata": {},
   "source": [
    "### Ecuación 3-1. Precisión\n",
    "\n",
    "</br>\n",
    "\n",
    "$precisión =  \\frac{TP}{TP + FP}$\n",
    "\n",
    "donde:\n",
    "\n",
    "* $TP$ es el número de **verdaderos positivos**\n",
    "* $FP$ el número de **falsos positivos**.\n",
    "\n",
    "Una forma común de tener una precisión perfecta es crear un clasificador que siemrpe haga predicciones negativas, excepto por una sola predicción positiva en la instancia en la que tiene más confianza.\n",
    "\n",
    "Si esta predicción es correcta, el clasificador tiene una precisión del 100% (precisión = 1/1 = 100%).\n",
    "\n",
    "Obviamente el clasificador no sería muy útil ya que ignoraría todas las instancias positivas menos una.\n",
    "\n",
    "Por lo tanto, la precisión se usa normalmente junto con otra métrica llamada *recuerdo*, tambien llamada *sensibilidad* o la *verdadera tasa positiva (TPR)*.\n",
    "\n",
    "Esta es la proporción de instancias positivas que son detectadas correctamente por el clasificador."
   ]
  },
  {
   "cell_type": "markdown",
   "id": "81507014",
   "metadata": {},
   "source": [
    "### Ecuación 3-2. Recall (retirada)\n",
    "\n",
    "</br>\n",
    "\n",
    "$recall =  \\frac{TP}{TP + FN}$\n",
    "\n",
    "donde:\n",
    "    \n",
    "    FN es el número de falsos negativos\n",
    "    \n",
    "    \n",
    "Si estás confundido con la matriz de confusión, esta imagen puede ayudar:\n",
    "\n",
    "![recall](https://learning.oreilly.com/api/v2/epubs/urn:orm:book:9781098125967/files/assets/mls3_0303.png)\n",
    "\n",
    "*Una matriz de confusión ilustrada que muestra ejemplos de verdaderos negativos (arriba a la izquierda), falsos positivos (arriba a la derecha), falsos negativos (abajo a la izquierda) y verdaderos positivos (abajo a la derecha)*\n",
    "\n",
    "Video explicativo:\n",
    "\n",
    "https://youtu.be/aR7eg_PrpJQ"
   ]
  },
  {
   "cell_type": "markdown",
   "id": "6dd5cea0",
   "metadata": {},
   "source": [
    "### Precisión y Recall (Retirada)\n",
    "\n",
    "\n",
    "SKlearn proporciona funciones para calcular las métricas del clasificador, incluyendo precisión y recall."
   ]
  },
  {
   "cell_type": "code",
   "execution_count": 22,
   "id": "0ee0a5d2",
   "metadata": {},
   "outputs": [
    {
     "data": {
      "text/plain": [
       "0.8370879772350012"
      ]
     },
     "execution_count": 22,
     "metadata": {},
     "output_type": "execute_result"
    }
   ],
   "source": [
    "from sklearn.metrics import precision_score, recall_score\n",
    "\n",
    "# precisión de las predicciones\n",
    "precision_score(y_train_5, y_train_pred)  # == 3530 / (687 + 3530)"
   ]
  },
  {
   "cell_type": "code",
   "execution_count": 23,
   "id": "36caad1c",
   "metadata": {},
   "outputs": [
    {
     "data": {
      "text/plain": [
       "0.6511713705958311"
      ]
     },
     "execution_count": 23,
     "metadata": {},
     "output_type": "execute_result"
    }
   ],
   "source": [
    "# recall de las predicciones\n",
    "recall_score(y_train_5, y_train_pred)  # == 3530 / (1891 + 3530)"
   ]
  },
  {
   "cell_type": "markdown",
   "id": "1fb053ea",
   "metadata": {},
   "source": [
    "Ahora podemos ver que nuestro detector de 5s no es tan bueno como calculamos su precisión.\n",
    "\n",
    "* Cuando afirma que una imagen es un 5: Es correcto solo el **83.7%** de las veces.\n",
    "\n",
    "* Solo detecta el **65.1%** de los 5s que se le dan.\n",
    "\n",
    "Es conveniente combinar la precisión y el recall en una sola métrica llamada **puntuación F1**, especialmente cuando se necesita **una sola métrica para comparar** dos clasificadores.\n",
    "\n",
    "\n",
    "* **F1** es la **media armónica** de precisión y recall.\n",
    "\n",
    "La media de toda la vida trata a todos los valores por igual mientras que la armónica da mucho más peso a los valores bajos.\n",
    "\n",
    "**Esto hace que el clasificador solo obtenga una alta puntuación de F1 si tanto el recall como la precisión (ambos) son altos**."
   ]
  },
  {
   "cell_type": "markdown",
   "id": "fdba0630",
   "metadata": {},
   "source": [
    "### Ecuación 3-3. Puntuación de F1 (F1 score)\n",
    "</br>\n",
    "\n",
    "$F1 =  \\frac{2}{ \\frac{1}{precision} + \\frac{1}{recall} } = 2 x \\frac{precision x recall}{precision x recall} = \\frac{TP}{TP + \\frac{FN+FP}{2}}$\n",
    "\n",
    "Para calcular la puntuación de F1, se llama a la función `f1_score()`:"
   ]
  },
  {
   "cell_type": "code",
   "execution_count": 24,
   "id": "a5623b2d",
   "metadata": {},
   "outputs": [
    {
     "data": {
      "text/plain": [
       "0.7325171197343846"
      ]
     },
     "execution_count": 24,
     "metadata": {},
     "output_type": "execute_result"
    }
   ],
   "source": [
    "from sklearn.metrics import f1_score\n",
    "\n",
    "f1_score(y_train_5, y_train_pred)"
   ]
  },
  {
   "cell_type": "markdown",
   "id": "876a3e07",
   "metadata": {},
   "source": [
    "F1 score **favorece a los clasificadores que tienen una precisión y recall similares**.\n",
    "\n",
    "No siempre necesitamos esto: En algunos contextos nos importa principalmente la precisión, y en otros contextos realmente importa el racall.\n",
    "\n",
    "Por ejemlplo:\n",
    "\n",
    "Si se entrenó un clasificador para **detectar videos que son seguros para niños**, probablemente prefiramos un clasificador que rechace muchos vídeos buenos (bajo reacall) pero que los mantenga seguros (alta precisión), en lugar de un clasificador que tenga un recall mucho más alto pero que permita que aparezcan videos realmente malos en nuestras predicciones (en ese caso).\n",
    "\n",
    "Por otro lado:\n",
    "\n",
    "Supongamos que entrenamos un clasificador para **detectar a los ladrones de tiendas en las imagenes de vigilancia**: \n",
    "Probablemente esté bien si nuestro clasificador solo tiene un 30% de precisión, siempre y cuando tenga un 99% de recall (seguramente algunos guardias de seguridad recibirán alertas falsas, pero casi todos los ladrones serán atrapados.\n",
    "\n",
    "Desafortunadamente **NO** puedes tenerlo en ambos sentidos:\n",
    "\n",
    "**Aumentar la precisión reduce el recall y viceversa (*compensación de precisión/recall*)**."
   ]
  },
  {
   "attachments": {},
   "cell_type": "markdown",
   "id": "8b3ed605",
   "metadata": {},
   "source": [
    "### Compensación precisión/recall\n",
    "\n",
    "Veamos como `SGDClassifier` toma sus decisiones para la clasificación.\n",
    "\n",
    "Para cada instancia calcula una puntuación basada en una **función de decisión**.\n",
    "\n",
    "Si esta puntuación es mayor que el umbral, asigna la instancia a la clase positiva.\n",
    "\n",
    "En caso contrario asigna la instancia a la clase negativa.\n",
    "\n",
    "En la imágen inferior podemos dígitos que se esparcen desde la puntuación más baja (izquierda) hasta la más alta (derecha).\n",
    "\n",
    "Supongamos que el umbral de decisión se coloca en la parte central (entre ambos 5s), tendremos:\n",
    "\n",
    "* **4 positivos verdaderos (5 reales) a la derecha de ese umbral.**\n",
    "* **1 falso positivo (realmente, un 6).**\n",
    "\n",
    "Por lo tanto, con ese umbral, la precisión es del 80% (4 de 5).\n",
    "Pero de los 6,5 reales, el clasificador solo detecta 4, por lo que el recall es del 67% (4 de 6).\n",
    "\n",
    "Si subimos el umbral (movemos hacia la derecha), el falso positivo (el 6) se convierte en un verdadero negativo, aumentando así la precisión (hasta el 100% en este caso), pero un verdadero positivo se convierte en un falso negativo, disminuyendo el recall hasta un 50%.\n",
    "\n",
    "Por el contrario, bajar el umbral aumenta el recall y reduce la precisión.\n",
    "\n",
    "![precision_recall](https://learning.oreilly.com/api/v2/epubs/urn:orm:book:9781098125967/files/assets/mls3_0304.png)\n",
    "\n",
    "*La compensación de precisión/retirada: las imágenes se clasifican por su puntuación de clasificador, y las que están por encima del umbral de decisión elegido se consideran positivas; cuanto mayor sea el umbral, menor será la retirada, pero (en general) mayor será la precisión*\n",
    "\n",
    "-----------------------------------------------------------------------\n",
    "\n",
    "Sk-Learn no permite establecer el umbral directamente pero tenemos acceso a las puntuaciones de decisión que usa para hacer las predicciones.\n",
    "\n",
    "En vez de llamar al método `predict()` del clasificador, podemos llamar al objeto `decision_function()`, que retorna la puntuación para cada instancia y después usar cualquier umbral que queramos para hacer las predicciones basadas en esas puntuaciones."
   ]
  },
  {
   "cell_type": "code",
   "execution_count": 26,
   "id": "2be722fe",
   "metadata": {},
   "outputs": [
    {
     "data": {
      "text/plain": [
       "array([2164.22030239])"
      ]
     },
     "execution_count": 26,
     "metadata": {},
     "output_type": "execute_result"
    }
   ],
   "source": [
    "y_scores = sgd_clf.decision_function([some_digit])\n",
    "y_scores"
   ]
  },
  {
   "cell_type": "code",
   "execution_count": 28,
   "id": "e80fda3c",
   "metadata": {},
   "outputs": [
    {
     "data": {
      "text/plain": [
       "array([ True])"
      ]
     },
     "execution_count": 28,
     "metadata": {},
     "output_type": "execute_result"
    }
   ],
   "source": [
    "threshold = 0 # umbral\n",
    "y_some_digit_pred = (y_scores > threshold)\n",
    "y_some_digit_pred"
   ]
  },
  {
   "cell_type": "markdown",
   "id": "e06ce7d3",
   "metadata": {},
   "source": [
    "El `SGDClassifier` usa un umbral igual a 0, entonces el siguiente código retorna el mismo resultado que el método `predict()` (ej: True).\n",
    "\n",
    "Vamos a aumentar el umbral:"
   ]
  },
  {
   "cell_type": "code",
   "execution_count": 29,
   "id": "b903da41",
   "metadata": {},
   "outputs": [
    {
     "data": {
      "text/plain": [
       "array([False])"
      ]
     },
     "execution_count": 29,
     "metadata": {},
     "output_type": "execute_result"
    }
   ],
   "source": [
    "threshold = 3000\n",
    "y_some_digit_pred = (y_scores > threshold)\n",
    "y_some_digit_pred"
   ]
  },
  {
   "cell_type": "markdown",
   "id": "464b7f68",
   "metadata": {},
   "source": [
    "Esto confirma que **el aumento del umbral disminuye el recuerdo**.\n",
    "\n",
    "La imagen en realidad representa un 5 y elclasificador la detecta cuando el umbral es 0, pero no lo hace cuadno el umbral aumenta a 3000.\n",
    "\n",
    "**Cómo decidimos que umbral usar?**\n",
    "\n"
   ]
  }
 ],
 "metadata": {
  "kernelspec": {
   "display_name": "Python 3 (ipykernel)",
   "language": "python",
   "name": "python3"
  },
  "language_info": {
   "codemirror_mode": {
    "name": "ipython",
    "version": 3
   },
   "file_extension": ".py",
   "mimetype": "text/x-python",
   "name": "python",
   "nbconvert_exporter": "python",
   "pygments_lexer": "ipython3",
   "version": "3.9.13"
  }
 },
 "nbformat": 4,
 "nbformat_minor": 5
}
