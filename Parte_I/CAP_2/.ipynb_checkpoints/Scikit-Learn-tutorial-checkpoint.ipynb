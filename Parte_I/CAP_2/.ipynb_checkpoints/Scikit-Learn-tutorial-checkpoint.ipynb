{
 "cells": [
  {
   "cell_type": "markdown",
   "id": "20f5e9bd",
   "metadata": {},
   "source": [
    "### Paso 1: Preparando los datos\n",
    "\n",
    "Vamos a utilizar un dataset para predicción de precios de casas."
   ]
  },
  {
   "cell_type": "code",
   "execution_count": 1,
   "id": "9bada444",
   "metadata": {},
   "outputs": [],
   "source": [
    "import requests\n",
    "import tarfile\n",
    "\n",
    "URL = \"https://mymldatasets.s3.eu-de.cloud-object-storage.appdomain.cloud/housing.tgz\"\n",
    "PATH = \"housing.tgz\"\n",
    "\n",
    "def getData(url=URL, path=PATH):\n",
    "  r = requests.get(url)\n",
    "  with open(path, 'wb') as f:\n",
    "    f.write(r.content)\n",
    "  housing_tgz = tarfile.open(path)\n",
    "  housing_tgz.extractall()\n",
    "  housing_tgz.close()\n",
    "\n",
    "getData()"
   ]
  },
  {
   "cell_type": "code",
   "execution_count": 2,
   "id": "f68ec252",
   "metadata": {},
   "outputs": [
    {
     "data": {
      "text/html": [
       "<div>\n",
       "<style scoped>\n",
       "    .dataframe tbody tr th:only-of-type {\n",
       "        vertical-align: middle;\n",
       "    }\n",
       "\n",
       "    .dataframe tbody tr th {\n",
       "        vertical-align: top;\n",
       "    }\n",
       "\n",
       "    .dataframe thead th {\n",
       "        text-align: right;\n",
       "    }\n",
       "</style>\n",
       "<table border=\"1\" class=\"dataframe\">\n",
       "  <thead>\n",
       "    <tr style=\"text-align: right;\">\n",
       "      <th></th>\n",
       "      <th>longitude</th>\n",
       "      <th>latitude</th>\n",
       "      <th>housing_median_age</th>\n",
       "      <th>total_rooms</th>\n",
       "      <th>total_bedrooms</th>\n",
       "      <th>population</th>\n",
       "      <th>households</th>\n",
       "      <th>median_income</th>\n",
       "      <th>median_house_value</th>\n",
       "      <th>ocean_proximity</th>\n",
       "    </tr>\n",
       "  </thead>\n",
       "  <tbody>\n",
       "    <tr>\n",
       "      <th>0</th>\n",
       "      <td>-122.23</td>\n",
       "      <td>37.88</td>\n",
       "      <td>41.0</td>\n",
       "      <td>880.0</td>\n",
       "      <td>129.0</td>\n",
       "      <td>322.0</td>\n",
       "      <td>126.0</td>\n",
       "      <td>8.3252</td>\n",
       "      <td>452600.0</td>\n",
       "      <td>NEAR BAY</td>\n",
       "    </tr>\n",
       "    <tr>\n",
       "      <th>1</th>\n",
       "      <td>-122.22</td>\n",
       "      <td>37.86</td>\n",
       "      <td>21.0</td>\n",
       "      <td>7099.0</td>\n",
       "      <td>1106.0</td>\n",
       "      <td>2401.0</td>\n",
       "      <td>1138.0</td>\n",
       "      <td>8.3014</td>\n",
       "      <td>358500.0</td>\n",
       "      <td>NEAR BAY</td>\n",
       "    </tr>\n",
       "    <tr>\n",
       "      <th>2</th>\n",
       "      <td>-122.24</td>\n",
       "      <td>37.85</td>\n",
       "      <td>52.0</td>\n",
       "      <td>1467.0</td>\n",
       "      <td>190.0</td>\n",
       "      <td>496.0</td>\n",
       "      <td>177.0</td>\n",
       "      <td>7.2574</td>\n",
       "      <td>352100.0</td>\n",
       "      <td>NEAR BAY</td>\n",
       "    </tr>\n",
       "    <tr>\n",
       "      <th>3</th>\n",
       "      <td>-122.25</td>\n",
       "      <td>37.85</td>\n",
       "      <td>52.0</td>\n",
       "      <td>1274.0</td>\n",
       "      <td>235.0</td>\n",
       "      <td>558.0</td>\n",
       "      <td>219.0</td>\n",
       "      <td>5.6431</td>\n",
       "      <td>341300.0</td>\n",
       "      <td>NEAR BAY</td>\n",
       "    </tr>\n",
       "    <tr>\n",
       "      <th>4</th>\n",
       "      <td>-122.25</td>\n",
       "      <td>37.85</td>\n",
       "      <td>52.0</td>\n",
       "      <td>1627.0</td>\n",
       "      <td>280.0</td>\n",
       "      <td>565.0</td>\n",
       "      <td>259.0</td>\n",
       "      <td>3.8462</td>\n",
       "      <td>342200.0</td>\n",
       "      <td>NEAR BAY</td>\n",
       "    </tr>\n",
       "  </tbody>\n",
       "</table>\n",
       "</div>"
      ],
      "text/plain": [
       "   longitude  latitude  housing_median_age  total_rooms  total_bedrooms  \\\n",
       "0    -122.23     37.88                41.0        880.0           129.0   \n",
       "1    -122.22     37.86                21.0       7099.0          1106.0   \n",
       "2    -122.24     37.85                52.0       1467.0           190.0   \n",
       "3    -122.25     37.85                52.0       1274.0           235.0   \n",
       "4    -122.25     37.85                52.0       1627.0           280.0   \n",
       "\n",
       "   population  households  median_income  median_house_value ocean_proximity  \n",
       "0       322.0       126.0         8.3252            452600.0        NEAR BAY  \n",
       "1      2401.0      1138.0         8.3014            358500.0        NEAR BAY  \n",
       "2       496.0       177.0         7.2574            352100.0        NEAR BAY  \n",
       "3       558.0       219.0         5.6431            341300.0        NEAR BAY  \n",
       "4       565.0       259.0         3.8462            342200.0        NEAR BAY  "
      ]
     },
     "execution_count": 2,
     "metadata": {},
     "output_type": "execute_result"
    }
   ],
   "source": [
    "# Usamos la librería Pandas para leer el .csv\n",
    "\n",
    "import pandas as pd\n",
    "\n",
    "data = pd.read_csv('housing.csv')\n",
    "data.head()"
   ]
  },
  {
   "cell_type": "code",
   "execution_count": 3,
   "id": "f1dab095",
   "metadata": {},
   "outputs": [
    {
     "name": "stdout",
     "output_type": "stream",
     "text": [
      "<class 'pandas.core.frame.DataFrame'>\n",
      "RangeIndex: 20640 entries, 0 to 20639\n",
      "Data columns (total 10 columns):\n",
      " #   Column              Non-Null Count  Dtype  \n",
      "---  ------              --------------  -----  \n",
      " 0   longitude           20640 non-null  float64\n",
      " 1   latitude            20640 non-null  float64\n",
      " 2   housing_median_age  20640 non-null  float64\n",
      " 3   total_rooms         20640 non-null  float64\n",
      " 4   total_bedrooms      20433 non-null  float64\n",
      " 5   population          20640 non-null  float64\n",
      " 6   households          20640 non-null  float64\n",
      " 7   median_income       20640 non-null  float64\n",
      " 8   median_house_value  20640 non-null  float64\n",
      " 9   ocean_proximity     20640 non-null  object \n",
      "dtypes: float64(9), object(1)\n",
      "memory usage: 1.6+ MB\n"
     ]
    }
   ],
   "source": [
    "data.info()"
   ]
  },
  {
   "cell_type": "markdown",
   "id": "e37180ef",
   "metadata": {},
   "source": [
    "Tomamos el Dataframe de Pandas y separamos en `train` y `test`.\n",
    "\n",
    "Se usará el **20%** de los datos para Test y el **80%** restantes para entrenamiento.\n",
    "\n",
    "Se recomienda usar un **muestreo estratificado** (mirar notebook \"C2_DocPrincipal\").\n",
    "\n",
    "`strat_train_set, strat_test_set = train_test_split(\n",
    "    housing, test_size=0.2, stratify=housing[\"income_cat\"], random_state=42)`"
   ]
  },
  {
   "cell_type": "code",
   "execution_count": 4,
   "id": "7a02ff4c",
   "metadata": {},
   "outputs": [
    {
     "data": {
      "text/plain": [
       "(20640, 16512, 4128)"
      ]
     },
     "execution_count": 4,
     "metadata": {},
     "output_type": "execute_result"
    }
   ],
   "source": [
    "from sklearn.model_selection import train_test_split\n",
    "\n",
    "train, test = train_test_split(data, test_size=0.2) # 20% para test y 80% para entrenamiento\n",
    "\n",
    "len(data), len(train), len(test)"
   ]
  },
  {
   "cell_type": "code",
   "execution_count": 5,
   "id": "776115e9",
   "metadata": {},
   "outputs": [
    {
     "data": {
      "text/plain": [
       "<1H OCEAN     9136\n",
       "INLAND        6551\n",
       "NEAR OCEAN    2658\n",
       "NEAR BAY      2290\n",
       "ISLAND           5\n",
       "Name: ocean_proximity, dtype: int64"
      ]
     },
     "execution_count": 5,
     "metadata": {},
     "output_type": "execute_result"
    }
   ],
   "source": [
    "data['ocean_proximity'].value_counts()"
   ]
  },
  {
   "cell_type": "markdown",
   "id": "1e99a506",
   "metadata": {},
   "source": [
    "Observamos que tenemos categorías **numéricas** y **categóricas** mezcladas."
   ]
  },
  {
   "cell_type": "code",
   "execution_count": 6,
   "id": "9a01fb6d",
   "metadata": {},
   "outputs": [
    {
     "data": {
      "image/png": "[encoded data removed]",
      "text/plain": [
       "<Figure size 1500x400 with 3 Axes>"
      ]
     },
     "metadata": {},
     "output_type": "display_data"
    }
   ],
   "source": [
    "import matplotlib.pyplot as plt\n",
    "\n",
    "fig = plt.figure(figsize=(15,4))\n",
    "\n",
    "ax = plt.subplot(1, 3, 1)\n",
    "train, test = train_test_split(data, test_size=0.2)\n",
    "ax.hist(data['ocean_proximity'], bins=len(data['ocean_proximity'].value_counts()))\n",
    "ax.hist(train['ocean_proximity'], bins=len(data['ocean_proximity'].value_counts()))\n",
    "ax.hist(test['ocean_proximity'], bins=len(data['ocean_proximity'].value_counts()))\n",
    "\n",
    "ax = plt.subplot(1, 3, 2)\n",
    "train, test = train_test_split(data, test_size=0.2, random_state=42) # siempre tendremos el mismo resultado\n",
    "ax.hist(data['ocean_proximity'], bins=len(data['ocean_proximity'].value_counts()))\n",
    "ax.hist(train['ocean_proximity'], bins=len(data['ocean_proximity'].value_counts()))\n",
    "ax.hist(test['ocean_proximity'], bins=len(data['ocean_proximity'].value_counts()))\n",
    "\n",
    "ax = plt.subplot(1, 3, 3)\n",
    "train, test = train_test_split(data, test_size=0.2, random_state=69, stratify=data['ocean_proximity']) # balancear\n",
    "ax.hist(data['ocean_proximity'], bins=len(data['ocean_proximity'].value_counts()))\n",
    "ax.hist(train['ocean_proximity'], bins=len(data['ocean_proximity'].value_counts()))\n",
    "ax.hist(test['ocean_proximity'], bins=len(data['ocean_proximity'].value_counts()))\n",
    "\n",
    "plt.tight_layout()\n",
    "plt.show()"
   ]
  },
  {
   "cell_type": "markdown",
   "id": "8f687a89",
   "metadata": {},
   "source": [
    "### Paso 2: Tratar los valores inexistentes (\"missing values\")\n",
    "\n",
    "Para tratar los *missing values* podemos usar un **Imputer**, con una estratégia determinada.\n",
    "\n",
    "Podríamos cambiar los valores inexistentes por:\n",
    "\n",
    "- El valor promedio de la columna\n",
    "\n",
    "- Un valor fijo\n",
    "\n",
    "- Usar algoritmos mucho más complejos que se pueden encontrar en la documentación.\n",
    "\n"
   ]
  },
  {
   "cell_type": "code",
   "execution_count": 8,
   "id": "6e9700db",
   "metadata": {},
   "outputs": [],
   "source": [
    "train.to_csv('train.csv', index=False)\n",
    "test.to_csv('test.csv', index=False)"
   ]
  },
  {
   "cell_type": "code",
   "execution_count": 9,
   "id": "c2958ceb",
   "metadata": {},
   "outputs": [],
   "source": [
    "train_data, y_train = train.drop(['median_house_value'], axis=1), train['median_house_value'].copy()\n",
    "test_data, y_test = test.drop(['median_house_value'], axis=1), test['median_house_value'].copy()\n",
    "\n",
    "# separamos las variables en numéricas y categóricas\n",
    "\n",
    "train_num = train_data.drop(['ocean_proximity'], axis=1)\n",
    "train_cat = train_data[['ocean_proximity']]"
   ]
  },
  {
   "cell_type": "code",
   "execution_count": 10,
   "id": "3f5f4ba8",
   "metadata": {},
   "outputs": [
    {
     "data": {
      "text/plain": [
       "array([-118.5    ,   34.26   ,   29.     , 2127.     ,  434.     ,\n",
       "       1167.5    ,  409.     ,    3.54025])"
      ]
     },
     "execution_count": 10,
     "metadata": {},
     "output_type": "execute_result"
    }
   ],
   "source": [
    "from sklearn.impute import SimpleImputer\n",
    "\n",
    "imputer = SimpleImputer(strategy=\"median\") # definir imputer\n",
    "imputer.fit(train_num) # calcular mediana\n",
    "\n",
    "# mediana de cada característica o columna (7)\n",
    "imputer.statistics_ # valores calculados"
   ]
  },
  {
   "cell_type": "code",
   "execution_count": 11,
   "id": "43158cab",
   "metadata": {},
   "outputs": [
    {
     "data": {
      "text/plain": [
       "array([[-1.1764e+02,  3.4040e+01,  2.1000e+01, ...,  2.5560e+03,\n",
       "         4.8400e+02,  2.4716e+00],\n",
       "       [-1.1925e+02,  3.4270e+01,  4.6000e+01, ...,  3.8200e+02,\n",
       "         1.4300e+02,  3.5000e+00],\n",
       "       [-1.1833e+02,  3.3930e+01,  3.8000e+01, ...,  4.1200e+02,\n",
       "         1.1900e+02,  6.0718e+00],\n",
       "       ...,\n",
       "       [-1.1897e+02,  3.5380e+01,  4.2000e+01, ...,  1.0380e+03,\n",
       "         2.9900e+02,  9.9510e-01],\n",
       "       [-1.1934e+02,  3.4390e+01,  2.7000e+01, ...,  3.1400e+02,\n",
       "         1.0600e+02,  2.4659e+00],\n",
       "       [-1.2232e+02,  3.7570e+01,  4.2000e+01, ...,  2.3770e+03,\n",
       "         5.8800e+02,  3.2891e+00]])"
      ]
     },
     "execution_count": 11,
     "metadata": {},
     "output_type": "execute_result"
    }
   ],
   "source": [
    "# llamamos a transform y le pasamos los valores que debe sustituir en cada característica\n",
    "\n",
    "X_train_num = imputer.transform(train_num) # cambiar valores inexistentes por la media\n",
    "\n",
    "X_train_num"
   ]
  },
  {
   "cell_type": "markdown",
   "id": "882b4666",
   "metadata": {},
   "source": [
    "### Paso 3: Preprocesado\n",
    "\n",
    "\n",
    "Se repetirá un patrón a partir de ahora y es el uso de las funciones `fit` y `transform`.\n",
    "\n",
    "* `fit`: Calcular todo lo necesario para usar una clase (imputer o modelo).\n",
    "\n",
    "* `transform`: Para procesado de datos y objetos, se genera un array NumPy listo para entrenar modelos.\n",
    "\n",
    "\n",
    "Otro procesado muy común es el **escalado** de datos, que ayuda a algunos modelos a aprender mejor.\n",
    "\n",
    "**Normalización de datos**\n",
    "\n",
    "\n",
    "#### >> Procesar variables numéricas"
   ]
  },
  {
   "cell_type": "code",
   "execution_count": 15,
   "id": "4f838ec0",
   "metadata": {},
   "outputs": [
    {
     "data": {
      "text/plain": [
       "array([[ 0.96771021, -0.74756456, -0.60269331, ...,  1.03927132,\n",
       "        -0.03866464, -0.73393928],\n",
       "       [ 0.16149343, -0.6394833 ,  1.37998002, ..., -0.95584437,\n",
       "        -0.93592799, -0.19795272],\n",
       "       [ 0.62218873, -0.79925559,  0.74552456, ..., -0.92831288,\n",
       "        -0.99907849,  1.14243063],\n",
       "       ...,\n",
       "       [ 0.30170504, -0.11787378,  1.06275229, ..., -0.35382234,\n",
       "        -0.52544974, -1.5034688 ],\n",
       "       [ 0.11642541, -0.58309308, -0.12685171, ..., -1.0182491 ,\n",
       "        -1.03328501, -0.73691003],\n",
       "       [-1.37582676,  0.91124771,  1.06275229, ...,  0.87500006,\n",
       "         0.23498753, -0.30787061]])"
      ]
     },
     "execution_count": 15,
     "metadata": {},
     "output_type": "execute_result"
    }
   ],
   "source": [
    "from sklearn.preprocessing import StandardScaler # también hay min-max\n",
    "\n",
    "scaler = StandardScaler() # mean y std\n",
    "scaler.fit(X_train_num)\n",
    "X_train_num_scaled = scaler.transform(X_train_num)\n",
    "X_train_num_scaled"
   ]
  },
  {
   "cell_type": "markdown",
   "id": "70182154",
   "metadata": {},
   "source": [
    "#### >> Procesar variables categóricas\n",
    "\n",
    "Las columnas **categóricas**, no podemos usarlas para entrenar modelos porque **NECESITAMOS VALORES NUMÉRICOS**.\n",
    "\n",
    "Para ello usamos un **`Encoder`**.\n",
    "\n",
    "Podemos usar la función `fit_transform` para hacer ambas acciones a la vez."
   ]
  },
  {
   "cell_type": "code",
   "execution_count": 13,
   "id": "a13a7029",
   "metadata": {},
   "outputs": [
    {
     "data": {
      "text/plain": [
       "<16512x5 sparse matrix of type '<class 'numpy.float64'>'\n",
       "\twith 16512 stored elements in Compressed Sparse Row format>"
      ]
     },
     "execution_count": 13,
     "metadata": {},
     "output_type": "execute_result"
    }
   ],
   "source": [
    "from sklearn.preprocessing import OneHotEncoder\n",
    "\n",
    "cat_encoder = OneHotEncoder()\n",
    "X_train_cat = cat_encoder.fit_transform(train_cat)\n",
    "X_train_cat"
   ]
  },
  {
   "cell_type": "code",
   "execution_count": 14,
   "id": "4cc4f833",
   "metadata": {},
   "outputs": [
    {
     "data": {
      "text/plain": [
       "array([[0., 1., 0., 0., 0.],\n",
       "       [0., 0., 0., 0., 1.],\n",
       "       [1., 0., 0., 0., 0.],\n",
       "       ...,\n",
       "       [0., 1., 0., 0., 0.],\n",
       "       [0., 0., 0., 0., 1.],\n",
       "       [0., 0., 0., 0., 1.]])"
      ]
     },
     "execution_count": 14,
     "metadata": {},
     "output_type": "execute_result"
    }
   ],
   "source": [
    "X_train_cat.toarray()"
   ]
  },
  {
   "cell_type": "markdown",
   "id": "3626b352",
   "metadata": {},
   "source": [
    "### Paso 3: Pipelines\n",
    "\n",
    "Recopilar todos esos pasos en un objeto y ejecutarlo fácilmente."
   ]
  },
  {
   "cell_type": "code",
   "execution_count": 16,
   "id": "601c9515",
   "metadata": {},
   "outputs": [],
   "source": [
    "from sklearn.pipeline import Pipeline\n",
    "from sklearn.compose import ColumnTransformer\n",
    "\n",
    "## >> CREACIÓN\n",
    "# inicializamos el pipeline y le pasamos una lista con los pasos a ejecutar\n",
    "\n",
    "num_pipeline = Pipeline([\n",
    "        ('imputer', SimpleImputer(strategy=\"median\")), # 1- imputer (rellenar huecos)\n",
    "        ('std_scaler', StandardScaler()), # 2- función para normalizar (escalado)\n",
    "    ])\n",
    "\n",
    "##  >> SEPARACIÓN \n",
    "# separo los atributos en numéricos y categóricos\n",
    "\n",
    "num_attribs = list(train_num) # atributos numéricos\n",
    "cat_attribs = [\"ocean_proximity\"] # atributos categóricos\n",
    "\n",
    "##  >> APLICACIÓN\n",
    "# tenemos la posibilidad de aplicar diferentes pipelines a diferentes columnas\n",
    "\n",
    "full_pipeline = ColumnTransformer([\n",
    "    (\"num\", num_pipeline, num_attribs), # aplico \"num_pipeline\" a las columnas numéricas\n",
    "    (\"cat\", OneHotEncoder(), cat_attribs), # aplico OneHotEncoder a las columnas categóricas\n",
    "])"
   ]
  },
  {
   "cell_type": "code",
   "execution_count": 17,
   "id": "878176f7",
   "metadata": {},
   "outputs": [
    {
     "data": {
      "text/plain": [
       "array([[ 0.96771021, -0.74756456, -0.60269331, ...,  0.        ,\n",
       "         0.        ,  0.        ],\n",
       "       [ 0.16149343, -0.6394833 ,  1.37998002, ...,  0.        ,\n",
       "         0.        ,  1.        ],\n",
       "       [ 0.62218873, -0.79925559,  0.74552456, ...,  0.        ,\n",
       "         0.        ,  0.        ],\n",
       "       ...,\n",
       "       [ 0.30170504, -0.11787378,  1.06275229, ...,  0.        ,\n",
       "         0.        ,  0.        ],\n",
       "       [ 0.11642541, -0.58309308, -0.12685171, ...,  0.        ,\n",
       "         0.        ,  1.        ],\n",
       "       [-1.37582676,  0.91124771,  1.06275229, ...,  0.        ,\n",
       "         0.        ,  1.        ]])"
      ]
     },
     "execution_count": 17,
     "metadata": {},
     "output_type": "execute_result"
    }
   ],
   "source": [
    "# Ejecutamos el pipeline para entrenamiento (fit_transform)\n",
    "\n",
    "X_train = full_pipeline.fit_transform(train_data)\n",
    "\n",
    "X_train # contiene las variables numéricas y categóricas, sin missing values y todo escalado y codificado."
   ]
  },
  {
   "cell_type": "code",
   "execution_count": 18,
   "id": "6fb1caf8",
   "metadata": {},
   "outputs": [
    {
     "data": {
      "text/plain": [
       "array([[-0.07386178,  0.54941047, -0.44407944, ...,  0.        ,\n",
       "         0.        ,  0.        ],\n",
       "       [ 0.61718117, -0.73816619,  1.85582162, ...,  0.        ,\n",
       "         0.        ,  0.        ],\n",
       "       [ 0.5671056 , -0.66297923,  0.58691069, ...,  0.        ,\n",
       "         0.        ,  0.        ],\n",
       "       ...,\n",
       "       [ 0.70230965, -0.74756456,  1.37998002, ...,  0.        ,\n",
       "         0.        ,  0.        ],\n",
       "       [ 1.09790671, -0.73816619, -0.91992104, ...,  0.        ,\n",
       "         0.        ,  0.        ],\n",
       "       [-1.2055698 ,  0.7890689 ,  0.42829682, ...,  0.        ,\n",
       "         0.        ,  0.        ]])"
      ]
     },
     "execution_count": 18,
     "metadata": {},
     "output_type": "execute_result"
    }
   ],
   "source": [
    "# Ejecutamos el pipeline para test (sólo transform!)\n",
    "\n",
    "X_test = full_pipeline.transform(test_data) # ojo ! aquí no hacemos fit :) sólo transform\n",
    "\n",
    "X_test"
   ]
  },
  {
   "cell_type": "markdown",
   "id": "4bee8d50",
   "metadata": {},
   "source": [
    "### Paso 4: Entrenar el modelo\n",
    "\n",
    "Una vez tenemos los datos preparados se puede entrenar el modelo.\n",
    "\n",
    "Scikit-Learn trae muchos modelos implementados y cada uno necesita parámetros diferentes.\n",
    "\n",
    "Todos ellos tienen una interfaz similar basada en la función `fit`."
   ]
  },
  {
   "cell_type": "code",
   "execution_count": 19,
   "id": "2c3aeea6",
   "metadata": {},
   "outputs": [
    {
     "data": {
      "text/plain": [
       "LinearRegression()"
      ]
     },
     "execution_count": 19,
     "metadata": {},
     "output_type": "execute_result"
    }
   ],
   "source": [
    "from sklearn.linear_model import LinearRegression\n",
    "\n",
    "lin_reg = LinearRegression() # crearción del modelo\n",
    "lin_reg.fit(X_train, y_train) # pasar dataset de entrenamiento y test"
   ]
  },
  {
   "cell_type": "code",
   "execution_count": 20,
   "id": "31e7c596",
   "metadata": {},
   "outputs": [
    {
     "data": {
      "text/plain": [
       "LinearRegression()"
      ]
     },
     "execution_count": 20,
     "metadata": {},
     "output_type": "execute_result"
    }
   ],
   "source": [
    "LinearRegression()"
   ]
  },
  {
   "cell_type": "markdown",
   "id": "c9882bf3",
   "metadata": {},
   "source": [
    "### Paso 5: Obtener predicciones\n",
    "\n",
    "Se usa `predict` para predecir."
   ]
  },
  {
   "cell_type": "code",
   "execution_count": 21,
   "id": "90f98f66",
   "metadata": {},
   "outputs": [
    {
     "data": {
      "text/plain": [
       "array([108292.22741445, 379888.92139725, 213135.75783887, ...,\n",
       "       215265.23261004, 122562.39714544, 318906.32084628])"
      ]
     },
     "execution_count": 21,
     "metadata": {},
     "output_type": "execute_result"
    }
   ],
   "source": [
    "preds = lin_reg.predict(X_test)\n",
    "preds"
   ]
  },
  {
   "cell_type": "markdown",
   "id": "7f749d92",
   "metadata": {},
   "source": [
    "### Paso 6: Evaluar nuestro modelo\n",
    "\n",
    "Scikit-Learn también implementa multitud de métricas para evaluar los modelos."
   ]
  },
  {
   "cell_type": "code",
   "execution_count": 22,
   "id": "49144e3c",
   "metadata": {},
   "outputs": [
    {
     "data": {
      "text/plain": [
       "71008.96666632878"
      ]
     },
     "execution_count": 22,
     "metadata": {},
     "output_type": "execute_result"
    }
   ],
   "source": [
    "from sklearn.metrics import mean_squared_error\n",
    "import numpy as np\n",
    "\n",
    "# predecir todos los valores con TODOS los datos de test.\n",
    "preds = lin_reg.predict(X_test)\n",
    "\n",
    "# aplicar el error cuadrático medio (MSE)\n",
    "lin_mse = mean_squared_error(y_test, preds)\n",
    "lin_rmse = np.sqrt(lin_mse)\n",
    "\n",
    "lin_rmse # Valor de la métrica"
   ]
  },
  {
   "cell_type": "markdown",
   "id": "203a5a86",
   "metadata": {},
   "source": [
    "### Paso 7: Probar otros modelos\n",
    "\n",
    "En lugar de usar `LinearRegressor`, tenemos otros que nos pueden dar un menor error y ajustar mejor."
   ]
  },
  {
   "cell_type": "code",
   "execution_count": 23,
   "id": "8203600b",
   "metadata": {},
   "outputs": [
    {
     "data": {
      "text/plain": [
       "DecisionTreeRegressor()"
      ]
     },
     "execution_count": 23,
     "metadata": {},
     "output_type": "execute_result"
    }
   ],
   "source": [
    "# ENTRENAMOS EL MODELO\n",
    "\n",
    "from sklearn.tree import DecisionTreeRegressor\n",
    "\n",
    "tree_reg = DecisionTreeRegressor()\n",
    "tree_reg.fit(X_train, y_train)"
   ]
  },
  {
   "cell_type": "code",
   "execution_count": null,
   "id": "71408f67",
   "metadata": {},
   "outputs": [],
   "source": [
    "# OBTENEMOS LAS PREDICCIONES"
   ]
  }
 ],
 "metadata": {
  "kernelspec": {
   "display_name": "Python 3 (ipykernel)",
   "language": "python",
   "name": "python3"
  },
  "language_info": {
   "codemirror_mode": {
    "name": "ipython",
    "version": 3
   },
   "file_extension": ".py",
   "mimetype": "text/x-python",
   "name": "python",
   "nbconvert_exporter": "python",
   "pygments_lexer": "ipython3",
   "version": "3.9.13"
  }
 },
 "nbformat": 4,
 "nbformat_minor": 5
}
