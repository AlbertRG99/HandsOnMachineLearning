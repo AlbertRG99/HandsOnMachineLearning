{
 "cells": [
  {
   "cell_type": "markdown",
   "id": "bef82860",
   "metadata": {},
   "source": [
    "*Los ejercicios se basan en el conjunto de viviendas \"housing.csv\"*\n",
    "\n",
    "### Ejercicio 1\n",
    "\n",
    "Pruebe una máquina de soporte vectorial (Support Vector Machine) (sklearn.svm.SVR) con varios hiperparámetros, como kernel=\"linear\" (con varios valores para el hiperparámetro C) o kernel=\"rbf\" (con varios valores para los hiperparámetros C y gamma) . \n",
    "\n",
    "Tenga en cuenta que las máquinas de vectores de soporte **no se adaptan bien a grandes conjuntos de datos**, por lo que probablemente debería entrenar su modelo solo en las primeras **5000 instancias** del conjunto de entrenamiento y usar solo una **validación cruzada en 3 veces**, o de lo contrario llevará horas. \n",
    "\n",
    "No se preocupe por el significado de los hiperparámetros por ahora; los discutiremos en el Capítulo 5. ¿Cómo funciona el mejor predictor de RVS?"
   ]
  },
  {
   "cell_type": "markdown",
   "id": "c535a881",
   "metadata": {},
   "source": [
    "#### Paso 1: Preparando los datos"
   ]
  },
  {
   "cell_type": "code",
   "execution_count": 2,
   "id": "6649d81c",
   "metadata": {},
   "outputs": [],
   "source": [
    "import requests\n",
    "import tarfile\n",
    "\n",
    "URL = \"https://mymldatasets.s3.eu-de.cloud-object-storage.appdomain.cloud/housing.tgz\"\n",
    "PATH = \"housing.tgz\"\n",
    "\n",
    "def getData(url=URL, path=PATH):\n",
    "  r = requests.get(url)\n",
    "  with open(path, 'wb') as f:\n",
    "    f.write(r.content)\n",
    "  housing_tgz = tarfile.open(path)\n",
    "  housing_tgz.extractall()\n",
    "  housing_tgz.close()\n",
    "\n",
    "getData()"
   ]
  },
  {
   "cell_type": "code",
   "execution_count": 3,
   "id": "b272e31d",
   "metadata": {},
   "outputs": [
    {
     "data": {
      "text/html": [
       "<div>\n",
       "<style scoped>\n",
       "    .dataframe tbody tr th:only-of-type {\n",
       "        vertical-align: middle;\n",
       "    }\n",
       "\n",
       "    .dataframe tbody tr th {\n",
       "        vertical-align: top;\n",
       "    }\n",
       "\n",
       "    .dataframe thead th {\n",
       "        text-align: right;\n",
       "    }\n",
       "</style>\n",
       "<table border=\"1\" class=\"dataframe\">\n",
       "  <thead>\n",
       "    <tr style=\"text-align: right;\">\n",
       "      <th></th>\n",
       "      <th>longitude</th>\n",
       "      <th>latitude</th>\n",
       "      <th>housing_median_age</th>\n",
       "      <th>total_rooms</th>\n",
       "      <th>total_bedrooms</th>\n",
       "      <th>population</th>\n",
       "      <th>households</th>\n",
       "      <th>median_income</th>\n",
       "      <th>median_house_value</th>\n",
       "      <th>ocean_proximity</th>\n",
       "    </tr>\n",
       "  </thead>\n",
       "  <tbody>\n",
       "    <tr>\n",
       "      <th>0</th>\n",
       "      <td>-122.23</td>\n",
       "      <td>37.88</td>\n",
       "      <td>41.0</td>\n",
       "      <td>880.0</td>\n",
       "      <td>129.0</td>\n",
       "      <td>322.0</td>\n",
       "      <td>126.0</td>\n",
       "      <td>8.3252</td>\n",
       "      <td>452600.0</td>\n",
       "      <td>NEAR BAY</td>\n",
       "    </tr>\n",
       "    <tr>\n",
       "      <th>1</th>\n",
       "      <td>-122.22</td>\n",
       "      <td>37.86</td>\n",
       "      <td>21.0</td>\n",
       "      <td>7099.0</td>\n",
       "      <td>1106.0</td>\n",
       "      <td>2401.0</td>\n",
       "      <td>1138.0</td>\n",
       "      <td>8.3014</td>\n",
       "      <td>358500.0</td>\n",
       "      <td>NEAR BAY</td>\n",
       "    </tr>\n",
       "    <tr>\n",
       "      <th>2</th>\n",
       "      <td>-122.24</td>\n",
       "      <td>37.85</td>\n",
       "      <td>52.0</td>\n",
       "      <td>1467.0</td>\n",
       "      <td>190.0</td>\n",
       "      <td>496.0</td>\n",
       "      <td>177.0</td>\n",
       "      <td>7.2574</td>\n",
       "      <td>352100.0</td>\n",
       "      <td>NEAR BAY</td>\n",
       "    </tr>\n",
       "    <tr>\n",
       "      <th>3</th>\n",
       "      <td>-122.25</td>\n",
       "      <td>37.85</td>\n",
       "      <td>52.0</td>\n",
       "      <td>1274.0</td>\n",
       "      <td>235.0</td>\n",
       "      <td>558.0</td>\n",
       "      <td>219.0</td>\n",
       "      <td>5.6431</td>\n",
       "      <td>341300.0</td>\n",
       "      <td>NEAR BAY</td>\n",
       "    </tr>\n",
       "    <tr>\n",
       "      <th>4</th>\n",
       "      <td>-122.25</td>\n",
       "      <td>37.85</td>\n",
       "      <td>52.0</td>\n",
       "      <td>1627.0</td>\n",
       "      <td>280.0</td>\n",
       "      <td>565.0</td>\n",
       "      <td>259.0</td>\n",
       "      <td>3.8462</td>\n",
       "      <td>342200.0</td>\n",
       "      <td>NEAR BAY</td>\n",
       "    </tr>\n",
       "  </tbody>\n",
       "</table>\n",
       "</div>"
      ],
      "text/plain": [
       "   longitude  latitude  housing_median_age  total_rooms  total_bedrooms  \\\n",
       "0    -122.23     37.88                41.0        880.0           129.0   \n",
       "1    -122.22     37.86                21.0       7099.0          1106.0   \n",
       "2    -122.24     37.85                52.0       1467.0           190.0   \n",
       "3    -122.25     37.85                52.0       1274.0           235.0   \n",
       "4    -122.25     37.85                52.0       1627.0           280.0   \n",
       "\n",
       "   population  households  median_income  median_house_value ocean_proximity  \n",
       "0       322.0       126.0         8.3252            452600.0        NEAR BAY  \n",
       "1      2401.0      1138.0         8.3014            358500.0        NEAR BAY  \n",
       "2       496.0       177.0         7.2574            352100.0        NEAR BAY  \n",
       "3       558.0       219.0         5.6431            341300.0        NEAR BAY  \n",
       "4       565.0       259.0         3.8462            342200.0        NEAR BAY  "
      ]
     },
     "execution_count": 3,
     "metadata": {},
     "output_type": "execute_result"
    }
   ],
   "source": [
    "import pandas as pd\n",
    "\n",
    "data = pd.read_csv('housing.csv')\n",
    "data.head()"
   ]
  },
  {
   "cell_type": "code",
   "execution_count": 4,
   "id": "657f1fa6",
   "metadata": {},
   "outputs": [
    {
     "name": "stdout",
     "output_type": "stream",
     "text": [
      "<class 'pandas.core.frame.DataFrame'>\n",
      "RangeIndex: 20640 entries, 0 to 20639\n",
      "Data columns (total 10 columns):\n",
      " #   Column              Non-Null Count  Dtype  \n",
      "---  ------              --------------  -----  \n",
      " 0   longitude           20640 non-null  float64\n",
      " 1   latitude            20640 non-null  float64\n",
      " 2   housing_median_age  20640 non-null  float64\n",
      " 3   total_rooms         20640 non-null  float64\n",
      " 4   total_bedrooms      20433 non-null  float64\n",
      " 5   population          20640 non-null  float64\n",
      " 6   households          20640 non-null  float64\n",
      " 7   median_income       20640 non-null  float64\n",
      " 8   median_house_value  20640 non-null  float64\n",
      " 9   ocean_proximity     20640 non-null  object \n",
      "dtypes: float64(9), object(1)\n",
      "memory usage: 1.6+ MB\n"
     ]
    }
   ],
   "source": [
    "data.info()"
   ]
  },
  {
   "cell_type": "code",
   "execution_count": 5,
   "id": "11db4644",
   "metadata": {},
   "outputs": [
    {
     "data": {
      "text/plain": [
       "(20640, 16512, 4128)"
      ]
     },
     "execution_count": 5,
     "metadata": {},
     "output_type": "execute_result"
    }
   ],
   "source": [
    "from sklearn.model_selection import train_test_split\n",
    "\n",
    "train, test = train_test_split(data, test_size=0.2) # 20% para test y 80% para entrenamiento\n",
    "\n",
    "len(data), len(train), len(test)"
   ]
  },
  {
   "cell_type": "markdown",
   "id": "1908814d",
   "metadata": {},
   "source": [
    "#### Paso 2: Tratar los valores inexistentes (\"missing values\")"
   ]
  },
  {
   "cell_type": "code",
   "execution_count": 6,
   "id": "c9cd826f",
   "metadata": {},
   "outputs": [],
   "source": [
    "train.to_csv('train.csv', index=False)\n",
    "test.to_csv('test.csv', index=False)"
   ]
  },
  {
   "cell_type": "code",
   "execution_count": 7,
   "id": "2b22c69d",
   "metadata": {},
   "outputs": [],
   "source": [
    "train_data, y_train = train.drop(['median_house_value'], axis=1), train['median_house_value'].copy() # quitar columna de targets del dataset de entrenamiento\n",
    "test_data, y_test = test.drop(['median_house_value'], axis=1), test['median_house_value'].copy() # agregar la columna de targets al set\n",
    "\n",
    "# separar variables en numéricas y categóricas\n",
    "train_num = train_data.drop(['ocean_proximity'], axis=1)\n",
    "train_cat = train_data[['ocean_proximity']]"
   ]
  },
  {
   "cell_type": "code",
   "execution_count": 8,
   "id": "40fb4771",
   "metadata": {},
   "outputs": [
    {
     "data": {
      "text/plain": [
       "array([-118.49   ,   34.25   ,   29.     , 2127.     ,  434.     ,\n",
       "       1166.     ,  409.     ,    3.54825])"
      ]
     },
     "execution_count": 8,
     "metadata": {},
     "output_type": "execute_result"
    }
   ],
   "source": [
    "from sklearn.impute import SimpleImputer\n",
    "\n",
    "imputer = SimpleImputer(strategy=\"median\") # definir imputer\n",
    "imputer.fit(train_num) # calcular mediana\n",
    "\n",
    "# mediana de cada característica o columna (7)\n",
    "imputer.statistics_ # valores calculados"
   ]
  },
  {
   "cell_type": "code",
   "execution_count": 9,
   "id": "1db391e3",
   "metadata": {},
   "outputs": [
    {
     "data": {
      "text/plain": [
       "array([[-117.95  ,   33.66  ,   26.    , ...,  639.    ,  224.    ,\n",
       "           6.8226],\n",
       "       [-122.08  ,   37.64  ,   36.    , ...,  662.    ,  226.    ,\n",
       "           5.7309],\n",
       "       [-120.46  ,   34.65  ,   14.    , ...,  533.    ,  224.    ,\n",
       "           2.5966],\n",
       "       ...,\n",
       "       [-117.6   ,   33.65  ,    4.    , ..., 1599.    ,  485.    ,\n",
       "           6.2464],\n",
       "       [-122.3   ,   37.93  ,   34.    , ...,  715.    ,  306.    ,\n",
       "           4.5   ],\n",
       "       [-121.21  ,   37.79  ,   33.    , ...,  446.    ,  198.    ,\n",
       "           1.6724]])"
      ]
     },
     "execution_count": 9,
     "metadata": {},
     "output_type": "execute_result"
    }
   ],
   "source": [
    "# llamamos a transform y le pasamos los valores que debe sustituir en cada característica\n",
    "\n",
    "X_train_num = imputer.transform(train_num) # cambiar valores inexistentes por la media\n",
    "\n",
    "X_train_num"
   ]
  },
  {
   "cell_type": "markdown",
   "id": "416d9855",
   "metadata": {},
   "source": [
    "#### Paso 3: Preprocesado"
   ]
  },
  {
   "cell_type": "code",
   "execution_count": 10,
   "id": "1e102938",
   "metadata": {},
   "outputs": [
    {
     "data": {
      "text/plain": [
       "array([[ 0.80789558, -0.92461665, -0.20584408, ..., -0.70707483,\n",
       "        -0.7312619 ,  1.55186476],\n",
       "       [-1.25554397,  0.94359792,  0.59028114, ..., -0.68628233,\n",
       "        -0.72593584,  0.97615489],\n",
       "       [-0.44615606, -0.45991001, -1.16119434, ..., -0.80290112,\n",
       "        -0.7312619 , -0.6767236 ],\n",
       "       ...,\n",
       "       [ 0.98276334, -0.92931065, -1.95731956, ...,  0.16078593,\n",
       "        -0.03621044,  1.2480047 ],\n",
       "       [-1.36546084,  1.07972411,  0.4310561 , ..., -0.63836918,\n",
       "        -0.51289324,  0.32703766],\n",
       "       [-0.82087268,  1.01400802,  0.35144358, ..., -0.881551  ,\n",
       "        -0.80050075, -1.16410206]])"
      ]
     },
     "execution_count": 10,
     "metadata": {},
     "output_type": "execute_result"
    }
   ],
   "source": [
    "## PREPROCESADO DE LAS VARIABLES NUMÉRICAS (escalado)\n",
    "\n",
    "from sklearn.preprocessing import StandardScaler # también hay min-max\n",
    "\n",
    "scaler = StandardScaler() # mean y std\n",
    "scaler.fit(X_train_num)\n",
    "X_train_num_scaled = scaler.transform(X_train_num)\n",
    "X_train_num_scaled"
   ]
  },
  {
   "cell_type": "code",
   "execution_count": 11,
   "id": "114df5e4",
   "metadata": {},
   "outputs": [
    {
     "data": {
      "text/plain": [
       "<16512x5 sparse matrix of type '<class 'numpy.float64'>'\n",
       "\twith 16512 stored elements in Compressed Sparse Row format>"
      ]
     },
     "execution_count": 11,
     "metadata": {},
     "output_type": "execute_result"
    }
   ],
   "source": [
    "## PREPROCESADO DE LAS VARIABLES CATEGÓRICAS (OneHotEncoding)\n",
    "\n",
    "from sklearn.preprocessing import OneHotEncoder\n",
    "\n",
    "cat_encoder = OneHotEncoder()\n",
    "X_train_cat = cat_encoder.fit_transform(train_cat)\n",
    "X_train_cat"
   ]
  },
  {
   "cell_type": "code",
   "execution_count": 12,
   "id": "32226391",
   "metadata": {},
   "outputs": [
    {
     "data": {
      "text/plain": [
       "array([[1., 0., 0., 0., 0.],\n",
       "       [0., 0., 0., 1., 0.],\n",
       "       [0., 0., 0., 0., 1.],\n",
       "       ...,\n",
       "       [1., 0., 0., 0., 0.],\n",
       "       [0., 0., 0., 1., 0.],\n",
       "       [0., 1., 0., 0., 0.]])"
      ]
     },
     "execution_count": 12,
     "metadata": {},
     "output_type": "execute_result"
    }
   ],
   "source": [
    "X_train_cat.toarray()"
   ]
  },
  {
   "cell_type": "markdown",
   "id": "97c20016",
   "metadata": {},
   "source": [
    "#### Paso 4: Pipelines"
   ]
  },
  {
   "cell_type": "code",
   "execution_count": 13,
   "id": "87e220b0",
   "metadata": {},
   "outputs": [],
   "source": [
    "from sklearn.pipeline import Pipeline\n",
    "from sklearn.compose import ColumnTransformer\n",
    "\n",
    "## >> CREACIÓN\n",
    "# inicializamos el pipeline y le pasamos una lista con los pasos a ejecutar\n",
    "\n",
    "num_pipeline = Pipeline([\n",
    "        ('imputer', SimpleImputer(strategy=\"median\")), # 1- imputer (rellenar huecos)\n",
    "        ('std_scaler', StandardScaler()), # 2- función para normalizar (escalado)\n",
    "    ])\n",
    "\n",
    "##  >> SEPARACIÓN \n",
    "# separo los atributos en numéricos y categóricos\n",
    "\n",
    "num_attribs = list(train_num) # atributos numéricos\n",
    "cat_attribs = [\"ocean_proximity\"] # atributos categóricos\n",
    "\n",
    "##  >> APLICACIÓN\n",
    "# tenemos la posibilidad de aplicar diferentes pipelines a diferentes columnas\n",
    "\n",
    "full_pipeline = ColumnTransformer([\n",
    "    (\"num\", num_pipeline, num_attribs), # aplico \"num_pipeline\" a las columnas numéricas\n",
    "    (\"cat\", OneHotEncoder(), cat_attribs), # aplico OneHotEncoder a las columnas categóricas\n",
    "])"
   ]
  },
  {
   "cell_type": "code",
   "execution_count": 14,
   "id": "0d6a081b",
   "metadata": {},
   "outputs": [
    {
     "data": {
      "text/plain": [
       "array([[ 0.80789558, -0.92461665, -0.20584408, ...,  0.        ,\n",
       "         0.        ,  0.        ],\n",
       "       [-1.25554397,  0.94359792,  0.59028114, ...,  0.        ,\n",
       "         1.        ,  0.        ],\n",
       "       [-0.44615606, -0.45991001, -1.16119434, ...,  0.        ,\n",
       "         0.        ,  1.        ],\n",
       "       ...,\n",
       "       [ 0.98276334, -0.92931065, -1.95731956, ...,  0.        ,\n",
       "         0.        ,  0.        ],\n",
       "       [-1.36546084,  1.07972411,  0.4310561 , ...,  0.        ,\n",
       "         1.        ,  0.        ],\n",
       "       [-0.82087268,  1.01400802,  0.35144358, ...,  0.        ,\n",
       "         0.        ,  0.        ]])"
      ]
     },
     "execution_count": 14,
     "metadata": {},
     "output_type": "execute_result"
    }
   ],
   "source": [
    "X_train = full_pipeline.fit_transform(train_data)\n",
    "\n",
    "X_train # contiene las variables numéricas y categóricas, sin missing values y todo escalado y codificado."
   ]
  },
  {
   "cell_type": "code",
   "execution_count": 15,
   "id": "13f10f40",
   "metadata": {},
   "outputs": [
    {
     "data": {
      "text/plain": [
       "array([[ 0.96277845, -0.7415504 ,  0.27183105, ...,  0.        ,\n",
       "         0.        ,  0.        ],\n",
       "       [-1.30050996,  0.99523199,  0.66989367, ...,  0.        ,\n",
       "         1.        ,  0.        ],\n",
       "       [ 0.60804671, -0.7462444 ,  1.62524393, ...,  0.        ,\n",
       "         0.        ,  0.        ],\n",
       "       ...,\n",
       "       [ 0.71296737, -0.75563241,  0.90873123, ...,  0.        ,\n",
       "         0.        ,  0.        ],\n",
       "       [ 1.70721548, -0.69930434, -0.84274425, ...,  0.        ,\n",
       "         0.        ,  0.        ],\n",
       "       [-0.92579334,  0.57277141, -1.718482  , ...,  0.        ,\n",
       "         0.        ,  0.        ]])"
      ]
     },
     "execution_count": 15,
     "metadata": {},
     "output_type": "execute_result"
    }
   ],
   "source": [
    "X_test = full_pipeline.transform(test_data) # ojo ! aquí no hacemos fit :) sólo transform\n",
    "\n",
    "X_test"
   ]
  },
  {
   "cell_type": "markdown",
   "id": "b7b7ad77",
   "metadata": {},
   "source": [
    "#### Paso 5: Entrenar el modelo (aquí viene el cambio)\n",
    "\n",
    "Usamos **GridSearch** para que nos busque automáticamente el **mejor modelo y el mejor hiperperámetro**,  sin tener que ajustarlos manualmente.\n",
    "\n",
    "Usamos **Cross-Validation** a la hora de entranar, lo que permite, para el set de entrenamiento, dejar siempre un subconjunto de datos (test) perteneciente el conjunto de entrenamiento en cada iteración e ir rotándolo cada vez.\n",
    "\n",
    "Se usa para sacarle más provecho al set de datos cuando este es pequeño."
   ]
  },
  {
   "cell_type": "code",
   "execution_count": 24,
   "id": "ddcbf896",
   "metadata": {},
   "outputs": [],
   "source": [
    "from sklearn.model_selection import GridSearchCV\n",
    "from sklearn.svm import SVR\n",
    "\n",
    "param_grid = [\n",
    "        {'svr__kernel': ['linear'], 'svr__C': [10., 30., 100., 300., 1000., # hiperparámetro: linear\n",
    "                                               3000., 10000., 30000.0]}, # hiperparámetro: rbf\n",
    "        {'svr__kernel': ['rbf'], 'svr__C': [1.0, 3.0, 10., 30., 100., 300., # hiperparámetro: gamma\n",
    "                                            1000.0],\n",
    "         'svr__gamma': [0.01, 0.03, 0.1, 0.3, 1.0, 3.0]},\n",
    "    ]\n",
    "\n",
    "# Crear el pipeline\n",
    "svr_pipeline = Pipeline([(\"num_pipeline\", num_pipeline), (\"svr\", SVR())])\n",
    "\n",
    "# Crear el clasificador GridSearchCV\n",
    "grid_search = GridSearchCV(svr_pipeline, param_grid, cv=3, # 3 validaciones cruzadas\n",
    "                           scoring='neg_root_mean_squared_error', n_jobs=4)\n",
    "\n",
    "# Buscar el mejor modelo del pipeline\n",
    "mejor_modelo = grid_search.fit(X_train[:5000], y_train[:5000]) # solo 5000 instancias"
   ]
  },
  {
   "cell_type": "code",
   "execution_count": 30,
   "id": "89bf44e2",
   "metadata": {},
   "outputs": [
    {
     "name": "stdout",
     "output_type": "stream",
     "text": [
      "Pipeline(steps=[('num_pipeline',\n",
      "                 Pipeline(steps=[('imputer', SimpleImputer(strategy='median')),\n",
      "                                 ('std_scaler', StandardScaler())])),\n",
      "                ('svr', SVR(C=30000.0, kernel='linear'))])\n"
     ]
    }
   ],
   "source": [
    "# Impresión del mejor estimador\n",
    "\n",
    "#print(mejor_modelo.best_estimator_.get_params()[\"svr__kernel\"])\n",
    "print(mejor_modelo.best_estimator_)\n",
    "\n",
    "# El que mejor se adapta es SVR con kernel linear, C=3000."
   ]
  },
  {
   "cell_type": "markdown",
   "id": "bf84f92f",
   "metadata": {},
   "source": [
    "#### Paso 6: Obtener predicciones"
   ]
  },
  {
   "cell_type": "code",
   "execution_count": 37,
   "id": "21fa1201",
   "metadata": {},
   "outputs": [
    {
     "data": {
      "text/plain": [
       "array([ 94511.08227591, 159087.18688698, 200621.40806194, ...,\n",
       "       143073.93456936,  98346.65423403, 106322.63382468])"
      ]
     },
     "execution_count": 37,
     "metadata": {},
     "output_type": "execute_result"
    }
   ],
   "source": [
    "# Predecir valores para todos los datos del test\n",
    "\n",
    "y_test_pred = grid_search.predict(X_test)\n",
    "#y_test_prob = grid_search.predict_proba(X_test)\n",
    "\n",
    "y_test_pred"
   ]
  },
  {
   "cell_type": "code",
   "execution_count": 46,
   "id": "3d4e8195",
   "metadata": {},
   "outputs": [],
   "source": [
    "# OBTENER LAS MÉTRICAS\n",
    "\n",
    "#auc = roc_auc_score(y_test, y_test_prob[:,1])\n",
    "#print(\"- Precision: \", round(precision_score(y_test, y_test_pred), 2))\n",
    "#print(\"- Recall: \", round(recall_score(y_test, y_test_pred), 2))\n",
    "#print(\"- F-Score: \", round(f1_score(y_test, y_test_pred), 2))\n",
    "#print(\"- AUC: \", round(auc, 2)) #área bajo la curva"
   ]
  },
  {
   "cell_type": "code",
   "execution_count": 50,
   "id": "b4135bdc",
   "metadata": {},
   "outputs": [],
   "source": [
    "# Obtener la puntuación del mejor modelo.\n",
    "\n",
    "puntuacion_mejor_modelo = -grid_search.best_score_"
   ]
  },
  {
   "cell_type": "code",
   "execution_count": 51,
   "id": "7dad6a87",
   "metadata": {},
   "outputs": [
    {
     "data": {
      "text/plain": [
       "69395.49142385386"
      ]
     },
     "execution_count": 51,
     "metadata": {},
     "output_type": "execute_result"
    }
   ],
   "source": [
    "puntuacion_mejor_modelo"
   ]
  },
  {
   "cell_type": "code",
   "execution_count": 53,
   "id": "fd813a1e",
   "metadata": {},
   "outputs": [
    {
     "data": {
      "text/plain": [
       "{'svr__C': 30000.0, 'svr__kernel': 'linear'}"
      ]
     },
     "execution_count": 53,
     "metadata": {},
     "output_type": "execute_result"
    }
   ],
   "source": [
    "# Obtener los < MEJORES HIPERPARÁMETROS >\n",
    "\n",
    "grid_search.best_params_"
   ]
  },
  {
   "cell_type": "markdown",
   "id": "bd889cfe",
   "metadata": {},
   "source": [
    "### Conclusiones\n",
    "\n",
    "El kernel lineal parece mejor que el kernel RBF. \n",
    "\n",
    "Observe que el valor de C es el valor máximo probado. \n",
    "\n",
    "Cuando esto sucede, definitivamente desea iniciar la búsqueda de cuadrícula nuevamente con valores más altos para C (eliminando los valores más pequeños), porque es probable que los valores más altos de C sean mejores."
   ]
  },
  {
   "cell_type": "code",
   "execution_count": null,
   "id": "ebfcc67a",
   "metadata": {},
   "outputs": [],
   "source": []
  }
 ],
 "metadata": {
  "kernelspec": {
   "display_name": "Python 3 (ipykernel)",
   "language": "python",
   "name": "python3"
  },
  "language_info": {
   "codemirror_mode": {
    "name": "ipython",
    "version": 3
   },
   "file_extension": ".py",
   "mimetype": "text/x-python",
   "name": "python",
   "nbconvert_exporter": "python",
   "pygments_lexer": "ipython3",
   "version": "3.9.13"
  }
 },
 "nbformat": 4,
 "nbformat_minor": 5
}
