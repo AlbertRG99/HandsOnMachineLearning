{
 "cells": [
  {
   "cell_type": "markdown",
   "id": "b2047f37",
   "metadata": {},
   "source": [
    "# Capítulo 4: Modelos de entrenamiento\n",
    "\n",
    "<br><br>\n",
    "\n",
    "Hasta ahora hemos tratado los modelos de aprendizaje automático y sus algoritmos de entrenamiento principalmente como cajas negras. \n",
    "\n",
    "Es posible que te haya sorprendido lo mucho que puedes hacer sin saber nada sobre lo que hay bajo el capó: optimizaste un sistema de regresión, mejoraste un clasificador de imágenes de dígitos e incluso construiste un clasificador de spam desde cero, todo sin saber cómo funcionan realmente. \n",
    "\n",
    "De hecho, en muchas situaciones no es necesario conocer los detalles de la implementación.\n",
    "\n",
    "Sin embargo, tener una buena comprensión de cómo funcionan las cosas puede ayudarte a encontrar rápidamente el modelo apropiado, el algoritmo de entrenamiento adecuado para usar y un buen conjunto de hiperparámetros para tu tarea. \n",
    "\n",
    "Comprender lo que hay \"bajo el capó\" también le ayudará a depurar los problemas y a realizar el análisis de errores de manera más eficiente. \n",
    "\n",
    "Por último, la mayoría de los temas tratados en este capítulo serán esenciales para comprender, construir y entrenar las redes neuronales (discutido en la Parte II de este libro).\n",
    "\n",
    "En este capítulo comenzaremos por ver el modelo de regresión lineal, uno de los modelos más simples que existen. Discutiremos dos formas muy diferentes de entrenarlo:\n",
    "\n",
    "* Usando una ecuación de \"**forma cerrada**\"⁠ que **calcule directamente** los parámetros del modelo que mejor se ajustan al modelo al conjunto de entrenamiento (es decir, los parámetros del modelo que minimizan la función de costo sobre el conjunto de entrenamiento).\n",
    "\n",
    "\n",
    "* Utilizando un enfoque de optimización **iterativo** llamado **descenso de gradiente** (GD) que ajusta **gradualmente** los parámetros del modelo para minimizar la función de costo sobre el conjunto de entrenamiento, eventualmente convergiendo con el mismo conjunto de parámetros que el primer método. Veremos algunas variantes de descenso de gradiente que usaremos una y otra vez cuando estudiemos las redes neuronales en la Parte II: **GD de lote, GD de minibate y GD estocástico**.\n",
    "\n",
    "\n",
    "A continuación, veremos la **regresión polinómica**, un modelo más complejo que puede adaptarse a conjuntos de datos **no lineales**. \n",
    "\n",
    "Dado que este modelo tiene **más parámetros que la regresión lineal**, es más propenso a **sobreajustar** los datos de entrenamiento. \n",
    "\n",
    "Exploraremos cómo detectar si este es el caso o no utilizando **curvas de aprendizaje**, y luego veremos varias **técnicas de regularización** que pueden reducir el riesgo de sobreadaptar el conjunto de entrenamiento.\n",
    "\n",
    "Por último, examinaremos dos **modelos más que se utilizan** comúnmente para las tareas de **clasificación**: **regresión logística y regresión softmax**.\n",
    "\n",
    "\n",
    "### ------------------------ ADVERTENCIA ------------------------\n",
    "\n",
    "Habrá bastantes ecuaciones matemáticas en este capítulo, utilizando nociones básicas de álgebra lineal y cálculo. \n",
    "\n",
    "Para entender estas ecuaciones, necesitarás saber qué son los vectores y las matrices; cómo transponerlos, multiplicarlos e invertirlos; y qué son las derivadas parciales. \n",
    "\n",
    "Si no estás familiarizado con estos conceptos, consulte los tutoriales introductorios de álgebra lineal y cálculo disponibles como cuadernos Jupyter en el material complementario en línea. \n",
    "\n",
    "Para aquellos que son realmente alérgicos a las matemáticas, aún así deben pasar por este capítulo y simplemente omitir las ecuaciones; con suerte, el texto será suficiente para ayudarle a entender la mayoría de los conceptos."
   ]
  },
  {
   "cell_type": "markdown",
   "id": "643dc0d0",
   "metadata": {},
   "source": [
    "## Regresión Lineal\n",
    "\n",
    "</bre/>\n",
    "En el capítulo 1 se analizó un modelo de **regresión simple** para comprobar la satisfacción con la vida:\n",
    "\n",
    "**<center>satif_vida = θ0 + θ1 × GDP_per_capita</center>**\n",
    "\n",
    "Es solo una función lineal (línea recta) con una sola característica de entrada y dos parámetros:\n",
    "\n",
    "- Característica: `GDP_per_capita`\n",
    "- Parámetros: `θ0` y `θ1`\n",
    "\n",
    "Un modelo lineal funciona haciendo una predicción calculando una suma ponderada de características de entrada más una constante (sesgo o término de intersección).\n",
    "\n",
    "\n",
    "### Ecuación 4-1: Predicción del modelo de Regresión Lineal\n",
    "</br>\n",
    "\n",
    "**<center>y = θ0 + θ1X1 + θ2X2 + ... + θnXn</center>**\n",
    "\n",
    "* **y** = valor predicho\n",
    "* **n** = número de características\n",
    "* **Xi** = valor de la primera característica\n",
    "* **θj** = parámetro del modelo j, incluido el término de sesgo θ0 y los pesos de características θ1, θ2, ..., θn.\n",
    "\n",
    "(Y esto se puede escribir de forma más concisa usando una forma vectorizada).\n",
    "\n",
    "\n",
    "### Ecuación 4-2: Predicción del modelo de Regresión Lineal (FORMA VECTORIAL)\n",
    "</br>\n",
    "\n",
    "**<center>y = hθ(X) = θ*X</center>**\n",
    "\n",
    "* **hθ** = función de hipótesis, que usa los parámetros del modelo θ\n",
    "* **θ** = número de características\n",
    "* **X** = vector de parámetros del modelo, que contiene el término de sesgo θ0 y los pesos de características θ1 a θn.\n",
    "* **θ*X** = producto punto de los vectores θ y X, que es igual a θ0x0 + θ1x1 + θ2x2 + ... θnxn\n",
    "\n",
    "</br></br>\n",
    "**---------------------- NOTA ------------------------**\n",
    "\n",
    "En el aprendizaje automático, los vectores a menudo se representan como vectores de columna (row-vector), que son matrices 2D con una sola columna.\n",
    "\n",
    "Si **θ** y **x** son vectores de columna, entonces la predicción es `y = θ^T*X`, donde `θ^T` es la transposición de `θ` (un vector fila en lugar de un vector columna) y `θ^T*X` es la multiplicación de la matriz de `θ^T` y `X`.\n",
    "\n",
    "Por supuesto, es la misma predicción, excepto que ahora se representa como una matriz de una sola celda en lugar de un valor escalar. \n",
    "\n",
    "**------------------------------------------------------**\n",
    "</br>\n",
    "\n",
    "Vale, ese es el modelo de regresión lineal, pero ¿cómo lo entrenamos? Bueno, recuerda que entrenar un modelo significa establecer sus parámetros para que el modelo se ajuste mejor al conjunto de entrenamiento. \n",
    "\n",
    "Para este propósito, primero necesitamos una medida de qué tan bien (o mal) se ajusta el modelo a los datos de entrenamiento. \n",
    "\n",
    "En el capítulo 2 vimos que la medida de rendimiento más común de un modelo de regresión es el **error cuadrado medio** de la raíz. \n",
    "\n",
    "Por lo tanto, para entrenar un modelo de regresión lineal, necesitamos encontrar el valor de θ que minimice el **RMSE**. \n",
    "\n",
    "En la práctica, es más sencillo minimizar el error medio al cuadrado (MSE) que el RMSE, y conduce al mismo resultado (porque el valor que minimiza una función positiva también minimiza su raíz cuadrada).\n",
    "\n",
    "**---------------------- ADVERTENCIA ------------------------**\n",
    "\n",
    "Los algoritmos de aprendizaje a menudo optimizarán una función de pérdida diferente durante el entrenamiento que la medida de rendimiento utilizada para evaluar el modelo final. Esto se debe generalmente a que la función es más fácil de optimizar y/o porque tiene términos adicionales necesarios solo durante el entrenamiento (por ejemplo, para la regularización). Una buena métrica de rendimiento está lo más cerca posible del objetivo comercial final. Una buena pérdida de entrenamiento es fácil de optimizar y está fuertemente correlacionada con la métrica. Por ejemplo, los clasificadores a menudo se entrenan utilizando una función de costo como la pérdida de registro (como verá más adelante en este capítulo), pero se evalúan utilizando precisión/retirada. La pérdida de registro es fácil de minimizar, y hacerlo generalmente mejorará la precisión/recall.\n",
    "\n",
    "**----------------------------------------------------------------**\n",
    "\n",
    "El MSE de una hipótesis de regresión lineal hθ en un set de entrenamiento ´X´ se calcula utilizando la ecuación 4-3.\n",
    "\n",
    "\n",
    "### Ecuación 4-3: Función de coste de MSE para un modelo de regresión lineal\n",
    "</br>\n",
    "\n",
    "<math xmlns=\"http://www.w3.org/1998/Math/MathML\" display=\"block\">\n",
    "  <mrow>\n",
    "    <mtext>MSE</mtext>\n",
    "    <mrow>\n",
    "      <mo>(</mo>\n",
    "      <mi mathvariant=\"bold\">X</mi>\n",
    "      <mo>,</mo>\n",
    "      <msub><mi>h</mi> <mi mathvariant=\"bold\">θ</mi> </msub>\n",
    "      <mo>)</mo>\n",
    "    </mrow>\n",
    "    <mo>=</mo>\n",
    "    <mstyle scriptlevel=\"0\" displaystyle=\"true\">\n",
    "      <mfrac><mn>1</mn> <mi>m</mi></mfrac>\n",
    "    </mstyle>\n",
    "    <munderover><mo>∑</mo> <mrow><mi>i</mi><mo>=</mo><mn>1</mn></mrow> <mi>m</mi> </munderover>\n",
    "    <msup><mrow><mo>(</mo><msup><mi mathvariant=\"bold\">θ</mi> <mo>⊺</mo> </msup><msup><mi mathvariant=\"bold\">x</mi> <mrow><mo>(</mo><mi>i</mi><mo>)</mo></mrow> </msup><mo>-</mo><msup><mi>y</mi> <mrow><mo>(</mo><mi>i</mi><mo>)</mo></mrow> </msup><mo>)</mo></mrow> <mn>2</mn> </msup>\n",
    "  </mrow>\n",
    "</math>\n",
    "\n",
    "MSE(X,hθ) = 1/m * SUM i to m (θT * X^i - y^i)^2\n",
    "\n",
    "<a href=\"https://imgbb.com/\"><img src=\"https://i.ibb.co/qsT73Cj/Captura-de-pantalla-2023-08-18-a-las-20-00-06.png\" alt=\"Captura-de-pantalla-2023-08-18-a-las-20-00-06\" border=\"0\"></a><br /><a target='_blank' href='https://imgbb.com/'></a><br />\n",
    "\n",
    "La mayoría de estas anotaciones se presentaron en el capítulo 2. La única diferencia es que escribimos hθ en lugar de solo h para dejar claro que el modelo está parametrizado por el vector θ. Para simplificar las anotaciones, solo escribiremos MSE(θ) en lugar de MSE(X, hθ).\n",
    "\n",
    "### Ecuación normal\n",
    "\n",
    "Para encontrar el valor de θ que minimiza el MSE, existe una solución de forma cerrada, en otras palabras, una ecuación matemática que da el resultado directamente. \n",
    "\n",
    "Esto se llama **ecuación normal** y **nunca vamos a calcular en problemas complicados** porque es increiblemente lento (imposible computacionalmente) y tendremos que saber como acercarnos a la solución sin calcular esto.\n",
    "\n",
    "\n",
    "### Ecuación 4-4: Ecuación Normal\n",
    "\n",
    "\n",
    "<a href=\"https://imgbb.com/\"><img src=\"https://i.ibb.co/51vHrfN/Captura-de-pantalla-2023-08-18-a-las-20-06-44.png\" alt=\"Captura-de-pantalla-2023-08-18-a-las-20-06-44\" border=\"0\"></a>\n",
    "\n",
    "Donde:\n",
    "\n",
    "* **θ** = valor de θ que minimiza la función de coste.\n",
    "* **y** = vector de valores onjetivo que contiene **y(1)** a **y(m)**."
   ]
  },
  {
   "cell_type": "code",
   "execution_count": 1,
   "id": "76b6db2d",
   "metadata": {},
   "outputs": [],
   "source": [
    "# Generamos algunos datos con forma lineal para probar que la ecuación funciona\n",
    "# Conjunto de datos lineal generado al azar.\n",
    "\n",
    "import numpy as np\n",
    "\n",
    "np.random.seed(42)\n",
    "m = 100  # número de instancias\n",
    "X = 2 * np.random.rand(m, 1)  # vector columna\n",
    "y = 4 + 3 * X + np.random.randn(m, 1)  # vector columna"
   ]
  },
  {
   "cell_type": "markdown",
   "id": "42288497",
   "metadata": {},
   "source": [
    "![data_points_lineal](https://learning.oreilly.com/api/v2/epubs/urn:orm:book:9781098125967/files/assets/mls3_0401.png)"
   ]
  },
  {
   "cell_type": "markdown",
   "id": "8dca7379",
   "metadata": {},
   "source": [
    "Ahora vamos a calcular **θ^** usando la **Ecuación Normal**. \n",
    "\n",
    "Usamos la función `inv()` del módulo de álgebra lineal de NumPy  (`np.linalg`) para hacer la inversa de la matriz, y el método `dot()` para la multiplicación de matrices."
   ]
  },
  {
   "cell_type": "code",
   "execution_count": 2,
   "id": "348d63df",
   "metadata": {},
   "outputs": [],
   "source": [
    "from sklearn.preprocessing import add_dummy_feature\n",
    "\n",
    "X_b = add_dummy_feature(X)  # add x0 = 1 to each instance\n",
    "theta_best = np.linalg.inv(X_b.T @ X_b) @ X_b.T @ y"
   ]
  },
  {
   "cell_type": "markdown",
   "id": "b35c2ce0",
   "metadata": {},
   "source": [
    "### -------------------------- NOTA --------------------------\n",
    "\n",
    "El operador `@` realiza la multiplicación de matrices. \n",
    "\n",
    "Si **A** y **B** son matrices NumPy, entonces **A @ B** es equivalente a `np.matmul(A, B)`. \n",
    "\n",
    "Muchas otras bibliotecas, como TensorFlow, PyTorch y JAX, también admiten el operador **@**. Sin embargo, no puede usar @ en arreglos puros de Python (es decir, listas de listas).\n",
    "\n",
    "### -------------------------------------------------------------\n",
    "\n",
    "La función que usamos para generar los datos es `y = 4+3x1 + ruido_gaussiano`.\n",
    "Veamos que encontró la ecuación:"
   ]
  },
  {
   "cell_type": "code",
   "execution_count": 3,
   "id": "2a0bd692",
   "metadata": {},
   "outputs": [
    {
     "data": {
      "text/plain": [
       "array([[4.21509616],\n",
       "       [2.77011339]])"
      ]
     },
     "execution_count": 3,
     "metadata": {},
     "output_type": "execute_result"
    }
   ],
   "source": [
    "theta_best"
   ]
  },
  {
   "cell_type": "markdown",
   "id": "1ba551d4",
   "metadata": {},
   "source": [
    "Habríamos esperado **(θ0 = 4** y **θ1 = 3)** en lugar de **(θ0 = 4.215** y **θ1 = 2.770)**. \n",
    "\n",
    "Lo suficientemente cerca, pero el ruido hizo imposible recuperar los parámetros exactos de la función original. \n",
    "\n",
    "**Cuanto más pequeño y ruidoso sea el conjunto de datos, más difícil se vuelve**.\n",
    "\n",
    "Ahora podemos hacer predicciones usando **θ^**:"
   ]
  },
  {
   "cell_type": "code",
   "execution_count": 4,
   "id": "898a58c6",
   "metadata": {},
   "outputs": [
    {
     "data": {
      "text/plain": [
       "array([[4.21509616],\n",
       "       [9.75532293]])"
      ]
     },
     "execution_count": 4,
     "metadata": {},
     "output_type": "execute_result"
    }
   ],
   "source": [
    "X_new = np.array([[0], [2]])\n",
    "X_new_b = add_dummy_feature(X_new)  # agregar x0 = 1 a cada instancia\n",
    "y_predict = X_new_b @ theta_best\n",
    "y_predict"
   ]
  },
  {
   "cell_type": "code",
   "execution_count": 5,
   "id": "57611120",
   "metadata": {},
   "outputs": [
    {
     "data": {
      "image/png": "[encoded data removed]",
      "text/plain": [
       "<Figure size 640x480 with 1 Axes>"
      ]
     },
     "metadata": {},
     "output_type": "display_data"
    }
   ],
   "source": [
    "# Visualizamos las predicciones del modelo de R.Lineal\n",
    "\n",
    "import matplotlib.pyplot as plt\n",
    "\n",
    "plt.plot(X_new, y_predict, \"r-\", label=\"Predictions\")\n",
    "plt.plot(X, y, \"b.\")\n",
    "plt.show()"
   ]
  },
  {
   "cell_type": "markdown",
   "id": "67cbc570",
   "metadata": {},
   "source": [
    "Realizar una regresión lineal con **Scickit-Learn**:"
   ]
  },
  {
   "cell_type": "code",
   "execution_count": 6,
   "id": "10290589",
   "metadata": {},
   "outputs": [
    {
     "data": {
      "text/plain": [
       "array([[4.21509616],\n",
       "       [9.75532293]])"
      ]
     },
     "execution_count": 6,
     "metadata": {},
     "output_type": "execute_result"
    }
   ],
   "source": [
    "from sklearn.linear_model import LinearRegression\n",
    "lin_reg = LinearRegression()\n",
    "lin_reg.fit(X, y)\n",
    "lin_reg.intercept_, lin_reg.coef_\n",
    "lin_reg.predict(X_new)"
   ]
  },
  {
   "cell_type": "markdown",
   "id": "15e77552",
   "metadata": {},
   "source": [
    "Observa que Scikit-Learn separa el término de bias (`intercept_`) de los pesos de características (`coef_`).\n",
    "\n",
    "La clase LinearRegression se basa en la función `scipy.linalg.lstsq()` (el nombre se refiere a \"mínimos cuadrados\"), a la que se puede llamar directamente:\n",
    "\n"
   ]
  },
  {
   "cell_type": "code",
   "execution_count": 7,
   "id": "df62e8a1",
   "metadata": {},
   "outputs": [
    {
     "data": {
      "text/plain": [
       "array([[4.21509616],\n",
       "       [2.77011339]])"
      ]
     },
     "execution_count": 7,
     "metadata": {},
     "output_type": "execute_result"
    }
   ],
   "source": [
    "theta_best_svd, residuals, rank, s = np.linalg.lstsq(X_b, y, rcond=1e-6)\n",
    "theta_best_svd"
   ]
  },
  {
   "cell_type": "markdown",
   "id": "280f3da7",
   "metadata": {},
   "source": [
    "Esta función calcula **θ^ = X+y**, donde **X+** es la pseudoinversa de **X** (específicamente la inversa de Moore-Penrose).\n",
    "\n",
    "Puedes usar `np.linalg.pinv()` para hacer la pseudoinversa directamente:"
   ]
  },
  {
   "cell_type": "code",
   "execution_count": 8,
   "id": "3ad75318",
   "metadata": {},
   "outputs": [
    {
     "data": {
      "text/plain": [
       "array([[4.21509616],\n",
       "       [2.77011339]])"
      ]
     },
     "execution_count": 8,
     "metadata": {},
     "output_type": "execute_result"
    }
   ],
   "source": [
    "np.linalg.pinv(X_b) @ y"
   ]
  },
  {
   "cell_type": "markdown",
   "id": "b21810da",
   "metadata": {},
   "source": [
    "La pseudoinversa en sí misma se calcula utilizando una técnica de factorización de matriz estándar llamada descomposición de valores singulares (**SVD**) que puede descomponer la matriz del conjunto de entrenamiento **X** en la multiplicación de matrices de tres matrices U Σ V⊺ (`vernumpynumpy.linalg.svd()`). \n",
    "\n",
    "La pseudoinversa se calcula como:\n",
    "\n",
    "**<center>X+ = VΣ+U⊺</center>** \n",
    "\n",
    "Para calcular la matriz Σ+, el algoritmo toma Σ y establece en cero todos los valores más pequeños que un pequeño valor de umbral, luego reemplaza todos los valores distintos de cero con su inverso y, finalmente, transpone la matriz resultante. \n",
    "\n",
    "Este enfoque es más eficiente que calcular la ecuación Normal, además de que maneja bien los casos de borde: de hecho, la ecuación Normal puede no funcionar si la matriz **X⊺X** no es invertible (es decir, singular), como si m < n o si algunas características son redundantes, pero el pseudoinverse siempre está definido.\n",
    "\n",
    "\n",
    "### Complejidad computacional\n",
    "</br></br>\n",
    "La ecuación normal calcula la inversa de **X⊺ X**, que es una matriz (n + 1) × (n + 1) (donde n es el número de características). \n",
    "\n",
    "La complejidad computacional de invertir dicha matriz suele ser de _O(n2.4) a O(n3)_, dependiendo de la implementación. \n",
    "\n",
    "En otras palabras, si duplicas el número de características, multiplicas el tiempo de cálculo por aproximadamente 22,4 = 5,3 a 23 = 8.\n",
    "\n",
    "El enfoque SVD utilizado por la clase `LinearRegression` de Scikit-Learn se trata de _O(n2)_. \n",
    "\n",
    "**Si duplicas la cantidad de características, multiplica el tiempo de cálculo por aproximadamente 4**."
   ]
  },
  {
   "cell_type": "markdown",
   "id": "de37e98d",
   "metadata": {},
   "source": [
    "#### ---------------------------------- ADVERTENCIA ----------------------------------\n",
    "\n",
    "Tanto la **ecuación normal** como el enfoque **SVD** se **ralentizan** mucho cuando el número de características **crece** (por ejemplo, 100.000). \n",
    "\n",
    "En el lado positivo, **ambos son lineales con respecto al número de instancias** en el conjunto de entrenamiento (son _O(m)_), por lo que manejan grandes conjuntos de entrenamiento de manera eficiente, siempre que puedan caber en la memoria.\n",
    "### --------------------------------------------------------------------\n",
    "\n",
    "\n",
    "Además, una vez que hayas entrenado tu modelo de regresión lineal (usando la ecuación normal o cualquier otro algoritmo), **las predicciones son muy rápidas: la complejidad computacional es lineal con respecto tanto al número de instancias en las que desea hacer predicciones como al número de características**. En otras palabras, hacer predicciones sobre el doble de casos (o el doble de características) tomará aproximadamente el doble de tiempo.\n",
    "\n",
    "**<center>x2 características = x2 tiempo</center>**\n",
    "\n",
    "#### Ahora veremos una forma muy diferente de entrenar un modelo de regresión lineal, que es más adecuado para los casos en los que hay un gran número de características o demasiadas instancias de entrenamiento para encajar en la memoria."
   ]
  },
  {
   "cell_type": "markdown",
   "id": "b05772e8",
   "metadata": {},
   "source": [
    "## Descenso del gradiente\n",
    "\n",
    "</br></br>\n",
    "El _descenso de gradiente_ es un algoritmo de optimización genérico capaz de encontrar **soluciones óptimas** para una amplia gama de problemas. \n",
    "\n",
    "La idea general del descenso del gradiente es **ajustar los parámetros de forma iterativa** para minimizar una **función de coste*.\n",
    "\n",
    "Supongamos que estás perdido en las montañas en una densa niebla, y solo puedes sentir la pendiente del suelo debajo de tus pies. Una buena estrategia para llegar al fondo del valle rápidamente es ir cuesta abajo en dirección a la pendiente más empinada. \n",
    "Esto es exactamente lo que hace el descenso del gradiente: mide el gradiente local de la función de error con respecto al vector de parámetros θ, y va en la dirección del gradiente descendente. \n",
    "Una vez que el gradiente es cero (casi nunca pasa), ¡has alcanzado un mínimo!\n",
    "\n",
    "En la práctica, comienzas por llenar θ con valores aleatorios (esto se llama inicialización aleatoria). \n",
    "\n",
    "Luego lo mejoras gradualmente, dando un paso a la vez, cada paso tratando de disminuir la función de costo (por ejemplo, el MSE), hasta que el algoritmo converge al mínimo.\n",
    "\n",
    "![descenso_gradiente](https://learning.oreilly.com/api/v2/epubs/urn:orm:book:9781098125967/files/assets/mls3_0403.png)\n",
    "\n",
    "(_En esta representación del descenso de gradiente, los parámetros del modelo se inicializan al azar y se ajustan repetidamente para minimizar la función de costo; el tamaño del paso de aprendizaje es proporcional a la pendiente de la función de costo, por lo que los pasos se reducen gradualmente a medida que el costo se acerca al mínimo_)\n",
    "\n",
    "</br></br>\n",
    "\n",
    "Un parámetro importante en el descenso de gradiente es el tamaño de los pasos, determinado por el hiperparámetro de la **tasa de aprendizaje** o learning rate.\n",
    "\n",
    "Si la tasa de aprendizaje es **demasiado pequeña**, entonces el algoritmo tendrá que pasar por **muchas iteraciones para converger**, lo que llevará mucho tiempo.\n",
    "\n",
    "![small_learning_rate](https://learning.oreilly.com/api/v2/epubs/urn:orm:book:9781098125967/files/assets/mls3_0404.png)\n",
    "\n",
    "</br></br>\n",
    "\n",
    "Por otro lado, si la tasa de aprendizaje es **demasiado alta**, podrías saltar a través del valle y terminar en el otro lado, posiblemente incluso más alto de lo que estabas antes. \n",
    "Esto podría hacer que el algoritmo **diverja** (no converja), con valores cada vez más grandes, al no encontrar una buena solución.\n",
    "\n",
    "![big_learning_rate](https://learning.oreilly.com/api/v2/epubs/urn:orm:book:9781098125967/files/assets/mls3_0405.png)\n",
    "\n",
    "Además, no todas las funciones de coste parecen cuencos bonitos y normales. Puede haber agujeros, crestas, mesetas y todo tipo de terreno irregular, lo que dificulta la convergencia al mínimo. \n",
    "\n",
    "La siguiente figura muestra los dos **desafíos principales** con el descenso en pendiente. \n",
    "\n",
    "Si la inicialización aleatoria inicia el algoritmo a la **izquierda**, entonces convergerá a un mínimo local, que no es tan bueno como el mínimo global. \n",
    "\n",
    "Si comienza a la **derecha**, entonces llevará mucho tiempo cruzar la meseta. Y si te detienes demasiado pronto, nunca alcanzarás el mínimo global.\n",
    "\n",
    "![desafios_descenso_gradiente](https://learning.oreilly.com/api/v2/epubs/urn:orm:book:9781098125967/files/assets/mls3_0406.png)\n",
    "\n",
    "\n",
    "Afortunadamente, la función de costo de MSE para un modelo de regresión lineal resulta ser una función **convexa**, lo que significa que si eliges dos puntos en la curva, el segmento de línea que los une nunca está por debajo de la curva. Esto implica que no hay mínimos locales, solo un mínimo global. \n",
    "\n",
    "También es una función continua con una pendiente que nunca cambia abruptamente.⁠\n",
    "\n",
    "Estos dos hechos tienen una gran consecuencia: se garantiza que el descenso del gradiente se acerca arbitrariamente al mínimo global (si esperas lo suficiente y si la tasa de aprendizaje no es demasiado alta).\n",
    "\n",
    "Si bien la función de costo tiene la forma de un tazón, puede ser un tazón alargado si las características tienen escalas muy diferentes. \n",
    "\n",
    "La siguiente imagen muestra el descenso en gradiente en un conjunto de entrenamiento donde las características 1 y 2 tienen la misma escala (a la izquierda), y en un conjunto de entrenamiento donde la característica 1 tiene valores mucho más pequeños que la característica 2 (a la derecha).⁠\n",
    "\n",
    "![](https://learning.oreilly.com/api/v2/epubs/urn:orm:book:9781098125967/files/assets/mls3_0407.png)\n",
    "\n",
    "Como puedes ver, a la izquierda el algoritmo de descenso de gradiente va directamente hacia el mínimo, llegando así rápidamente, mientras que a la derecha primero va en una dirección casi ortogonal a la dirección del mínimo global, y termina con una larga marcha por un valle casi plano. \n",
    "\n",
    "Eventualmente alcanzará el mínimo, pero llevará mucho tiempo.\n",
    "\n",
    "#### ----------------------------- ADVERTENCIA -----------------------------\n",
    "\n",
    "Cuando uses el gradiente descendente, deberías asegurarte que todas las características tienen una escala similar (ej: usando `StandardScaler`), de lo contrario tardará mucho más en converger.\n",
    "#### -----------------------------------------------------------------------------"
   ]
  },
  {
   "cell_type": "markdown",
   "id": "844bb5a3",
   "metadata": {},
   "source": [
    "Este diagrama también ilustra el hecho de que **entrenar un modelo significa buscar una combinación de parámetros del modelo que minimice una función de costo** (sobre el conjunto de entrenamiento). \n",
    "\n",
    "Es una búsqueda en el espacio de parámetros del modelo. \n",
    "\n",
    "Cuantos más parámetros tenga un modelo, más dimensiones tenga este espacio y más difícil sea la búsqueda: buscar una aguja en un pajar de 300 dimensiones es mucho más complicado que en 3 dimensiones. \n",
    "\n",
    "Afortunadamente, dado que la función de costo es convexa en el caso de la regresión lineal, la aguja está simplemente en la parte inferior del tazón."
   ]
  },
  {
   "cell_type": "markdown",
   "id": "768d5375",
   "metadata": {},
   "source": [
    "## Descenso del gradiente por lotes (BATCH)\n",
    "\n",
    "Para implementar el descenso de gradiente, es necesario **calcular el gradiente de la función de costo con respecto a cada parámetro del modelo θj**. \n",
    "\n",
    "En otras palabras, necesitas calcular cuánto cambiará la función de costo si cambias θj solo un poco. Esto se llama derivada parcial. \n",
    "\n",
    "Es como preguntar: \"¿Cuál es la pendiente de la montaña bajo mis pies si miro hacia el este\"? y luego hacer la misma pregunta mirando hacia el norte (y así sucesivamente para todas las demás dimensiones, si puedes imaginar un universo con más de tres dimensiones). \n",
    "\n",
    "La ecuación 4-5 calcula la derivada parcial del MSE con respecto al parámetro θj, señalado ∂ MSE(θ) / ∂θj.\n",
    "\n",
    "### Ecuación 4-5: Derivadas parciales de la función de coste\n",
    "\n",
    "<a href=\"https://ibb.co/z51jft4\"><img src=\"https://i.ibb.co/Sx2WvZ3/Captura-de-pantalla-2023-08-20-a-las-21-19-22.png\" alt=\"Captura-de-pantalla-2023-08-20-a-las-21-19-22\" border=\"0\"></a>\n",
    "\n",
    "En lugar de calcular estas derivadas parciales individualmente, puedes usar la ecuación 4-6 para calcularlas todas de una sola vez. \n",
    "\n",
    "El vector de gradiente, señalado ∇θMSE(θ), contiene todas las derivadas parciales de la función de coste (una para cada parámetro del modelo).\n",
    "\n",
    "### Ecuación 4-6: Vector de gradiente de la función de coste\n",
    "\n",
    "<a href=\"https://ibb.co/zPx8DbB\"><img src=\"https://i.ibb.co/CV8JDvY/Captura-de-pantalla-2023-08-20-a-las-21-20-53.png\" alt=\"Captura-de-pantalla-2023-08-20-a-las-21-20-53\" border=\"0\"></a>\n",
    "</br>\n",
    "\n",
    "#### ---------------------- ADVERTENCIA -------------------\n",
    "</br>\n",
    "\n",
    "¡Ten en cuenta que esta fórmula implica cálculos sobre el conjunto completo de entrenamiento X, en cada paso de descenso de gradiente! \n",
    "\n",
    "Esta es la razón por la que el algoritmo se llama descenso de gradiente **por lotes**: **utiliza todo el lote de datos de entrenamiento en cada paso** (en realidad, el descenso de gradiente completo probablemente sería un mejor nombre). \n",
    "\n",
    "Como resultado, es **terriblemente lento en conjuntos de entrenamiento muy grandes** (en breve veremos algunos algoritmos de descenso de gradiente mucho más rápidos). \n",
    "\n",
    "Sin embargo, el descenso del gradiente se escala bien con el número de características; entrenar un modelo de regresión lineal cuando hay cientos de miles de características es mucho más rápido usando el descenso del gradiente que usando la ecuación normal o la descomposición de SVD.\n",
    "\n",
    "#### -----------------------------------------------------------\n",
    "\n",
    "Una vez que tengas el vector de gradiente, que apunta cuesta arriba, simplemente ve en la dirección opuesta para ir cuesta abajo. \n",
    "\n",
    "Esto significa restar ∇θMSE(θ) de θ. \n",
    "\n",
    "Aquí es donde entra en juego la tasa de aprendizaje η:⁠4 multiplica el vector de gradiente por η para determinar el tamaño del paso de descenso (Ecuación 4-7).\n",
    "\n",
    "### Ecuación 4-7: Paso (step) del descenso del gradiente\n",
    "\n",
    "<a href=\"https://imgbb.com/\"><img src=\"https://i.ibb.co/1MHnNPW/Captura-de-pantalla-2023-08-20-a-las-21-24-54.png\" alt=\"Captura-de-pantalla-2023-08-20-a-las-21-24-54\" border=\"0\"></a>\n",
    "\n",
    "Vamos a hacer una implementación básica de este algoritmo:"
   ]
  },
  {
   "cell_type": "code",
   "execution_count": 9,
   "id": "75b0b38e",
   "metadata": {},
   "outputs": [],
   "source": [
    "eta = 0.1  # learning rate\n",
    "n_epochs = 1000\n",
    "m = len(X_b)  # número de instancias\n",
    "\n",
    "np.random.seed(42)\n",
    "theta = np.random.randn(2, 1)  # parámetros del modelo inicializados aleatoriamente\n",
    "\n",
    "for epoch in range(n_epochs):\n",
    "    gradients = 2 / m * X_b.T @ (X_b @ theta - y)\n",
    "    theta = theta - eta * gradients"
   ]
  },
  {
   "cell_type": "markdown",
   "id": "286b6a17",
   "metadata": {},
   "source": [
    "No fue muy dificil! Cada iteración del conjunto de entrenamiento es llamada \"**época**\".\n",
    "\n",
    "Vamos a ver el resultado de `theta`:"
   ]
  },
  {
   "cell_type": "code",
   "execution_count": 10,
   "id": "47e8ecef",
   "metadata": {},
   "outputs": [
    {
     "data": {
      "text/plain": [
       "array([[4.21509616],\n",
       "       [2.77011339]])"
      ]
     },
     "execution_count": 10,
     "metadata": {},
     "output_type": "execute_result"
    }
   ],
   "source": [
    "theta"
   ]
  },
  {
   "cell_type": "markdown",
   "id": "cfb21860",
   "metadata": {},
   "source": [
    "Ey, ¡eso es exactamente lo que encontró la ecuación normal! \n",
    "\n",
    "El descenso en gradiente funcionó perfectamente. Pero, ¿y si hubieras usado una tasa de aprendizaje diferente (`eta`)? \n",
    "\n",
    "La figura siguiente muestra los primeros 20 pasos de descenso de gradiente utilizando tres tasas de aprendizaje diferentes. \n",
    "\n",
    "La línea en la parte inferior de cada gráfico representa el punto de partida aleatorio, luego cada época está representada por una línea cada vez más oscura.\n",
    "\n",
    "![](https://learning.oreilly.com/api/v2/epubs/urn:orm:book:9781098125967/files/assets/mls3_0408.png)\n",
    "\n",
    "- A la **izquierda**, la tasa de aprendizaje es demasiado baja: el algoritmo finalmente llegará a la solución, pero llevará mucho tiempo. \n",
    "\n",
    "- En el **medio**, la tasa de aprendizaje se ve bastante bien: en solo unas pocas épocas, ya ha convergido hacia la solución. \n",
    "\n",
    "- A la **derecha**, la tasa de aprendizaje es demasiado alta: el algoritmo diverge, saltando por todas partes y en realidad se aleja cada vez más de la solución en cada paso.\n",
    "\n",
    "</br>\n",
    "\n",
    "Para **encontrar una buena tasa de aprendizaje**, puede utilizar la **búsqueda en grill** (`SearchGrill` en el capítulo 2). Sin embargo, es posible que desee **limitar el número de épocas** para que la búsqueda en la cuadrícula pueda eliminar los modelos que tardan demasiado en converger.\n",
    "\n",
    "Puede que te preguntes cómo establecer el **número de épocas**: \n",
    "\n",
    "Si es demasiado **bajo**, todavía estarás **lejos de la solución** óptima cuando el algoritmo se detenga; pero si es demasiado **alto**, **perderás el tiempo mientras los parámetros del modelo ya no cambian**. \n",
    "\n",
    "Una solución simple es establecer un número muy grande de épocas, pero interrumpir el algoritmo cuando el vector de gradiente se vuelve diminuto, es decir, cuando su norma se vuelve más pequeña que un número diminuto ε (llamado _tolerancia_), porque esto sucede cuando el descenso del gradiente (casi) ha alcanzado el mínimo.\n",
    "\n",
    "#### --------------------- TASA DE CONVERGENCIA -------------------------\n",
    "Cuando la función de costo es convexa y su pendiente no cambia abruptamente (como es el caso de la función de costo de MSE), el descenso del gradiente de lote con una tasa de aprendizaje fija eventualmente convergerá a la solución óptima, pero es posible que tenga que esperar un tiempo: puede tomar iteraciones O(1/ε) para alcanzar el óptimo dentro de un rango de Si divides la tolerancia entre 10 para tener una solución más precisa, entonces es posible que el algoritmo tenga que funcionar unas 10 veces más tiempo.\n",
    "#### ------------------------------------------------------------------------------"
   ]
  },
  {
   "cell_type": "markdown",
   "id": "6d1e5640",
   "metadata": {},
   "source": [
    "## Descenso del gradiente estocástico\n",
    "</br></br>\n",
    "El principal problema con el descenso del gradiente por **lotes** (batch) es el hecho de que **utiliza todo el conjunto de entrenamiento** para calcular los gradientes en cada paso, lo que lo hace **muy lento cuando el conjunto de entrenamiento es grande**. \n",
    "\n",
    "En el extremo opuesto, el descenso del gradiente **estocástico** elige una **instancia aleatoria** en el conjunto de entrenamiento en cada paso y calcula los gradientes basados **solo en esa única instancia**. \n",
    "\n",
    "Obviamente, trabajar en una sola instancia a la vez hace que el algoritmo sea mucho más rápido porque tiene muy pocos datos para manipular en cada iteración. \n",
    "\n",
    "También hace posible entrenar en grandes conjuntos de entrenamiento, ya que solo una instancia debe estar en la memoria en cada iteración (el GD estocástico se puede implementar como un algoritmo fuera del núcleo; véase el capítulo 1).\n",
    "\n",
    "Por otro lado, debido a su naturaleza estocástica (es decir, aleatoria), este algoritmo es **mucho menos regular** que el descenso del gradiente de lotes: en lugar de disminuir suavemente hasta que alcance el mínimo, la función de costo rebotará hacia arriba y hacia abajo, disminuyendo solo en promedio. \n",
    "\n",
    "Con el tiempo terminará muy cerca del mínimo, pero una vez que llegue allí, **continuará rebotando, sin asentarse** (ver figura siguiente). \n",
    "\n",
    "Una vez que el algoritmo se detenga, los valores finales de los parámetros serán buenos, pero **no óptimos**.\n",
    "\n",
    "![](https://learning.oreilly.com/api/v2/epubs/urn:orm:book:9781098125967/files/assets/mls3_0409.png)\n",
    "\n",
    "(_Con el descenso de gradiente estocástico, cada paso de entrenamiento es mucho más rápido, pero también mucho más estocástico que cuando se usa el descenso de gradiente por lotes_)\n",
    "\n",
    "Cuando la función de costo es muy irregular, esto en realidad puede ayudar al algoritmo a saltar de los mínimos locales, por lo que el descenso del gradiente estocástico tiene una mejor oportunidad de encontrar el mínimo global que el descenso del gradiente por lotes.\n",
    "\n",
    "Por lo tanto, la aleatoriedad es buena para escapar del \n",
    "óptimo local, pero mala porque significa que el algoritmo nunca puede establecerse al mínimo. \n",
    "\n",
    "**Una solución a este dilema es reducir gradualmente la tasa de aprendizaje. Los pasos comienzan a lo grande (lo que ayuda a progresar rápidamente y a escapar de los mínimos locales), luego se hacen cada vez más pequeños, lo que permite que el algoritmo se establezca en el mínimo global.** \n",
    "Este proceso es similar al recocido simulado, un algoritmo inspirado en el proceso en la metalurgia del recocido, donde el metal fundido se enfría lentamente. \n",
    "\n",
    "La función que determina la tasa de aprendizaje en cada iteración se llama **programa de aprendizaje.** \n",
    "\n",
    "Si la tasa de aprendizaje se reduce demasiado rápido, puede quedar atrapado en un mínimo local, o incluso terminar congelado a mitad del mínimo. \n",
    "\n",
    "Si la tasa de aprendizaje se reduce demasiado lentamente, puede saltar alrededor del mínimo durante mucho tiempo y terminar con una solución subóptima si detiene el entrenamiento demasiado pronto.\n",
    "\n",
    "Este código implementa el descenso del gradiente estocástico utilizando un programa de aprendizaje simple:"
   ]
  },
  {
   "cell_type": "code",
   "execution_count": 11,
   "id": "550c4ec3",
   "metadata": {},
   "outputs": [],
   "source": [
    "n_epochs = 50\n",
    "t0, t1 = 5, 50  # learning schedule hyperparameters\n",
    "\n",
    "def learning_schedule(t):\n",
    "    return t0 / (t + t1)\n",
    "\n",
    "np.random.seed(42)\n",
    "theta = np.random.randn(2, 1)  # random initialization\n",
    "\n",
    "for epoch in range(n_epochs):\n",
    "    for iteration in range(m):\n",
    "        random_index = np.random.randint(m)\n",
    "        xi = X_b[random_index : random_index + 1]\n",
    "        yi = y[random_index : random_index + 1]\n",
    "        gradients = 2 * xi.T @ (xi @ theta - yi)  # for SGD, do not divide by m\n",
    "        eta = learning_schedule(epoch * m + iteration)\n",
    "        theta = theta - eta * gradients"
   ]
  },
  {
   "cell_type": "markdown",
   "id": "00e32385",
   "metadata": {},
   "source": [
    "Por convención, iteramos por rondas de m iteraciones; cada ronda se llama una época, como antes. \n",
    "\n",
    "Mientras que el código de descenso de gradiente por lotes iteró 1000 veces a través de todo el conjunto de entrenamiento, este código pasa por el conjunto de entrenamiento solo 50 veces y alcanza una solución bastante buena:"
   ]
  },
  {
   "cell_type": "code",
   "execution_count": 12,
   "id": "baaa2c6b",
   "metadata": {},
   "outputs": [
    {
     "data": {
      "text/plain": [
       "array([[4.21076011],\n",
       "       [2.74856079]])"
      ]
     },
     "execution_count": 12,
     "metadata": {},
     "output_type": "execute_result"
    }
   ],
   "source": [
    "theta"
   ]
  },
  {
   "cell_type": "markdown",
   "id": "caafd3c0",
   "metadata": {},
   "source": [
    "Tenga en cuenta que, dado que las instancias se eligen al azar, algunas instancias pueden elegirse varias veces por época, mientras que otras pueden no elegirse en absoluto. \n",
    "\n",
    "Si quieres estar seguro de que el algoritmo pasa por cada instancia en cada época, otro enfoque es barajar el conjunto de entrenamiento (asegurándose de barajar las características de entrada y las etiquetas de forma conjunta), luego pasar por él instancia por instancia, luego barajarlo de nuevo, y así sucesivamente. Sin embargo, este enfoque es más complejo y, en general, no mejora el resultado.\n",
    "\n",
    "![](https://learning.oreilly.com/api/v2/epubs/urn:orm:book:9781098125967/files/assets/mls3_0410.png)\n",
    "\n",
    "Figura 4-10 (_Los primeros 20 pasos del descenso del gradiente estocástico_)\n",
    "\n",
    "\n",
    "\n",
    "#### ----------------------------- ADVERTENCIA --------------------------------\n",
    "\n",
    "Cuando se utiliza el descenso del gradiente estocástico, las instancias de entrenamiento deben ser independientes y distribuidas de manera idéntica (IID) para garantizar que los parámetros se tiren hacia el óptimo global, en promedio. \n",
    "Una forma sencilla de garantizar esto es barajar las instancias durante el entrenamiento (por ejemplo, elegir cada instancia al azar o barajar el conjunto de entrenamiento al comienzo de cada época). \n",
    "Si no baraja las instancias, por ejemplo, si las instancias están ordenadas por etiqueta, entonces SGD comenzará optimizando para una etiqueta, luego la siguiente, y así sucesivamente, y no se ajustará cerca del mínimo global.\n",
    "#### --------------------------------------------------------------------------------\n",
    "\n",
    "\n",
    "Para realizar una regresión lineal utilizando GD estocástico con Scikit-Learn, puede utilizar la clase `SGDRegressor`, que por defecto es la optimización de la función de costo de MSE. \n",
    "\n",
    "El siguiente código se ejecuta durante un máximo de 1000 épocas (`max_iter`) o hasta que la pérdida cae en menos de 10-5 (`tol`) durante 100 épocas (`n_iter_no_change`). \n",
    "\n",
    "Comienza con una tasa de aprendizaje de 0,01 (`eta0`), utilizando el horario de aprendizaje predeterminado (diferente del que usamos). Por último, no utiliza ninguna regularización (`penalty=None`; más detalles sobre esto en breve):"
   ]
  },
  {
   "cell_type": "code",
   "execution_count": 13,
   "id": "7461ce2e",
   "metadata": {},
   "outputs": [
    {
     "data": {
      "text/plain": [
       "SGDRegressor(n_iter_no_change=100, penalty=None, random_state=42, tol=1e-05)"
      ]
     },
     "execution_count": 13,
     "metadata": {},
     "output_type": "execute_result"
    }
   ],
   "source": [
    "from sklearn.linear_model import SGDRegressor\n",
    "\n",
    "sgd_reg = SGDRegressor(max_iter=1000, tol=1e-5, penalty=None, eta0=0.01,\n",
    "                       n_iter_no_change=100, random_state=42)\n",
    "sgd_reg.fit(X, y.ravel())  # y.ravel() porque fit() espera etiquetas de 1D"
   ]
  },
  {
   "cell_type": "markdown",
   "id": "8e93495f",
   "metadata": {},
   "source": [
    "Una vez más, encuentras una solución bastante cercana a la devuelta por la Normalequation:"
   ]
  },
  {
   "cell_type": "code",
   "execution_count": 14,
   "id": "102b95c1",
   "metadata": {},
   "outputs": [
    {
     "data": {
      "text/plain": [
       "(array([4.21278812]), array([2.77270267]))"
      ]
     },
     "execution_count": 14,
     "metadata": {},
     "output_type": "execute_result"
    }
   ],
   "source": [
    "sgd_reg.intercept_, sgd_reg.coef_"
   ]
  },
  {
   "cell_type": "markdown",
   "id": "1d1087fc",
   "metadata": {},
   "source": [
    "#### ------------------------------------ TIP ------------------------------------\n",
    "\n",
    "Todos los estimadores de Scikit-Learn se pueden entrenar usando el método `fit()`, pero algunos estimadores también tienen un método `part_fit()` al que se puede llamar para ejecutar una única ronda de entrenamiento en una o más instancias (ignora hiperparámetros como `max_iter` o `tol`). . \n",
    "\n",
    "Llamar repetidamente a `part_fit()` entrenará gradualmente el modelo. Esto resulta útil cuando necesita más control sobre el proceso de formación. \n",
    "\n",
    "Otros modelos tienen en su lugar un hiperparámetro `warm_start` (y algunos tienen ambos): si estableces `warm_start=True`, llamar al método `fit()` en un modelo entrenado no restablecerá el modelo; simplemente continuará entrenando donde lo dejó, respetando hiperparámetros como `max_iter` y `tol`. \n",
    "\n",
    "Tenga en cuenta que `fit()` restablece el contador de iteraciones utilizado por el programa de aprendizaje, mientras que `parcial_fit()` no lo hace.\n",
    "#### ---------------------------------------------------------------------"
   ]
  },
  {
   "cell_type": "markdown",
   "id": "e957940b",
   "metadata": {},
   "source": [
    "## Descenso de gradiente por Mini-Lotes (minibatches)\n",
    "</br></br>\n",
    "El último algoritmo de descenso de gradiente que veremos se llama descenso de gradiente de mini lotes. Es sencillo una vez que conoces el descenso del gradiente estocástico y por lotes: en cada paso, en lugar de calcular los gradientes basados en el conjunto de entrenamiento completo (como en el GD por lotes) o basados en una sola instancia (como en el GD estocástico), el GD de minibatería calcula los gradientes en **pequeños conjuntos aleatorios de instancias**.\n",
    "\n",
    "El progreso del algoritmo en el espacio de parámetros es menos errático que con el GD estocástico, especialmente con minilotes bastante grandes. Como resultado, el GD en minilote terminará caminando un poco más cerca del mínimo que el GD estocástico, pero puede ser más difícil para él escapar de los mínimos locales (en el caso de problemas que sufren de mínimos locales, a diferencia de la regresión lineal con la función de costo de MSE). La figura 4-11 muestra los caminos tomados por los tres algoritmos de descenso de gradiente en el espacio de parámetros durante el entrenamiento. Todos terminan cerca del mínimo, pero el camino del lote GD en realidad se detiene en el mínimo, mientras que tanto el GD estocástico como el GD de minilote continúan caminando. Sin embargo, no olvides que el GD por lotes toma mucho tiempo para dar cada paso, y el GD estocástico y el GD de mini-lote también alcanzarían el mínimo si usaras un buen horario de aprendizaje.\n",
    "\n",
    "\n",
    "![](https://learning.oreilly.com/api/v2/epubs/urn:orm:book:9781098125967/files/assets/mls3_0411.png)\n",
    "\n",
    "<center>(Figura 4-11. Rutas de descenso de gradiente en el espacio de parámetros)</center>\n",
    "\n",
    "La tabla 4-1 compara los algoritmos que hemos discutido hasta ahora para la regresión lineal⁠ (recuerde que m es el número de instancias de entrenamiento y n es el número de características).\n",
    "\n",
    "_Tabla 4-1. Comparación de algoritmos para regresión lineal_\n",
    "\n",
    "| **Algoritmo**       | **m grande** | **Soporte fuera del núcleo** | **n grande** | **Hiperparámetros** | **Requiere escalado** | **Scikit-Learn**    |\n",
    "|-----------------|----------|--------------------------|----------|-----------------|-------------------|-----------------|\n",
    "| Ecuación normal | Rapido   | No                       | Lento    | 0               | No                | N/A             |\n",
    "| SVD             | Rapido   | No                       | Lento    | 0               | No                | LinearRegresion |\n",
    "| Batch GD        | Lento    | No                       | Rapido   | 2               | Yes               | N/A             |\n",
    "| SGD             | Rapido   | Si                       | Rapido   | >=2             | Yes               | SGDRegressor    |\n",
    "| Mini-batch GD   | Rapido   | Si                       | Rapido   | >=2             | Yes               | N/A             |\n",
    "\n",
    "</br></br>\n",
    "Casi no hay diferencia después del entrenamiento: todos estos algoritmos terminan con modelos muy similares y hacen predicciones exactamente de la misma manera."
   ]
  },
  {
   "cell_type": "markdown",
   "id": "17bfc0c9",
   "metadata": {},
   "source": [
    "## Regresión Polinómica\n",
    "\n",
    "**¿Qué pasa si tus datos son más complejos que una línea recta?** Sorprendentemente, puedes usar un modelo lineal para ajustar los datos no lineales. Una forma sencilla de hacer esto es agregar poderes de cada característica como nuevas características, y luego entrenar un modelo lineal en este conjunto extendido de características. Esta técnica se llama **regresión polinómica**.\n",
    "\n",
    "Echemos un vistazo a un ejemplo. \n",
    "En primer lugar, generaremos algunos datos no lineales (ver Figura 4-12), basados en una ecuación cuadrática simple, que es una ecuación de la forma **y = ax² +bx + c**, más algo de ruido:"
   ]
  },
  {
   "cell_type": "code",
   "execution_count": 15,
   "id": "550a4652",
   "metadata": {},
   "outputs": [],
   "source": [
    "np.random.seed(42)\n",
    "m = 100\n",
    "X = 6 * np.random.rand(m, 1) - 3\n",
    "y = 0.5 * X ** 2 + X + 2 + np.random.randn(m, 1)"
   ]
  },
  {
   "cell_type": "markdown",
   "id": "7fd5a77a",
   "metadata": {},
   "source": [
    "![](https://learning.oreilly.com/api/v2/epubs/urn:orm:book:9781098125967/files/assets/mls3_0412.png)\n",
    "\n",
    "_Figura 4-12. Conjunto de datos no lineales y ruidoso generado_\n",
    "\n",
    "Es evidente que una línea recta nunca se ajustará correctamente a estos datos. Entonces, usemos la clase `PolynomialFeatures` de Scikit-Learn para transformar nuestros datos de entrenamiento, agregando el cuadrado (polinomio de segundo grado) de cada característica en el conjunto de entrenamiento como una nueva característica (en este caso solo hay una característica):"
   ]
  },
  {
   "cell_type": "code",
   "execution_count": 16,
   "id": "ce471cf2",
   "metadata": {},
   "outputs": [
    {
     "data": {
      "text/plain": [
       "array([-0.75275929])"
      ]
     },
     "execution_count": 16,
     "metadata": {},
     "output_type": "execute_result"
    }
   ],
   "source": [
    "from sklearn.preprocessing import PolynomialFeatures\n",
    "poly_features = PolynomialFeatures(degree=2, include_bias=False)\n",
    "X_poly = poly_features.fit_transform(X)\n",
    "X[0]"
   ]
  },
  {
   "cell_type": "code",
   "execution_count": 17,
   "id": "ef09e773",
   "metadata": {},
   "outputs": [
    {
     "data": {
      "text/plain": [
       "array([-0.75275929,  0.56664654])"
      ]
     },
     "execution_count": 17,
     "metadata": {},
     "output_type": "execute_result"
    }
   ],
   "source": [
    "X_poly[0]"
   ]
  },
  {
   "cell_type": "markdown",
   "id": "d9b67d7c",
   "metadata": {},
   "source": [
    "`X_poly` ahora contiene la característica original de `X` más el cuadrado de esta característica. \n",
    "\n",
    "Ahora podemos ajustar un modelo de `LinearRegression` a estos datos de entrenamiento extendidos (Figura 4-13):"
   ]
  },
  {
   "cell_type": "code",
   "execution_count": 18,
   "id": "11ca058a",
   "metadata": {},
   "outputs": [
    {
     "data": {
      "text/plain": [
       "(array([1.78134581]), array([[0.93366893, 0.56456263]]))"
      ]
     },
     "execution_count": 18,
     "metadata": {},
     "output_type": "execute_result"
    }
   ],
   "source": [
    "lin_reg = LinearRegression()\n",
    "lin_reg.fit(X_poly, y)\n",
    "lin_reg.intercept_, lin_reg.coef_"
   ]
  },
  {
   "cell_type": "markdown",
   "id": "0a295c8b",
   "metadata": {},
   "source": [
    "![](https://learning.oreilly.com/api/v2/epubs/urn:orm:book:9781098125967/files/assets/mls3_0413.png)"
   ]
  },
  {
   "cell_type": "markdown",
   "id": "e6769c90",
   "metadata": {},
   "source": [
    "No nada está mal: las estimaciones del modelo **y^ = 0.56(x1)^2 + 0.93(x1) + 1.78** cuando, de hecho, la función original era y = 0.5(x1)^2 + 1.0(x1) + 2.0 + RuidoGausiano.\n",
    "\n",
    "Tenga en cuenta que cuando hay varias características, la regresión polinómica es capaz de encontrar relaciones entre características, algo que un modelo de regresión lineal simple no puede hacer. Esto es posible gracias al hecho de que PolynomialFeatures también agrega todas las combinaciones de características hasta el grado dado. Por ejemplo, si hubiera dos características a y b, `PolynomialFeatures` con `degree=3` no solo agregaría las características _a2, a3, b2 y b3_, sino también las combinaciones _ab, a2b y ab2_.\n",
    "\n",
    "#### ------------------------------ ADVERTENCIA ---------------------------------\n",
    "`PolynomialFeatures(degree=d)`¡Transforma una matriz que contiene _n_ características en una matriz que contiene _(n + d)! / d! n!_ características, donde _n!_ es el factorial de _n_, igual a _1 × 2 × 3 × ⋯ ×n_. \n",
    "\n",
    "¡Cuidado con la explosión combinatoria del número de características!\n",
    "#### ----------------------------------------------------------------------------------"
   ]
  },
  {
   "cell_type": "markdown",
   "id": "b9174b47",
   "metadata": {},
   "source": [
    "## Curvas de aprendizaje\n",
    "\n",
    "Si realiza una regresión polinómica de alto grado, es probable que ajuste los datos de entrenamiento mucho mejor que con la regresión lineal simple. Por ejemplo, la Figura 4-14 aplica un modelo polinómico de 300 grados a los datos de entrenamiento anteriores, y compara el resultado con un modelo lineal puro y un modelo cuadrático (polinomio de segundo grado). Observa cómo el modelo polinómico de 300 grados se mueve para acercarse lo más posible a las instancias de entrenamiento.\n",
    "\n",
    "![](https://learning.oreilly.com/api/v2/epubs/urn:orm:book:9781098125967/files/assets/mls3_0414.png)\n",
    "\n",
    "_Figura 4-14. Regresión polinómica de alto grado_\n",
    "\n",
    "Este modelo de regresión polinómica de alto grado está sobreajustando severamente los datos de entrenamiento, mientras que el modelo lineal lo está encajando. El modelo que mejor se generalizará en este caso es el modelo cuadrático, que tiene sentido porque los datos se generaron utilizando un modelo cuadrático. Pero en general no sabrás qué función generó los datos, así que ¿cómo puedes decidir qué tan complejo debe ser tu modelo? ¿Cómo puedes saber que tu modelo está sobreajustando o no ajustando los datos?\n",
    "\n",
    "En el capítulo 2, utilizó la validación cruzada para obtener una estimación del rendimiento de la generalización de un modelo. Si un modelo funciona bien en los datos de entrenamiento, pero se generaliza mal de acuerdo con las métricas de validación cruzada, entonces su modelo se está ajustando en exceso. Si funciona mal en ambos, entonces no se ajusta bien. Esta es una forma de saber cuándo un modelo es demasiado simple o demasiado complejo.\n",
    "\n",
    "Otra forma de saberlo es observar las curvas de aprendizaje, que son gráficos del error de entrenamiento y del error de validación del modelo en función de la iteración de entrenamiento: simplemente evalúe el modelo a intervalos regulares durante el entrenamiento tanto en el conjunto de entrenamiento como en el conjunto de validación. y trazar los resultados. Si el modelo no se puede entrenar de forma incremental (es decir, si no admite `parcial_fit()` o `warm_start`), entonces debes entrenarlo varias veces en subconjuntos gradualmente más grandes del conjunto de entrenamiento.\n",
    "\n",
    "Scikit-Learn tiene una útil función `learning_curve()` para ayudar con esto: entrena y evalúa el modelo mediante validación cruzada. De forma predeterminada, vuelve a entrenar el modelo en subconjuntos crecientes del conjunto de entrenamiento, pero si el modelo admite el aprendizaje incremental, puede configurar  `exploit_incremental_learning=True` al llamar a `learning_curve()` y, en su lugar, entrenará el modelo de forma incremental. La función devuelve los tamaños del conjunto de entrenamiento en los que evaluó el modelo y las puntuaciones de entrenamiento y validación que midió para cada tamaño y para cada pliegue de validación cruzada. Usemos esta función para observar las curvas de aprendizaje del modelo de regresión lineal simple (ver Figura 4-15):"
   ]
  },
  {
   "cell_type": "code",
   "execution_count": 19,
   "id": "b13e8ed4",
   "metadata": {},
   "outputs": [
    {
     "data": {
      "image/png": "[encoded data removed]",
      "text/plain": [
       "<Figure size 640x480 with 1 Axes>"
      ]
     },
     "metadata": {},
     "output_type": "display_data"
    }
   ],
   "source": [
    "from sklearn.model_selection import learning_curve\n",
    "\n",
    "train_sizes, train_scores, valid_scores = learning_curve(\n",
    "    LinearRegression(), X, y, train_sizes=np.linspace(0.01, 1.0, 40), cv=5,\n",
    "    scoring=\"neg_root_mean_squared_error\")\n",
    "train_errors = -train_scores.mean(axis=1)\n",
    "valid_errors = -valid_scores.mean(axis=1)\n",
    "\n",
    "plt.plot(train_sizes, train_errors, \"r-+\", linewidth=2, label=\"train\")\n",
    "plt.plot(train_sizes, valid_errors, \"b-\", linewidth=3, label=\"valid\")\n",
    "\n",
    "plt.show()"
   ]
  },
  {
   "cell_type": "markdown",
   "id": "52c4e14f",
   "metadata": {},
   "source": [
    "Este modelo no es apto. Para ver por qué, primero echemos un vistazo al error de entrenamiento. Cuando solo hay una o dos instancias en el conjunto de entrenamiento, el modelo puede encajar perfectamente, por lo que la curva comienza en cero. Pero a medida que se agregan nuevas instancias al conjunto de entrenamiento, se hace imposible que el modelo se ajuste perfectamente a los datos de entrenamiento, tanto porque los datos son ruidosos como porque no son lineales en absoluto. Por lo tanto, el error en los datos de entrenamiento aumenta hasta que alcanza una meseta, momento en el que agregar nuevas instancias al conjunto de entrenamiento no hace que el error promedio sea mucho mejor o peor. Ahora veamos el error de validación. Cuando el modelo se entrena en muy pocas instancias de entrenamiento, es incapaz de generalizar correctamente, por lo que el error de validación es inicialmente bastante grande. Luego, a medida que se muestra al modelo más ejemplos de entrenamiento, aprende y, por lo tanto, el error de validación disminuye lentamente. Sin embargo, una vez más, una línea recta no puede hacer un buen trabajo al modelar los datos, por lo que el error termina en una meseta, muy cerca de la otra curva.\n",
    "\n",
    "Estas curvas de aprendizaje son típicas de un modelo que no se ajusta bien. Ambas curvas han alcanzado una meseta; son cercanas y bastante altas.\n",
    "\n",
    "\n",
    "#### -------------------------------------- TIP ---------------------------------------\n",
    "Si su modelo no se ajusta bien a los datos de entrenamiento, añadir más ejemplos de entrenamiento no ayudará. Necesitas usar un modelo mejor o idear mejores características.\n",
    "#### ----------------------------------------------------------------------------------\n",
    "\n",
    "Ahora veamos las curvas de aprendizaje de un modelo polinómico de décimo grado en los mismos datos (Figura 4-16):"
   ]
  },
  {
   "cell_type": "code",
   "execution_count": 20,
   "id": "fb4c4834",
   "metadata": {},
   "outputs": [],
   "source": [
    "from sklearn.pipeline import make_pipeline\n",
    "\n",
    "polynomial_regression = make_pipeline(\n",
    "    PolynomialFeatures(degree=10, include_bias=False),\n",
    "    LinearRegression())\n",
    "\n",
    "train_sizes, train_scores, valid_scores = learning_curve(\n",
    "    polynomial_regression, X, y, train_sizes=np.linspace(0.01, 1.0, 40), cv=5,\n",
    "    scoring=\"neg_root_mean_squared_error\")"
   ]
  },
  {
   "cell_type": "markdown",
   "id": "97438ce7",
   "metadata": {},
   "source": [
    "![](https://learning.oreilly.com/api/v2/epubs/urn:orm:book:9781098125967/files/assets/mls3_0416.png)\n",
    "\n",
    "_Figura 4-16. Curvas de aprendizaje para el modelo polinomial de décimo grado_\n",
    "\n",
    "Estas curvas de aprendizaje se parecen un poco a las anteriores, pero hay dos diferencias muy importantes:\n",
    "\n",
    "- El error en los datos de entrenamiento es mucho menor que antes.\n",
    "\n",
    "- Hay un espacio entre las curvas. Esto significa que el modelo se desempeña significativamente mejor en los datos de entrenamiento que en los datos de validación, que es el sello distintivo de un modelo de sobreajuste. Sin embargo, si usaras un conjunto de entrenamiento mucho más grande, las dos curvas seguirían acercándose.\n",
    "\n",
    "#### ------------------------------------ TIP ----------------------------------------\n",
    "Una forma de mejorar un modelo de sobreajuste es alimentarlo con más datos de entrenamiento hasta que el error de validación llegue al error de entrenamiento.\n",
    "#### ---------------------------------------------------------------------------------\n",
    "\n",
    "#### ----------------- LA COMPENSACIÓN DE SESGO/VARIANZA--------------\n",
    "Un resultado teórico importante de la estadística y el aprendizaje automático es el hecho de que el error de generalización de un modelo se puede expresar como la suma de tres errores muy diferentes:\n",
    "\n",
    "* **sesgo**: Esta parte del error de generalización se debe a suposiciones erróneas, como asumir que los datos son lineales cuando en realidad son cuadráticos. Lo más probable es que un modelo de alto sesgo no se ajuste a los datos de entrenamiento\n",
    "\n",
    "* **varianza**: Esta parte se debe a la excesiva sensibilidad del modelo a pequeñas variaciones en los datos de entrenamiento. Es probable que un modelo con muchos grados de libertad (como un modelo polinómico de alto grado) tenga una alta varianza y, por lo tanto, se ajuste demasiado a los datos de entrenamiento.\n",
    "\n",
    "* **error irreducible**: Esta parte se debe a la ruidosidad de los datos en sí. La única manera de reducir esta parte del error es limpiar los datos (por ejemplo, arreglar las fuentes de datos, como los sensores rotos, o detectar y eliminar valores atípicos).\n",
    "\n",
    "Aumentar la complejidad de un modelo normalmente aumentará su variación y reducirá su sesgo. Por el contrario, reducir la complejidad de un modelo aumenta su sesgo y reduce su variación. Esta es la razón por la que se llama una compensación.\n",
    "#### -----------------------------------------------------------------------------------"
   ]
  },
  {
   "cell_type": "markdown",
   "id": "9e889b9c",
   "metadata": {},
   "source": [
    "# Modelos lineales regularizados\n",
    "\n",
    "Como vio en los capítulos 1 y 2, una buena manera de reducir el sobreajuste es regularizar el modelo (es decir, restringirlo): cuantos menos grados de libertad tenga, más difícil será para él sobreadaptar los datos. Una forma sencilla de regularizar un modelo polinómico es reducir el número de grados polinómicos.\n",
    "\n",
    "Para un modelo lineal, la regularización se logra normalmente restringiendo los pesos del modelo. Ahora veremos la regresión de la cresta, la regresión del lazo y la regresión de la red elástica, que implementan tres formas diferentes de restringir los pesos.\n",
    "\n",
    "\n",
    "## Regresión de cresta\n",
    "\n",
    "La regresión de cresta (también llamada _regularización de Tikhonov_) es una versión regularizada de la regresión lineal: un término de regularización igual a\n",
    "\n",
    "<a href=\"https://imgbb.com/\"><img src=\"https://i.ibb.co/JyV5zD1/Captura-de-pantalla-2023-08-24-a-las-5-14-15.png\" alt=\"Captura-de-pantalla-2023-08-24-a-las-5-14-15\" border=\"0\"></a>\n",
    "\n",
    "se añade al MSE. Esto obliga al algoritmo de aprendizaje no solo a ajustarse a los datos, sino también a mantener los pesos del modelo lo más pequeños posible. Tenga en cuenta que el plazo de regularización solo debe añadirse a la función de coste durante la formación. Una vez que se entrene el modelo, desea utilizar el MSE no regularizado (o el RMSE) para evaluar el rendimiento del modelo.\n",
    "\n",
    "El hiperparámetro α controla cuánto quieres regularizar el modelo. Si α = 0, entonces la regresión de cresta es solo regresión lineal. Si α es muy grande, entonces todos los pesos terminan muy cerca de cero y el resultado es una línea plana que pasa por la media de los datos. \n",
    "La ecuación 4-8 presenta la función de costo de regresión de cresta.\n",
    "\n",
    "### Ecuación 4-8. Función de costo de regresión de Ridge\n",
    "\n",
    "<a href=\"https://imgbb.com/\"><img src=\"https://i.ibb.co/TqbLD9J/Captura-de-pantalla-2023-08-24-a-las-15-33-38.png\" alt=\"Captura-de-pantalla-2023-08-24-a-las-15-33-38\" border=\"0\"></a>\n",
    "\n",
    "Tenga en cuenta que el término de sesgo θ0 no está regularizado (la suma comienza en i = 1, no en 0). \n",
    "Si definimos w como el vector de pesos de característica (θ1 a θn), entonces el término de regularización es igual a α(∥ w ∥2)2 / m, donde ∥ w ∥2 representa la norma ℓ2 del vector de peso.⁠ Para el gradiente de descenso.\n",
    "\n",
    "\n",
    "#### -------------------------------- ADVERTENCIA ------------------------------------\n",
    "Es importante escalar los datos (por ejemplo, utilizando un `StandardScaler`) antes de realizar la regresión de cresta, ya que es sensible a la escala de las características de entrada. \n",
    "Esto es cierto para la mayoría de los modelos regularizados.\n",
    "#### ---------------------------------------------------------------------------------\n",
    "\n",
    "La Figura 4-17 muestra varios modelos de cresta que se entrenaron con datos lineales muy ruidosos utilizando diferentes valores de α. \n",
    "\n",
    "A la izquierda, se utilizan modelos de crestas planas, que conducen a predicciones lineales. \n",
    "\n",
    "A la derecha, los datos primero se expanden usando `PolynomialFeatures(degree = 10)`, luego se escalan usando un `StandardScaler` y, finalmente, los modelos de cresta se aplican a las características resultantes: esto es regresión polinómica con regularización de cresta. \n",
    "\n",
    "Observa cómo el aumento de α conduce a predicciones más planas (es decir, menos extremas, más razonables), lo que reduce la varianza del modelo pero aumenta su sesgo.\n",
    "\n",
    "![](https://learning.oreilly.com/api/v2/epubs/urn:orm:book:9781098125967/files/assets/mls3_0417.png)\n",
    "\n",
    "_Figura 4-17. Modelos lineales (izquierda) y polinómicos (derecha), ambos con varios niveles de regularización de crestas_\n",
    "\n",
    "Al igual que con la regresión lineal, podemos realizar la regresión de cresta ya sea calculando una ecuación de forma cerrada o realizando un descenso de gradiente. Los pros y los contras son los mismos. La ecuación 4-9 muestra la solución de forma cerrada, donde **A** es la _matriz de identidad_ (n + 1) × (n + 1), excepto con un 0 en la celda superior izquierda, correspondiente al término de sesgo.\n",
    "\n",
    "### Ecuación 4-9. Solución de forma cerrada de regresión de cresa\n",
    "\n",
    "<a href=\"https://imgbb.com/\"><img src=\"https://i.ibb.co/n77pXft/Captura-de-pantalla-2023-08-24-a-las-15-39-44.png\" alt=\"Captura-de-pantalla-2023-08-24-a-las-15-39-44\" border=\"0\"></a>\n",
    "\n",
    "Aquí se explica cómo realizar la regresión de cresta con Scikit-Learn utilizando una solución de forma cerrada (una variante de la ecuación 4-9 que utiliza una técnica de factorización matricial de André-Louis Cholesky):"
   ]
  },
  {
   "cell_type": "code",
   "execution_count": 21,
   "id": "87811c49",
   "metadata": {},
   "outputs": [
    {
     "data": {
      "text/plain": [
       "array([[4.82899748]])"
      ]
     },
     "execution_count": 21,
     "metadata": {},
     "output_type": "execute_result"
    }
   ],
   "source": [
    "from sklearn.linear_model import Ridge\n",
    "ridge_reg = Ridge(alpha=0.1, solver=\"cholesky\")\n",
    "ridge_reg.fit(X, y)\n",
    "ridge_reg.predict([[1.5]])"
   ]
  },
  {
   "cell_type": "markdown",
   "id": "7610c58a",
   "metadata": {},
   "source": [
    "Y usando el descenso del gradiente estocástico:"
   ]
  },
  {
   "cell_type": "code",
   "execution_count": 22,
   "id": "881ff491",
   "metadata": {},
   "outputs": [
    {
     "data": {
      "text/plain": [
       "array([4.82830117])"
      ]
     },
     "execution_count": 22,
     "metadata": {},
     "output_type": "execute_result"
    }
   ],
   "source": [
    "sgd_reg = SGDRegressor(penalty=\"l2\", alpha=0.1 / m, tol=None,\n",
    "                        max_iter=1000, eta0=0.01, random_state=42)\n",
    "\n",
    "sgd_reg.fit(X, y.ravel())  # y.ravel() because fit() expects 1D targets\n",
    "sgd_reg.predict([[1.5]])"
   ]
  },
  {
   "cell_type": "markdown",
   "id": "87f2836b",
   "metadata": {},
   "source": [
    "El hiperparámetro de penalización (`penalty`) establece el tipo de término de regularización que se utilizará. Especificar `\"l2\"` indica que desea que SGD agregue un término de regularización a la función de costo de MSE igual a alfa (`alpha`) multiplicado por el cuadrado de la norma ℓ2 del vector de peso. \n",
    "Esto es como la regresión de cresta, excepto que en este caso no hay división por m; es por eso que pasamos `alfa=0,1 / m`, para obtener el mismo resultado que `Ridge(alpha=0,1)`.\n",
    "\n",
    "\n",
    "#### ------------------------------------ TIP ----------------------------\n",
    "La clase `RidgeCV` también realiza una regresión de crestas, pero ajusta automáticamente los hiperparámetros mediante validación cruzada. Es más o menos equivalente a usar `GridSearchCV`, pero está optimizado para la regresión de crestas y se ejecuta mucho más rápido. Varios otros estimadores (en su mayoría lineales) también tienen variantes de CV eficientes, como `LassoCV` y `ElasticNetCV`.\n",
    "#### --------------------------------------------------------------------\n",
    "\n",
    "\n",
    "## Regresión de Lasso\n",
    "\n",
    "\n",
    "La _contracción mínima absoluta_ y la regresión del operador de selección (generalmente llamada simplemente regresión de lazo) es otra versión regularizada de la regresión lineal: al igual que la regresión de cresta, agrega un término de regularización a la función de costo, pero utiliza la norma ℓ1 del vector de peso en lugar del cuadrado de la norma �� Tenga en cuenta que la norma ℓ1 se multiplica por 2α, mientras que la norma ℓ2 se multiplicó por α / m en la regresión de crestas. \n",
    "\n",
    "Estos factores se eligieron para garantizar que el valor óptimo de α sea independiente del tamaño del conjunto de entrenamiento: diferentes normas conducen a diferentes factores (consulte el número 15657 de Scikit-Learn para obtener más detalles).\n",
    "\n",
    "### Ecuación 4-10. Función de coste de regresión de lasso\n",
    "\n",
    "<a href=\"https://imgbb.com/\"><img src=\"https://i.ibb.co/6nvNFbc/Captura-de-pantalla-2023-09-04-a-las-5-31-51.png\" alt=\"Captura-de-pantalla-2023-09-04-a-las-5-31-51\" border=\"0\"></a>\n",
    "\n",
    "La figura 4-18 muestra lo mismo que la figura 4-17, pero reemplaza los modelos de cresta por modelos de lazo y utiliza diferentes valores α.\n",
    "\n",
    "![](https://learning.oreilly.com/api/v2/epubs/urn:orm:book:9781098125967/files/assets/mls3_0418.png)\n",
    "\n",
    "(_Figura 4-18. Modelos lineales (izquierda) y polinómicos (derecha), ambos utilizando varios niveles de regularización de lazo_)\n",
    "\n",
    "Una característica importante de la regresión del lazo es que tiende a eliminar los pesos de las características menos importantes (es decir, establecerlas en cero). Por ejemplo, la línea discontinua en el gráfico de la derecha en la Figura 4-18 (con α = 0,01) se ve aproximadamente cúbica: todos los pesos para las características polinómicas de alto grado son iguales a cero. En otras palabras, la regresión de lazo realiza automáticamente la selección de características y genera un modelo disperso con pocos pesos de características distintos de cero.\n",
    "\n",
    "Puedes hacerte una idea de por qué este es el caso mirando la Figura 4-19: los ejes representan dos parámetros del modelo, y los contornos de fondo representan diferentes funciones de pérdida. En el gráfico superior izquierdo, los contornos representan la pérdida de ℓ1 (|θ1| + |θ2|), que cae linealmente a medida que te acercas a cualquier eje. \n",
    "\n",
    "Por ejemplo, si inicializa los parámetros del modelo a θ1 = 2 y θ2 = 0,5, el descenso de gradiente de ejecución disminuirá ambos parámetros por igual (como se representa por la línea amarilla discontinua); por lo tanto, θ2 alcanzará a 0 primero (ya que estaba más cerca de 0 para empezar). \n",
    "\n",
    "Después de eso, el descenso del gradiente rodará por el canalón hasta que alcance θ1 = 0 (con un poco de rebote, ya que los gradientes de ℓ1 nunca se acercan a 0: son -1 o 1 para cada parámetro). En el gráfico superior derecho, los contornos representan la función de costo de la regresión del lazo (es decir, una función de costo MSE más una pérdida de ℓ1). \n",
    "\n",
    "Los pequeños círculos blancos muestran el camino que toma el descenso del gradiente para optimizar algunos parámetros del modelo que se inicializaron alrededor de θ1 = 0,25 y θ2 = -1: observe una vez más cómo el camino alcanza rápidamente θ2 = 0, luego rueda por el canalón y termina rebotando alrededor del óptimo global (representado por el cuadrado rojo). \n",
    "\n",
    "Si aumentamos α, el óptimo global se movería a la izquierda a lo largo de la línea amarilla discontinua, mientras que si disminuimos α, el óptimo global se movería a la derecha (en este ejemplo, los parámetros óptimos para el MSE no regularizado son θ1 = 2 y θ2 = 0,5).\n",
    "\n",
    "![](https://learning.oreilly.com/api/v2/epubs/urn:orm:book:9781098125967/files/assets/mls3_0419.png)\n",
    "\n",
    "(_Figura 4-19. Regularización de la lazo frente a la cresta_)\n",
    "\n",
    "Las dos parcelas inferiores muestran lo mismo, pero con una penalización de ℓ2. \n",
    "\n",
    "En el gráfico inferior izquierdo, puedes ver que la pérdida de ℓ2 disminuye a medida que nos acercamos al origen, por lo que el descenso de gradiente solo toma un camino recto hacia ese punto. En el gráfico inferior derecho, los contornos representan la función de costo de la regresión de cresta (es decir, una función de costo de MSE más una pérdida de ℓ2). \n",
    "\n",
    "Como puede ver, los gradientes se hacen más pequeños a medida que los parámetros se acercan al óptimo global, por lo que el descenso del gradiente se ralentiza naturalmente. \n",
    "\n",
    "Esto limita el rebote, lo que ayuda a que la cresta converja más rápido que la regresión de lazo. \n",
    "\n",
    "También tenga en cuenta que los parámetros óptimos (representados por el cuadrado rojo) se acercan cada vez más al origen cuando aumenta α, pero nunca se eliminan por completo.\n",
    "\n",
    "### --------------------------- TIP -------------------------------\n",
    "Para evitar que el descenso del gradiente rebote alrededor del óptimo al final cuando se utiliza la regresión de lazo, debe reducir gradualmente la tasa de aprendizaje durante el entrenamiento. Todavía rebotará alrededor del óptimo, pero los pasos se harán cada vez más pequeños, por lo que convergerá.\n",
    "### ---------------------------------------------------------------\n",
    "\n",
    "\n",
    "La función de costo de lazo no es diferenciable en θi = 0 (para i = 1, 2, ⋯, n), pero el descenso de gradiente todavía funciona si se utiliza un vector de subgradiente g⁠11 en su lugar cuando cualquier θi = 0. La ecuación 4-11 muestra una ecuación vectorial de subgradiente que puedes usar para el descenso de gradiente con la función de costo de lazo.\n",
    "\n",
    "### Ecuación 4-11 Vector subgradiente de regresión de lass\n",
    "\n",
    "<a href=\"https://ibb.co/XtCN8yM\"><img src=\"https://i.ibb.co/NKyQS1b/Captura-de-pantalla-2023-09-04-a-las-5-51-41.png\" alt=\"Captura-de-pantalla-2023-09-04-a-las-5-51-41\" border=\"0\"></a>\n",
    "\n",
    "Aquí hay un pequeño ejemplo de Scikit-Learn usando la clase `Lasso`:"
   ]
  },
  {
   "cell_type": "code",
   "execution_count": 23,
   "id": "83d022be",
   "metadata": {},
   "outputs": [
    {
     "data": {
      "text/plain": [
       "array([4.77621741])"
      ]
     },
     "execution_count": 23,
     "metadata": {},
     "output_type": "execute_result"
    }
   ],
   "source": [
    "from sklearn.linear_model import Lasso\n",
    "lasso_reg = Lasso(alpha=0.1)\n",
    "lasso_reg.fit(X, y)\n",
    "lasso_reg.predict([[1.5]])\n",
    "\n",
    "#También podríamos usar:\n",
    "#SGDRegressor(penalty=\"l1\", alpha=0.1)"
   ]
  },
  {
   "cell_type": "markdown",
   "id": "a25dbde1",
   "metadata": {},
   "source": [
    "## Regresión neta elástica\n",
    "\n",
    "La regresión de la red elástica es un punto intermedio entre la regresión de cresta y la regresión de lazo. El término de regularización es una suma ponderada de los términos de regularización de ridge y lasso, y puedes controlar la relación de mezcla r. \n",
    "Cuando r = 0, la red elástica es equivalente a la regresión de la cresta, y cuando r = 1, es equivalente a la regresión de lazo (Ecuación 4-12).\n",
    "\n",
    "### Ecuación 4-12. Función de coste neto elástico\n",
    "\n",
    "<a href=\"https://imgbb.com/\"><img src=\"https://i.ibb.co/K795Z9M/Captura-de-pantalla-2023-09-04-a-las-6-54-37.png\" alt=\"Captura-de-pantalla-2023-09-04-a-las-6-54-37\" border=\"0\"></a>\n",
    "\n",
    "Entonces, ¿cuándo debería usar la regresión neta elástica, o la regresión de cresta, lazo o la regresión lineal simple (es decir, sin ninguna regularización)? \n",
    "\n",
    "Casi siempre es preferible tener al menos un poco de regularización, por lo que generalmente debe evitar la regresión lineal simple. \n",
    "\n",
    "Ridge es un buen valor predeterminado, pero si sospechas que solo unas pocas características son útiles, deberías preferir el lazo o la red elástica porque tienden a reducir el peso de las características inútiles a cero, como se discutió anteriormente. \n",
    "\n",
    "En general, se prefiere la red elástica sobre el lazo porque el lazo puede comportarse de forma errática cuando el número de características es mayor que el número de instancias de entrenamiento o cuando varias características están fuertemente correlacionadas.\n",
    "\n",
    "Aquí un ejemplo que usa scikit-learn `ElasticNet(l1_ratio corresponde a mezclar el ratio r)`:"
   ]
  },
  {
   "cell_type": "code",
   "execution_count": 24,
   "id": "d493a6ef",
   "metadata": {},
   "outputs": [
    {
     "data": {
      "text/plain": [
       "array([4.78114505])"
      ]
     },
     "execution_count": 24,
     "metadata": {},
     "output_type": "execute_result"
    }
   ],
   "source": [
    "from sklearn.linear_model import ElasticNet\n",
    "elastic_net = ElasticNet(alpha=0.1, l1_ratio=0.5)\n",
    "elastic_net.fit(X, y)\n",
    "elastic_net.predict([[1.5]])"
   ]
  },
  {
   "cell_type": "markdown",
   "id": "45849741",
   "metadata": {},
   "source": [
    "## Parada temprana\n",
    "\n",
    "Una forma muy diferente de regularizar los algoritmos de aprendizaje iterativo, como el descenso de gradiente, es detener el entrenamiento tan pronto como el error de validación alcance un mínimo. Esto se llama parada temprana. \n",
    "La figura 4-20 muestra un modelo complejo (en este caso, un modelo de regresión polinómica de alto grado) que se está entrenando con el descenso del gradiente por lotes en el conjunto de datos cuadrático que usamos anteriormente. \n",
    "A medida que pasan las épocas, el algoritmo aprende, y su error de predicción (RMSE) en el conjunto de entrenamiento cae, junto con su error de predicción en el conjunto de validación. Sin embargo, después de un tiempo, el error de validación deja de disminuir y comienza a volver a subir. \n",
    "Esto indica que el modelo ha comenzado a sobreadaptar los datos de entrenamiento. Con la parada temprana, simplemente dejas de entrenar tan pronto como el error de validación alcance el mínimo. \n",
    "\n",
    "Es una técnica de regularización tan simple y eficiente que Geoffrey Hinton la llamó un \"hermoso almuerzo gratis\".\n",
    "\n",
    "![](https://learning.oreilly.com/api/v2/epubs/urn:orm:book:9781098125967/files/assets/mls3_0420.png)\n",
    "\n",
    "### ----------------------------- TIP -------------------------------------\n",
    "Con el descenso de gradiente estocástico y mini-lote, las curvas no son tan suaves, y puede ser difícil saber si has alcanzado el mínimo o no. Una solución es detenerse solo después de que el error de validación haya estado por encima del mínimo durante algún tiempo (cuando esté seguro de que el modelo no lo hará mejor), y luego revertir los parámetros del modelo hasta el punto en que el error de validación estuvo al mínimo.\n",
    "### -----------------------------------------------------------------------\n",
    "\n",
    "Aquí hay una implementación básica de la parada temprana:"
   ]
  },
  {
   "cell_type": "code",
   "execution_count": 25,
   "id": "89d12eca",
   "metadata": {},
   "outputs": [
    {
     "ename": "ValueError",
     "evalue": "not enough values to unpack (expected 4, got 1)",
     "output_type": "error",
     "traceback": [
      "\u001b[0;31m---------------------------------------------------------------------------\u001b[0m",
      "\u001b[0;31mValueError\u001b[0m                                Traceback (most recent call last)",
      "\u001b[0;32m/var/folders/3k/rj832x716_563czpglqh2mmw0000gn/T/ipykernel_2986/2086719212.py\u001b[0m in \u001b[0;36m<module>\u001b[0;34m\u001b[0m\n\u001b[1;32m      3\u001b[0m \u001b[0;32mfrom\u001b[0m \u001b[0msklearn\u001b[0m\u001b[0;34m.\u001b[0m\u001b[0mpreprocessing\u001b[0m \u001b[0;32mimport\u001b[0m \u001b[0mStandardScaler\u001b[0m\u001b[0;34m\u001b[0m\u001b[0;34m\u001b[0m\u001b[0m\n\u001b[1;32m      4\u001b[0m \u001b[0;34m\u001b[0m\u001b[0m\n\u001b[0;32m----> 5\u001b[0;31m \u001b[0mX_train\u001b[0m\u001b[0;34m,\u001b[0m \u001b[0my_train\u001b[0m\u001b[0;34m,\u001b[0m \u001b[0mX_valid\u001b[0m\u001b[0;34m,\u001b[0m \u001b[0my_valid\u001b[0m \u001b[0;34m=\u001b[0m \u001b[0;34m[\u001b[0m\u001b[0;34m...\u001b[0m\u001b[0;34m]\u001b[0m  \u001b[0;31m# split the quadratic dataset\u001b[0m\u001b[0;34m\u001b[0m\u001b[0;34m\u001b[0m\u001b[0m\n\u001b[0m\u001b[1;32m      6\u001b[0m \u001b[0;34m\u001b[0m\u001b[0m\n\u001b[1;32m      7\u001b[0m preprocessing = make_pipeline(PolynomialFeatures(degree=90, include_bias=False),\n",
      "\u001b[0;31mValueError\u001b[0m: not enough values to unpack (expected 4, got 1)"
     ]
    }
   ],
   "source": [
    "from copy import deepcopy\n",
    "from sklearn.metrics import mean_squared_error\n",
    "from sklearn.preprocessing import StandardScaler\n",
    "\n",
    "X_train, y_train, X_valid, y_valid = [...]  # split the quadratic dataset\n",
    "\n",
    "preprocessing = make_pipeline(PolynomialFeatures(degree=90, include_bias=False),\n",
    "                              StandardScaler())\n",
    "X_train_prep = preprocessing.fit_transform(X_train)\n",
    "X_valid_prep = preprocessing.transform(X_valid)\n",
    "sgd_reg = SGDRegressor(penalty=None, eta0=0.002, random_state=42)\n",
    "n_epochs = 500\n",
    "best_valid_rmse = float('inf')\n",
    "\n",
    "for epoch in range(n_epochs):\n",
    "    sgd_reg.partial_fit(X_train_prep, y_train)\n",
    "    y_valid_predict = sgd_reg.predict(X_valid_prep)\n",
    "    val_error = mean_squared_error(y_valid, y_valid_predict, squared=False)\n",
    "    if val_error < best_valid_rmse:\n",
    "        best_valid_rmse = val_error\n",
    "        best_model = deepcopy(sgd_reg)"
   ]
  },
  {
   "cell_type": "markdown",
   "id": "de7eb211",
   "metadata": {},
   "source": [
    "Este código primero agrega las características polinómicas y escala todas las características de entrada, tanto para el conjunto de entrenamiento como para el conjunto de validación (el código supone que ha dividido el conjunto de entrenamiento original en un conjunto de entrenamiento más pequeño y un conjunto de validación). Luego crea un modelo `SGDRegressor` sin regularización y con una pequeña tasa de aprendizaje. En el ciclo de entrenamiento, llama a `partial_fit()` en lugar de `fit()`, para realizar un aprendizaje incremental. En cada época, mide el RMSE en el conjunto de validación. Si es inferior al RMSE más bajo visto hasta ahora, guarda una copia del modelo en la variable `best_model`. En realidad, esta implementación no detiene el entrenamiento, pero le permite volver al mejor modelo después del entrenamiento. Tenga en cuenta que el modelo se copia utilizando `copy.deepcopy()`, porque copia tanto los hiperparámetros del modelo como los parámetros aprendidos. Por el contrario, `sklearn.base.clone()` solo copia los hiperparámetros del modelo.\n",
    "\n",
    "\n",
    "# Regresión logística\n",
    "\n",
    "Como se discutió en el capítulo 1, algunos algoritmos de regresión se pueden utilizar para la clasificación (y viceversa). La regresión logística (también llamada regresión de logit) se utiliza comúnmente para estimar la probabilidad de que una instancia pertenezca a una clase en particular (por ejemplo, ¿cuál es la probabilidad de que este correo electrónico sea spam?). Si la probabilidad estimada es mayor que un umbral dado (típicamente el 50%), entonces el modelo predice que la instancia pertenece a esa clase (llamada clase positiva, etiquetada como \"1\", y de lo contrario predice que no lo hace (es decir, pertenece a la clase negativa, etiquetada como \"0\"\"). Esto lo convierte en un clasificador binario.\n",
    "\n",
    "\n",
    "## Estimación de probabilidades\n",
    "\n",
    "Entonces, ¿cómo funciona la regresión logística? Al igual que un modelo de regresión lineal, un modelo de regresión logística calcula una suma ponderada de las características de entrada (más un término de sesgo), pero en lugar de generar el resultado directamente como lo hace el modelo de regresión lineal, genera la logística de este resultado (ver Ecuación 4-13).\n",
    "\n",
    "### Ecuación 4-13. Probabilidad estimada del modelo de regresión logística (forma vectorizada)\n",
    "\n",
    "<a href=\"https://imgbb.com/\"><img src=\"https://i.ibb.co/fHdg3rf/Captura-de-pantalla-2023-09-04-a-las-20-04-21.png\" alt=\"Captura-de-pantalla-2023-09-04-a-las-20-04-21\" border=\"0\"></a>\n",
    "\n",
    "La logística, con la que se señala σ(·), es una función sigmoide (es decir, en forma de S) que produce un número entre 0 y 1. Se define como se muestra en la ecuación 4-14 y la Figura 4-21.\n",
    "\n",
    "### Ecuación 4-14. Función logística\n",
    "\n",
    "<a href=\"https://imgbb.com/\"><img src=\"https://i.ibb.co/02MbQpc/Captura-de-pantalla-2023-09-04-a-las-20-05-12.png\" alt=\"Captura-de-pantalla-2023-09-04-a-las-20-05-12\" border=\"0\"></a>\n",
    "\n",
    "![](https://learning.oreilly.com/api/v2/epubs/urn:orm:book:9781098125967/files/assets/mls3_0421.png)\n",
    "\n",
    "Una vez que el modelo de regresión logística ha estimado la probabilidad **p^ = hθ(x)** que una instancia x pertenece a la clase positiva, puede hacer su predicción ŷ fácilmente (ver Ecuación 4-15).\n",
    "\n",
    "### Ecuación 4-15. Predicción del modelo de regresión logística utilizando un umbral de probabilidad del 50 %\n",
    "\n",
    "<a href=\"https://imgbb.com/\"><img src=\"https://i.ibb.co/MggtrMD/Captura-de-pantalla-2023-09-04-a-las-20-06-51.png\" alt=\"Captura-de-pantalla-2023-09-04-a-las-20-06-51\" border=\"0\"></a>\n",
    "\n",
    "Tenga en cuenta que σ(t) < 0,5 cuando t < 0, y σ(t) ≥ 0,5 cuando t ≥ 0, por lo que un modelo de regresión logística que utiliza el umbral predeterminado del 50% de probabilidad predice 1 si θ⊺ x es positivo y 0 si es negativo.\n",
    "\n",
    "#### ----------------------------- NOTA --------------------------------\n",
    "La puntuación t a menudo se llama logit. El nombre proviene del hecho de que la función logit, definida como logit(p) = log(p / (1 - p)), es la inversa de la función logística. \n",
    "\n",
    "De hecho, si calculas el logit de la probabilidad estimada p, encontrarás que el resultado es t. \n",
    "\n",
    "El logit también se llama log-odds, ya que es el log de la relación entre la probabilidad estimada para la clase positiva y la probabilidad estimada para la clase negativa.\n",
    "#### ---------------------------------------------------------------------\n",
    "\n",
    "## Función de formación y coste\n",
    "\n",
    "Ahora ya sabes cómo un modelo de regresión logística estima las probabilidades y hace predicciones. Pero, ¿cómo se entrena? El objetivo del entrenamiento es establecer el parámetro vectorθ para que el modelo estime altas probabilidades para instancias positivas (y = 1) y bajas probabilidades para instancias negativas (y = 0). Esta idea es capturada por la función de costo que se muestra en la ecuación 4-16 para una sola instancia de entrenamiento x.\n",
    "\n",
    "### Ecuación 4-16. Función de coste de una sola instancia de formación\n",
    "\n",
    "<a href=\"https://imgbb.com/\"><img src=\"https://i.ibb.co/dkdySsF/Captura-de-pantalla-2023-09-04-a-las-20-09-16.png\" alt=\"Captura-de-pantalla-2023-09-04-a-las-20-09-16\" border=\"0\"></a>\n",
    "\n",
    "Esta función de costo tiene sentido porque -log(t) crece muy grande cuando t se acerca a 0, por lo que el costo será grande si el modelo estima una probabilidad cercana a 0 para una instancia positiva, y también será grande si el modelo estima una probabilidad cercana a 1 para una instancia negativa. Por otro lado, -log(t) está cerca de 0 cuando t está cerca de 1, por lo que el costo estará cerca de 0 si la probabilidad estimada está cerca de 0 para una instancia negativa o cerca de 1 para una instancia positiva, que es precisamente lo que queremos.\n",
    "\n",
    "La función de costo en todo el conjunto de entrenamiento es el costo promedio en todas las instancias de entrenamiento. Se puede escribir en una sola expresión llamada pérdida de registro, que se muestra en la ecuación 4-17.\n",
    "\n",
    "### Ecuación 4-17. Función de costo de regresión logística (p pérdida de registro)\n",
    "\n",
    "<a href=\"https://imgbb.com/\"><img src=\"https://i.ibb.co/2PYRqwW/Captura-de-pantalla-2023-09-04-a-las-20-09-53.png\" alt=\"Captura-de-pantalla-2023-09-04-a-las-20-09-53\" border=\"0\"></a>\n",
    "\n",
    "#### ---------------------------------- ADVERTENCIA ------------------------------\n",
    "La pérdida de troncos no solo se sacó de un sombrero. Se puede demostrar matemáticamente (usando la inferencia bayesiana) que la minimización de esta pérdida dará como resultado el modelo con la máxima probabilidad de ser óptimo, suponiendo que las instancias sigan una distribución gaussiana alrededor de la media de su clase. Cuando usas la pérdida de registro, esta es la suposición implícita que estás haciendo. Cuanto más errónea sea esta suposición, más sesgada será el modelo. Del mismo modo, cuando usamos el MSE para entrenar modelos de regresión lineal, asumimos implícitamente que los datos eran puramente lineales, además de algo de ruido gaussiano. Por lo tanto, si los datos no son lineales (por ejemplo, si son cuadráticos) o si el ruido no es gaussiano (por ejemplo, si los valores atípicos no son exponencialmente raros), entonces el modelo estará sesgado.\n",
    "#### -----------------------------------------------------------------------------------\n",
    "\n",
    "La mala noticia es que no hay una ecuación de forma cerrada conocida para calcular el valor de θ que minimice esta función de costo (no hay equivalente de la ecuación Normal). Pero la buena noticia es que esta función de costo es convexa, por lo que el descenso de gradiente (o cualquier otro algoritmo de optimización) está garantizado para encontrar el mínimo global (si la tasa de aprendizaje no es demasiado grande y esperas lo suficiente). Las derivadas parciales de la función de coste con respecto al parámetro del modelo jth θj están dadas por la ecuación 4-18.\n",
    "\n",
    "### Ecuación 4-18. Derivados parciales de la función de costo logístico\n",
    "\n",
    "<a href=\"https://imgbb.com/\"><img src=\"https://i.ibb.co/5vq4VH3/Captura-de-pantalla-2023-09-04-a-las-20-11-16.png\" alt=\"Captura-de-pantalla-2023-09-04-a-las-20-11-16\" border=\"0\"></a>\n",
    "\n",
    "Esta ecuación se parece mucho a la ecuación 4-5: para cada instancia calcula el error de predicción y lo multiplica por el valor de la característica jth, y luego calcula el promedio en todas las instancias de entrenamiento. Una vez que tenga el vector de gradiente que contiene todas las derivadas parciales, puede usarlo en el algoritmo de descenso de gradiente por lotes. Eso es todo: ahora sabes cómo entrenar un modelo de regresión logística. Para el GD estocástico, tomarías una instancia a la vez, y para el GD de mini lotes, usarías un mini lote a la vez.\n",
    "\n",
    "\n",
    "## Límites de la dicisión (Decision Boundaries)\n",
    "\n",
    "Podemos usar el conjunto de datos del iris para ilustrar la regresión logística. Este es un famoso conjunto de datos que contiene la longitud y el ancho del sépalo y los pétalos de 150 flores de iris de tres especies diferentes: Iris setosa, Iris versicolor e Iris virginica (ver Figura 4-22).\n",
    "\n",
    "\n",
    "![](https://learning.oreilly.com/api/v2/epubs/urn:orm:book:9781098125967/files/assets/mls3_0422.png)\n",
    "\n",
    "Intentemos construir un clasificador para detectar el tipo Iris virginica basado solo en la característica de ancho de pétalo. El primer paso es cargar los datos y echar un vistazo rápido:"
   ]
  },
  {
   "cell_type": "code",
   "execution_count": 26,
   "id": "34122bc4",
   "metadata": {},
   "outputs": [
    {
     "data": {
      "text/plain": [
       "['data',\n",
       " 'target',\n",
       " 'frame',\n",
       " 'target_names',\n",
       " 'DESCR',\n",
       " 'feature_names',\n",
       " 'filename',\n",
       " 'data_module']"
      ]
     },
     "execution_count": 26,
     "metadata": {},
     "output_type": "execute_result"
    }
   ],
   "source": [
    "from sklearn.datasets import load_iris\n",
    "iris = load_iris(as_frame=True)\n",
    "list(iris)"
   ]
  },
  {
   "cell_type": "code",
   "execution_count": 27,
   "id": "c73bc075",
   "metadata": {},
   "outputs": [
    {
     "data": {
      "text/html": [
       "<div>\n",
       "<style scoped>\n",
       "    .dataframe tbody tr th:only-of-type {\n",
       "        vertical-align: middle;\n",
       "    }\n",
       "\n",
       "    .dataframe tbody tr th {\n",
       "        vertical-align: top;\n",
       "    }\n",
       "\n",
       "    .dataframe thead th {\n",
       "        text-align: right;\n",
       "    }\n",
       "</style>\n",
       "<table border=\"1\" class=\"dataframe\">\n",
       "  <thead>\n",
       "    <tr style=\"text-align: right;\">\n",
       "      <th></th>\n",
       "      <th>sepal length (cm)</th>\n",
       "      <th>sepal width (cm)</th>\n",
       "      <th>petal length (cm)</th>\n",
       "      <th>petal width (cm)</th>\n",
       "    </tr>\n",
       "  </thead>\n",
       "  <tbody>\n",
       "    <tr>\n",
       "      <th>0</th>\n",
       "      <td>5.1</td>\n",
       "      <td>3.5</td>\n",
       "      <td>1.4</td>\n",
       "      <td>0.2</td>\n",
       "    </tr>\n",
       "    <tr>\n",
       "      <th>1</th>\n",
       "      <td>4.9</td>\n",
       "      <td>3.0</td>\n",
       "      <td>1.4</td>\n",
       "      <td>0.2</td>\n",
       "    </tr>\n",
       "    <tr>\n",
       "      <th>2</th>\n",
       "      <td>4.7</td>\n",
       "      <td>3.2</td>\n",
       "      <td>1.3</td>\n",
       "      <td>0.2</td>\n",
       "    </tr>\n",
       "  </tbody>\n",
       "</table>\n",
       "</div>"
      ],
      "text/plain": [
       "   sepal length (cm)  sepal width (cm)  petal length (cm)  petal width (cm)\n",
       "0                5.1               3.5                1.4               0.2\n",
       "1                4.9               3.0                1.4               0.2\n",
       "2                4.7               3.2                1.3               0.2"
      ]
     },
     "execution_count": 27,
     "metadata": {},
     "output_type": "execute_result"
    }
   ],
   "source": [
    "iris.data.head(3)"
   ]
  },
  {
   "cell_type": "code",
   "execution_count": 28,
   "id": "9f35760c",
   "metadata": {},
   "outputs": [
    {
     "data": {
      "text/plain": [
       "0    0\n",
       "1    0\n",
       "2    0\n",
       "Name: target, dtype: int64"
      ]
     },
     "execution_count": 28,
     "metadata": {},
     "output_type": "execute_result"
    }
   ],
   "source": [
    "iris.target.head(3)  # notar que las instancias no están barajadas"
   ]
  },
  {
   "cell_type": "code",
   "execution_count": 29,
   "id": "8e7b32e6",
   "metadata": {},
   "outputs": [
    {
     "data": {
      "text/plain": [
       "array(['setosa', 'versicolor', 'virginica'], dtype='<U10')"
      ]
     },
     "execution_count": 29,
     "metadata": {},
     "output_type": "execute_result"
    }
   ],
   "source": [
    "iris.target_names"
   ]
  },
  {
   "cell_type": "markdown",
   "id": "fe80da42",
   "metadata": {},
   "source": [
    "A continuación, dividiremos los datos y entrenaremos un modelo de regresión logística en el conjunto de entrenamiento:"
   ]
  },
  {
   "cell_type": "code",
   "execution_count": 30,
   "id": "3f94b91b",
   "metadata": {},
   "outputs": [
    {
     "data": {
      "text/plain": [
       "LogisticRegression(random_state=42)"
      ]
     },
     "execution_count": 30,
     "metadata": {},
     "output_type": "execute_result"
    }
   ],
   "source": [
    "from sklearn.linear_model import LogisticRegression\n",
    "from sklearn.model_selection import train_test_split\n",
    "\n",
    "X = iris.data[[\"petal width (cm)\"]].values\n",
    "y = iris.target_names[iris.target] == 'virginica'\n",
    "X_train, X_test, y_train, y_test = train_test_split(X, y, random_state=42)\n",
    "\n",
    "log_reg = LogisticRegression(random_state=42)\n",
    "log_reg.fit(X_train, y_train)"
   ]
  },
  {
   "cell_type": "markdown",
   "id": "8450d556",
   "metadata": {},
   "source": [
    "Echemos un vistazo a las probabilidades estimadas del modelo para las flores con anchos de pétalos que varían de 0 cm a 3 cm (Figura 4-23):"
   ]
  },
  {
   "cell_type": "code",
   "execution_count": 31,
   "id": "ba9df0f7",
   "metadata": {},
   "outputs": [
    {
     "data": {
      "image/png": "[encoded data removed]",
      "text/plain": [
       "<Figure size 640x480 with 1 Axes>"
      ]
     },
     "metadata": {},
     "output_type": "display_data"
    }
   ],
   "source": [
    "X_new = np.linspace(0, 3, 1000).reshape(-1, 1)  # reshape to get a column vector\n",
    "y_proba = log_reg.predict_proba(X_new)\n",
    "decision_boundary = X_new[y_proba[:, 1] >= 0.5][0, 0]\n",
    "\n",
    "plt.plot(X_new, y_proba[:, 0], \"b--\", linewidth=2,\n",
    "         label=\"Not Iris virginica proba\")\n",
    "plt.plot(X_new, y_proba[:, 1], \"g-\", linewidth=2, label=\"Iris virginica proba\")\n",
    "plt.plot([decision_boundary, decision_boundary], [0, 1], \"k:\", linewidth=2,\n",
    "         label=\"Decision boundary\")\n",
    "[...] # beautify the figure: add grid, labels, axis, legend, arrows, and samples\n",
    "plt.show()"
   ]
  },
  {
   "cell_type": "markdown",
   "id": "a7a9f3da",
   "metadata": {},
   "source": [
    "![](https://learning.oreilly.com/api/v2/epubs/urn:orm:book:9781098125967/files/assets/mls3_0423.png)\n",
    "\n",
    "(_Figura 4-23. Probabilidades estimadas y límite de decisión_)\n",
    "\n",
    "El ancho de los pétalos de las flores de Iris virginica (representadas como triángulos) varía de 1,4 cm a 2,5 cm, mientras que las otras flores de iris (representadas por cuadrados) generalmente tienen un ancho de pétalos más pequeño, que oscila entre 0,1 cm y 1,8 cm. \n",
    "\n",
    "Observe que hay un poco de superposición. \n",
    "Por encima de aproximadamente 2 cm, el clasificador tiene mucha confianza en que la flor es Iris virginica (da una alta probabilidad para esa clase), mientras que por debajo de 1 cm tiene mucha confianza en que no es una Iris virginica (alta probabilidad para la clase \"No Iris\"). virginica”). \n",
    "\n",
    "Entre estos extremos, el clasificador no está seguro. Sin embargo, si le pide que prediga la clase (usando el método `predict()` en lugar del método `predict_proba()`), devolverá la clase que sea más probable. \n",
    "Por lo tanto, existe un límite de decisión en torno a 1,6 cm donde ambas probabilidades son iguales al 50%: si el ancho del pétalo es mayor que 1,6 cm el clasificador predecirá que la flor es una Iris virginica, y en caso contrario predecirá que no lo es. (incluso si no tiene mucha confianza):"
   ]
  },
  {
   "cell_type": "code",
   "execution_count": 32,
   "id": "1422424c",
   "metadata": {},
   "outputs": [
    {
     "data": {
      "text/plain": [
       "1.6516516516516517"
      ]
     },
     "execution_count": 32,
     "metadata": {},
     "output_type": "execute_result"
    }
   ],
   "source": [
    "decision_boundary"
   ]
  },
  {
   "cell_type": "code",
   "execution_count": 33,
   "id": "fd870f84",
   "metadata": {},
   "outputs": [
    {
     "data": {
      "text/plain": [
       "array([ True, False])"
      ]
     },
     "execution_count": 33,
     "metadata": {},
     "output_type": "execute_result"
    }
   ],
   "source": [
    "log_reg.predict([[1.7], [1.5]])"
   ]
  },
  {
   "cell_type": "markdown",
   "id": "ce20d185",
   "metadata": {},
   "source": [
    "La figura 4-24 muestra el mismo conjunto de datos, pero esta vez muestra dos características: ancho y largo de los pétalos. Una vez entrenado, el clasificador de regresión logística puede, basándose en estas dos características, estimar la probabilidad de que una nueva flor sea anIris virginica. \n",
    "\n",
    "La línea discontinua representa los puntos en los que el modelo estima una probabilidad del 50 %: este es el límite de decisión del modelo. \n",
    "\n",
    "Tenga en cuenta que es un límite lineal.⁠ \n",
    "Cada línea paralela representa los puntos en los que el modelo genera una probabilidad específica, desde el 15 % (abajo a la izquierda) hasta el 90 % (arriba a la derecha). Todas las flores más allá de la línea superior derecha tienen más del 90 % de probabilidades de ser Iris virginica, según el modelo.\n",
    "\n",
    "![](https://learning.oreilly.com/api/v2/epubs/urn:orm:book:9781098125967/files/assets/mls3_0424.png)\n",
    "\n",
    "(_Figura 4-24. Límite de decisión lineal_)\n",
    "\n",
    "#### ----------------------------------- NOTA ----------------------------------------\n",
    "El hiperparámetro que controla la fuerza de regularización de un modelo Scikit-Learn `LogisticRegression` no es `alfa` (como en otros modelos lineales), sino su inverso: `C`. \n",
    "Cuanto mayor es el valor de `C`, menos regularizado está el modelo.\n",
    "#### -----------------------------------------------------------------------------------\n",
    "\n",
    "Al igual que los otros modelos lineales, los modelos de regresión logística se pueden regularizar usando penalizaciones ℓ1 o ℓ2. Scikit-Learn en realidad añade una penalización de ℓ2 por defecto.\n",
    "\n",
    "\n",
    "## Regresión Softmax\n",
    "\n",
    "El modelo de regresión logística se puede generalizar para admitir múltiples clases directamente, sin tener que entrenar y combinar múltiples clasificadores binarios (como se discute en el capítulo 3). Esto se llama regresión softmax, o regresión logística multinomial.\n",
    "\n",
    "La idea es simple: cuando se le da una instancia **x**, el modelo de regresión softmax primero calcula una puntuación sk(**x**) para cada clase k, luego estima la probabilidad de cada clase aplicando la función softmax (también llamada exponencial normalizada) a las puntuaciones. La ecuación para calcular sk(x) debería parecer familiar, ya que es igual que la ecuación para la predicción de regresión lineal (ver Ecuación 4-19).\n",
    "\n",
    "### Ecuación 4-19. Puntuación Softmax para la clase k\n",
    "\n",
    "<a href=\"https://imgbb.com/\"><img src=\"https://i.ibb.co/1rWCQdL/Captura-de-pantalla-2023-09-06-a-las-3-57-11.png\" alt=\"Captura-de-pantalla-2023-09-06-a-las-3-57-11\" border=\"0\"></a>\n",
    "\n",
    "Tenga en cuenta que cada clase tiene su propio vector de parámetros dedicado θ(k). Todos estos vectores se almacenan normalmente como filas en una matriz de parámetros Θ.\n",
    "\n",
    "Una vez que hayas calculado la puntuación de cada clase para la instancia x, puedes estimar la probabilidad **pK^** que la instancia pertenece a la clase k ejecutando las puntuaciones a través de la función softmax (Ecuación 4-20). La función calcula la exponencial de cada puntuación, luego la normaliza (dividiéndola por la suma de todas las exponenciales). Las puntuaciones generalmente se llaman logits o log-odds (aunque en realidad son log-odds no normalizados).\n",
    "\n",
    "### Ecuación 4-20. Función Softmax\n",
    "\n",
    "<a href=\"https://imgbb.com/\"><img src=\"https://i.ibb.co/R6213kk/Captura-de-pantalla-2023-09-06-a-las-4-02-01.png\" alt=\"Captura-de-pantalla-2023-09-06-a-las-4-02-01\" border=\"0\"></a>\n",
    "\n",
    "En esta ecuación:\n",
    "\n",
    "- _**K**_ es el número de clases.\n",
    "- _**s(x)**_ es un vector que contiene las puntuaciones de cada clase para la instancia _x_.\n",
    "- _**σ(s(x))k**_ es la probabilidad estimada de que la instancia x pertenezca a la clase k, dadas las puntuaciones de cada clase para esa instancia.\n",
    "\n",
    "Al igual que el clasificador de regresión logística, por defecto, el clasificador de regresión softmax predice la clase con la probabilidad estimada más alta (que es simplemente la clase con la puntuación más alta), como se muestra en la Ecuación 4-21.\n",
    "\n",
    "\n",
    "### Ecuación 4-21. Predicción del clasificador de regresión Softmax\n",
    "\n",
    "<a href=\"https://imgbb.com/\"><img src=\"https://i.ibb.co/qDNhrcG/Captura-de-pantalla-2023-09-06-a-las-4-05-36.png\" alt=\"Captura-de-pantalla-2023-09-06-a-las-4-05-36\" border=\"0\"></a>\n",
    "\n",
    "El operador argmax devuelve el valor de una variable que maximiza una función. En esta ecuación, devuelve el valor de k que maximiza la probabilidad estimada **σ(s(x))k**.\n",
    "\n",
    "#### --------------------------------------- TIP --------------------------------------\n",
    "El clasificador de regresión softmax predice solo una clase a la vez (es decir, es multiclase, no multisalida), por lo que debe usarse solo con clases mutuamente excluyentes, como diferentes especies de plantas. \n",
    "No puedes usarlo para reconocer a varias personas en una imagen.\n",
    "#### ----------------------------------------------------------------------------------\n",
    "\n",
    "Ahora que sabes cómo el modelo estima las probabilidades y hace predicciones, echemos un vistazo a la formación. El objetivo es tener un modelo que estime una alta probabilidad para la clase objetivo (y, en consecuencia, una baja probabilidad para las otras clases). \n",
    "Minimizar la función de costo que se muestra en la Ecuación 4-22, llamada entropía cruzada, debería conducir a este objetivo porque penaliza el modelo cuando estima una baja probabilidad para una clase objetivo. \n",
    "La entropía cruzada se utiliza con frecuencia para medir qué tan bien un conjunto de probabilidades de clase estimadas coincide con las clases objetivo.\n",
    "\n",
    "### Ecuación 4-22. Función de costo de entropía cruzada\n",
    "\n",
    "<a href=\"https://imgbb.com/\"><img src=\"https://i.ibb.co/3R3SFBN/Captura-de-pantalla-2023-09-06-a-las-4-09-27.png\" alt=\"Captura-de-pantalla-2023-09-06-a-las-4-09-27\" border=\"0\"></a>\n",
    "\n",
    "En esta ecuación, yk^(i) es la probabilidad objetivo de que la i-i-i instancia pertenezca a la clase k. En general, es igual a 1 o 0, dependiendo de si la instancia pertenece a la clase o no.\n",
    "\n",
    "Tenga en cuenta que cuando solo hay dos clases (K = 2), esta función de costo es equivalente a la función de costo de regresión logística (p pérdida de registro; véase la ecuación 4-17).\n",
    "\n",
    "\n",
    "#### ------------- ENTROPÍA CRUZADA (CROSS ENTROPY) -------------------\n",
    "La entropía cruzada se originó a partir de la teoría de la información de Claude Shannon. \n",
    "\n",
    "Supongamos que quieres transmitir información eficiente sobre el clima todos los días. \n",
    "Si hay ocho opciones (soleadas, lluviosas, etc.), podrías codificar cada opción usando 3 bits, porque 23 = 8. Sin embargo, si crees que estará soleado casi todos los días, sería mucho más eficiente codificar \"soleado\" en solo un bit (0) y las otras siete opciones en cuatro bits (empezando con un 1). \n",
    "La entropía cruzada mide el número promedio de bits que realmente envías por opción. \n",
    "Si su suposición sobre el clima es perfecta, la entropía cruzada será igual a la entropía del clima en sí (es decir, su imprevisibilidad intrínseca). \n",
    "Pero si su suposición es errónea (por ejemplo, si llueve a menudo), la entropía cruzada será mayor en una cantidad llamada divergencia Kullback-Leibler (KL).\n",
    "\n",
    "La entropía cruzada entre dos distribuciones de probabilidad p y q se define como H(p,q) = -Σx p(x) log q(x) (al menos cuando las distribuciones son discretas). Para más detalles, echa un vistazo a mi vídeo sobre el tema.\n",
    "\n",
    "La entropía cruzada entre dos distribuciones de probabilidad _p_ y _q_ se define como _**H(p,q) = -Σx p(x) log q(x)**_ (al menos cuando las distribuciones son discretas). \n",
    "\n",
    "Para más detalles, echa un vistazo a mi vídeo sobre el tema.\n",
    "\n",
    "https://www.youtube.com/watch?v=ErfnhcEV1O8\n",
    "\n",
    "#### ----------------------------------------------------------------------------------\n",
    "\n",
    "El vector de gradiente de esta función de coste con respecto a θ(k) está dado por la ecuación 4-23.\n",
    "\n",
    "### Ecuación 4-23. Vector de gradiente de entropía cruzada para la clase k\n",
    "\n",
    "<a href=\"https://imgbb.com/\"><img src=\"https://i.ibb.co/q1htDvR/Captura-de-pantalla-2023-09-06-a-las-4-17-04.png\" alt=\"Captura-de-pantalla-2023-09-06-a-las-4-17-04\" border=\"0\"></a>\n",
    "\n",
    "Ahora puede calcular el vector de gradiente para cada clase, luego usar el descenso de gradiente (o cualquier otro algoritmo de optimización) para encontrar la matriz de parámetrosΘ que minimiza la función de costo.\n",
    "\n",
    "Usemos la regresión softmax para clasificar las plantas de iris en las tres clases. El clasificador `LogisticRegression` de Scikit-Learn usa la regresión softmax automáticamente cuando lo entrenas en más de dos clases (suponiendo que uses `solver=\"lbfgs\"`, que es el valor predeterminado). También aplica la regularización ℓ2 de forma predeterminada, que puedes controlar usando el hiperparámetro `C`, como se mencionó anteriormente:"
   ]
  },
  {
   "cell_type": "code",
   "execution_count": 34,
   "id": "a897f81b",
   "metadata": {},
   "outputs": [
    {
     "data": {
      "text/plain": [
       "LogisticRegression(C=30, random_state=42)"
      ]
     },
     "execution_count": 34,
     "metadata": {},
     "output_type": "execute_result"
    }
   ],
   "source": [
    "X = iris.data[[\"petal length (cm)\", \"petal width (cm)\"]].values\n",
    "y = iris[\"target\"]\n",
    "X_train, X_test, y_train, y_test = train_test_split(X, y, random_state=42)\n",
    "\n",
    "softmax_reg = LogisticRegression(C=30, random_state=42)\n",
    "softmax_reg.fit(X_train, y_train)"
   ]
  },
  {
   "cell_type": "markdown",
   "id": "9f9e4b2c",
   "metadata": {},
   "source": [
    "Así que la próxima vez que encuentres un iris con pétalos de 5 cm de largo y 2 cm de ancho, puedes pedirle a tu modelo que te diga qué tipo de iris es, y responderá Iris virginica (clase 2) con un 96 % de probabilidad (o Iris versicolor con un 4 % de probabilidad):"
   ]
  },
  {
   "cell_type": "code",
   "execution_count": 35,
   "id": "f7551584",
   "metadata": {},
   "outputs": [
    {
     "data": {
      "text/plain": [
       "array([2])"
      ]
     },
     "execution_count": 35,
     "metadata": {},
     "output_type": "execute_result"
    }
   ],
   "source": [
    "softmax_reg.predict([[5, 2]])"
   ]
  },
  {
   "cell_type": "code",
   "execution_count": 36,
   "id": "e72653ef",
   "metadata": {},
   "outputs": [
    {
     "data": {
      "text/plain": [
       "array([[0.  , 0.04, 0.96]])"
      ]
     },
     "execution_count": 36,
     "metadata": {},
     "output_type": "execute_result"
    }
   ],
   "source": [
    "softmax_reg.predict_proba([[5, 2]]).round(2)"
   ]
  },
  {
   "cell_type": "markdown",
   "id": "a4507135",
   "metadata": {},
   "source": [
    "La figura 4-25 muestra los límites de decisión resultantes, representados por los colores de fondo. Tenga en cuenta que los límites de decisión entre dos clases cualesquiera son lineales. La figura también muestra las probabilidades de la clase versicolor de Iris, representada por las líneas curvas (por ejemplo, la línea etiquetada con 0,30 representa el límite de probabilidad del 30%). Tenga en cuenta que el modelo puede predecir una clase que tiene una probabilidad estimada por debajo del 50 %. Por ejemplo, en el punto en que todos los límites de decisión se encuentran, todas las clases tienen una probabilidad estimada igual del 33 %.\n",
    "\n",
    "![](https://learning.oreilly.com/api/v2/epubs/urn:orm:book:9781098125967/files/assets/mls3_0425.png)\n",
    "\n",
    "(_Figura 4-25. Límites de decisión de regresión Softmax_)\n",
    "\n",
    "\n",
    "En este capítulo, aprendiste varias formas de entrenar modelos lineales, tanto para la regresión como para la clasificación. Utilizó una ecuación de forma cerrada para resolver la regresión lineal, así como el descenso de gradiente, y aprendió cómo se pueden agregar varias sanciones a la función de costo durante el entrenamiento para regularizar el modelo. \n",
    "En el camino, también aprendiste a trazar curvas de aprendizaje y analizarlas, y a implementar la parada temprana. Finalmente, aprendiste cómo funcionan la regresión logística y la regresión softmax. ¡Hemos abierto las primeras cajas negras de aprendizaje automático! En los próximos capítulos abriremos muchos más, empezando por las máquinas vectoriales de soporte."
   ]
  },
  {
   "cell_type": "markdown",
   "id": "19ce9da6",
   "metadata": {},
   "source": [
    "# Ejercicios\n",
    "\n",
    "1. ¿Qué algoritmo de entrenamiento de regresión lineal puedes usar si tienes un conjunto de entrenamiento con millones de características?\n",
    "\n",
    "2. Supongamos que las características de su conjunto de entrenamiento tienen escalas muy diferentes. ¿Qué algoritmos podrían sufrir esto y cómo? ¿Qué puedes hacer al respecto?\n",
    "\n",
    "3. ¿Puede el descenso de gradiente quedarse atascado en un mínimo local al entrenar un modelo de regresión logística?\n",
    "\n",
    "4. ¿Todos los algoritmos de descenso de gradiente conducen al mismo modelo, siempre que los dejes correr el tiempo suficiente?\n",
    "\n",
    "5. Supongamos que usas el descenso de gradiente de lote y trazas el error de validación en cada época. Si notas que el error de validación aumenta constantemente, ¿qué es probable que esté pasando? ¿Cómo puedes arreglar esto?\n",
    "\n",
    "6. ¿Es una buena idea detener el descenso del gradiente de mini lotes inmediatamente cuando aumenta el error de validación?\n",
    "\n",
    "7. ¿Qué algoritmo de descenso de gradiente (entre los que discutimos) llegará más rápido a la proximidad de la solución óptima? ¿Qué convergerá realmente? ¿Cómo puedes hacer que los demás también converjan?\n",
    "\n",
    "8. Supongamos que está utilizando la regresión polinómica. Trazas las curvas de aprendizaje y notas que hay una gran brecha entre el error de entrenamiento y el error de validación. ¿Qué está pasando? ¿Cuáles son las tres formas de resolver esto?\n",
    "\n",
    "9. Supongamos que está utilizando la regresión de cresta y nota que el error de entrenamiento y el error de validación son casi iguales y bastante altos. ¿Dirías que el modelo sufre de alto sesgo o alta variación? ¿Deberías aumentar el hiperparámetro de regularización α o reducirlo?\n",
    "\n",
    "10. ¿Por qué querrías usar:\n",
    "- 1. ¿Regresión de crestas en lugar de regresión lineal simple (es decir, sin ninguna regularización)?\n",
    "- 2. ¿Lazo en lugar de regresión de cresta?\n",
    "- 3. ¿Regreso elástico en lugar de regresión de lazo?\n",
    "\n",
    "11. Supongamos que quieres clasificar las imágenes como exteriores/interiores y diurnas/noches. ¿Debería implementar dos clasificadores de regresión logística o un clasificador de regresión softmax?\n",
    "\n",
    "12. Implemente el descenso de gradiente por lotes con parada temprana para la regresión softmax sin usar Scikit-Learn, solo NumPy. Úsalo en una tarea de clasificación como el conjunto de datos del iris.\n",
    "\n",
    "Las soluciones a estos ejercicios están disponibles al final del cuaderno de este capítulo, en https://homl.info/colab3."
   ]
  },
  {
   "cell_type": "code",
   "execution_count": null,
   "id": "a4f7dc50",
   "metadata": {},
   "outputs": [],
   "source": []
  }
 ],
 "metadata": {
  "kernelspec": {
   "display_name": "Python 3 (ipykernel)",
   "language": "python",
   "name": "python3"
  },
  "language_info": {
   "codemirror_mode": {
    "name": "ipython",
    "version": 3
   },
   "file_extension": ".py",
   "mimetype": "text/x-python",
   "name": "python",
   "nbconvert_exporter": "python",
   "pygments_lexer": "ipython3",
   "version": "3.9.13"
  }
 },
 "nbformat": 4,
 "nbformat_minor": 5
}
