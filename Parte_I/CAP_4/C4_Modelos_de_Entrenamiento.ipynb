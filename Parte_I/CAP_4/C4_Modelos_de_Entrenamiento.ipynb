{
 "cells": [
  {
   "cell_type": "markdown",
   "id": "b2047f37",
   "metadata": {},
   "source": [
    "# Capítulo 4: Modelos de entrenamiento\n",
    "\n",
    "<br><br>\n",
    "\n",
    "Hasta ahora hemos tratado los modelos de aprendizaje automático y sus algoritmos de entrenamiento principalmente como cajas negras. \n",
    "\n",
    "Es posible que te haya sorprendido lo mucho que puedes hacer sin saber nada sobre lo que hay bajo el capó: optimizaste un sistema de regresión, mejoraste un clasificador de imágenes de dígitos e incluso construiste un clasificador de spam desde cero, todo sin saber cómo funcionan realmente. \n",
    "\n",
    "De hecho, en muchas situaciones no es necesario conocer los detalles de la implementación.\n",
    "\n",
    "Sin embargo, tener una buena comprensión de cómo funcionan las cosas puede ayudarte a encontrar rápidamente el modelo apropiado, el algoritmo de entrenamiento adecuado para usar y un buen conjunto de hiperparámetros para tu tarea. \n",
    "\n",
    "Comprender lo que hay \"bajo el capó\" también le ayudará a depurar los problemas y a realizar el análisis de errores de manera más eficiente. \n",
    "\n",
    "Por último, la mayoría de los temas tratados en este capítulo serán esenciales para comprender, construir y entrenar las redes neuronales (discutido en la Parte II de este libro).\n",
    "\n",
    "En este capítulo comenzaremos por ver el modelo de regresión lineal, uno de los modelos más simples que existen. Discutiremos dos formas muy diferentes de entrenarlo:\n",
    "\n",
    "* Usando una ecuación de \"**forma cerrada**\"⁠ que **calcule directamente** los parámetros del modelo que mejor se ajustan al modelo al conjunto de entrenamiento (es decir, los parámetros del modelo que minimizan la función de costo sobre el conjunto de entrenamiento).\n",
    "\n",
    "\n",
    "* Utilizando un enfoque de optimización **iterativo** llamado **descenso de gradiente** (GD) que ajusta **gradualmente** los parámetros del modelo para minimizar la función de costo sobre el conjunto de entrenamiento, eventualmente convergiendo con el mismo conjunto de parámetros que el primer método. Veremos algunas variantes de descenso de gradiente que usaremos una y otra vez cuando estudiemos las redes neuronales en la Parte II: **GD de lote, GD de minibate y GD estocástico**.\n",
    "\n",
    "\n",
    "A continuación, veremos la **regresión polinómica**, un modelo más complejo que puede adaptarse a conjuntos de datos **no lineales**. \n",
    "\n",
    "Dado que este modelo tiene **más parámetros que la regresión lineal**, es más propenso a **sobreajustar** los datos de entrenamiento. \n",
    "\n",
    "Exploraremos cómo detectar si este es el caso o no utilizando **curvas de aprendizaje**, y luego veremos varias **técnicas de regularización** que pueden reducir el riesgo de sobreadaptar el conjunto de entrenamiento.\n",
    "\n",
    "Por último, examinaremos dos **modelos más que se utilizan** comúnmente para las tareas de **clasificación**: **regresión logística y regresión softmax**.\n",
    "\n",
    "\n",
    "### ------------------------ ADVERTENCIA ------------------------\n",
    "\n",
    "Habrá bastantes ecuaciones matemáticas en este capítulo, utilizando nociones básicas de álgebra lineal y cálculo. \n",
    "\n",
    "Para entender estas ecuaciones, necesitarás saber qué son los vectores y las matrices; cómo transponerlos, multiplicarlos e invertirlos; y qué son las derivadas parciales. \n",
    "\n",
    "Si no estás familiarizado con estos conceptos, consulte los tutoriales introductorios de álgebra lineal y cálculo disponibles como cuadernos Jupyter en el material complementario en línea. \n",
    "\n",
    "Para aquellos que son realmente alérgicos a las matemáticas, aún así deben pasar por este capítulo y simplemente omitir las ecuaciones; con suerte, el texto será suficiente para ayudarle a entender la mayoría de los conceptos."
   ]
  },
  {
   "cell_type": "markdown",
   "id": "643dc0d0",
   "metadata": {},
   "source": [
    "## Regresión Lineal\n",
    "\n",
    "</bre/>\n",
    "En el capítulo 1 se analizó un modelo de **regresión simple** para comprobar la satisfacción con la vida:\n",
    "\n",
    "**<center>satif_vida = θ0 + θ1 × GDP_per_capita</center>**\n",
    "\n",
    "Es solo una función lineal (línea recta) con una sola característica de entrada y dos parámetros:\n",
    "\n",
    "- Característica: `GDP_per_capita`\n",
    "- Parámetros: `θ0` y `θ1`\n",
    "\n",
    "Un modelo lineal funciona haciendo una predicción calculando una suma ponderada de características de entrada más una constante (sesgo o término de intersección).\n",
    "\n",
    "\n",
    "### Ecuación 4-1: Predicción del modelo de Regresión Lineal\n",
    "</br>\n",
    "\n",
    "**<center>y = θ0 + θ1X1 + θ2X2 + ... + θnXn</center>**\n",
    "\n",
    "* **y** = valor predicho\n",
    "* **n** = número de características\n",
    "* **Xi** = valor de la primera característica\n",
    "* **θj** = parámetro del modelo j, incluido el término de sesgo θ0 y los pesos de características θ1, θ2, ..., θn.\n",
    "\n",
    "(Y esto se puede escribir de forma más concisa usando una forma vectorizada).\n",
    "\n",
    "\n",
    "### Ecuación 4-2: Predicción del modelo de Regresión Lineal (FORMA VECTORIAL)\n",
    "</br>\n",
    "\n",
    "**<center>y = hθ(X) = θ*X</center>**\n",
    "\n",
    "* **hθ** = función de hipótesis, que usa los parámetros del modelo θ\n",
    "* **θ** = número de características\n",
    "* **X** = vector de parámetros del modelo, que contiene el término de sesgo θ0 y los pesos de características θ1 a θn.\n",
    "* **θ*X** = producto punto de los vectores θ y X, que es igual a θ0x0 + θ1x1 + θ2x2 + ... θnxn\n",
    "\n",
    "</br></br>\n",
    "**---------------------- NOTA ------------------------**\n",
    "\n",
    "En el aprendizaje automático, los vectores a menudo se representan como vectores de columna (row-vector), que son matrices 2D con una sola columna.\n",
    "\n",
    "Si **θ** y **x** son vectores de columna, entonces la predicción es `y = θ^T*X`, donde `θ^T` es la transposición de `θ` (un vector fila en lugar de un vector columna) y `θ^T*X` es la multiplicación de la matriz de `θ^T` y `X`.\n",
    "\n",
    "Por supuesto, es la misma predicción, excepto que ahora se representa como una matriz de una sola celda en lugar de un valor escalar. \n",
    "\n",
    "**------------------------------------------------------**\n",
    "</br>\n",
    "\n",
    "Vale, ese es el modelo de regresión lineal, pero ¿cómo lo entrenamos? Bueno, recuerda que entrenar un modelo significa establecer sus parámetros para que el modelo se ajuste mejor al conjunto de entrenamiento. \n",
    "\n",
    "Para este propósito, primero necesitamos una medida de qué tan bien (o mal) se ajusta el modelo a los datos de entrenamiento. \n",
    "\n",
    "En el capítulo 2 vimos que la medida de rendimiento más común de un modelo de regresión es el **error cuadrado medio** de la raíz. \n",
    "\n",
    "Por lo tanto, para entrenar un modelo de regresión lineal, necesitamos encontrar el valor de θ que minimice el **RMSE**. \n",
    "\n",
    "En la práctica, es más sencillo minimizar el error medio al cuadrado (MSE) que el RMSE, y conduce al mismo resultado (porque el valor que minimiza una función positiva también minimiza su raíz cuadrada).\n",
    "\n",
    "**---------------------- ADVERTENCIA ------------------------**\n",
    "\n",
    "Los algoritmos de aprendizaje a menudo optimizarán una función de pérdida diferente durante el entrenamiento que la medida de rendimiento utilizada para evaluar el modelo final. Esto se debe generalmente a que la función es más fácil de optimizar y/o porque tiene términos adicionales necesarios solo durante el entrenamiento (por ejemplo, para la regularización). Una buena métrica de rendimiento está lo más cerca posible del objetivo comercial final. Una buena pérdida de entrenamiento es fácil de optimizar y está fuertemente correlacionada con la métrica. Por ejemplo, los clasificadores a menudo se entrenan utilizando una función de costo como la pérdida de registro (como verá más adelante en este capítulo), pero se evalúan utilizando precisión/retirada. La pérdida de registro es fácil de minimizar, y hacerlo generalmente mejorará la precisión/retirada.\n",
    "\n",
    "**----------------------------------------------------------------**\n",
    "\n",
    "El MSE de una hipótesis de regresión lineal hθ en un set de entrenamiento ´X´ se calcula utilizando la ecuación 4-3.\n",
    "\n",
    "\n",
    "### Ecuación 4-3: Función de coste de MSE para un modelo de regresión lineal\n",
    "</br>\n",
    "\n",
    "<math xmlns=\"http://www.w3.org/1998/Math/MathML\" display=\"block\">\n",
    "  <mrow>\n",
    "    <mtext>MSE</mtext>\n",
    "    <mrow>\n",
    "      <mo>(</mo>\n",
    "      <mi mathvariant=\"bold\">X</mi>\n",
    "      <mo>,</mo>\n",
    "      <msub><mi>h</mi> <mi mathvariant=\"bold\">θ</mi> </msub>\n",
    "      <mo>)</mo>\n",
    "    </mrow>\n",
    "    <mo>=</mo>\n",
    "    <mstyle scriptlevel=\"0\" displaystyle=\"true\">\n",
    "      <mfrac><mn>1</mn> <mi>m</mi></mfrac>\n",
    "    </mstyle>\n",
    "    <munderover><mo>∑</mo> <mrow><mi>i</mi><mo>=</mo><mn>1</mn></mrow> <mi>m</mi> </munderover>\n",
    "    <msup><mrow><mo>(</mo><msup><mi mathvariant=\"bold\">θ</mi> <mo>⊺</mo> </msup><msup><mi mathvariant=\"bold\">x</mi> <mrow><mo>(</mo><mi>i</mi><mo>)</mo></mrow> </msup><mo>-</mo><msup><mi>y</mi> <mrow><mo>(</mo><mi>i</mi><mo>)</mo></mrow> </msup><mo>)</mo></mrow> <mn>2</mn> </msup>\n",
    "  </mrow>\n",
    "</math>\n",
    "\n",
    "MSE(X,hθ) = 1/m * SUM i to m (θT * X^i - y^i)^2\n",
    "\n",
    "<a href=\"https://imgbb.com/\"><img src=\"https://i.ibb.co/qsT73Cj/Captura-de-pantalla-2023-08-18-a-las-20-00-06.png\" alt=\"Captura-de-pantalla-2023-08-18-a-las-20-00-06\" border=\"0\"></a><br /><a target='_blank' href='https://imgbb.com/'></a><br />\n",
    "\n",
    "La mayoría de estas anotaciones se presentaron en el capítulo 2. La única diferencia es que escribimos hθ en lugar de solo h para dejar claro que el modelo está parametrizado por el vector θ. Para simplificar las anotaciones, solo escribiremos MSE(θ) en lugar de MSE(X, hθ).\n",
    "\n",
    "### Ecuación normal\n",
    "\n",
    "Para encontrar el valor de θ que minimiza el MSE, existe una solución de forma cerrada, en otras palabras, una ecuación matemática que da el resultado directamente. \n",
    "\n",
    "Esto se llama **ecuación normal** y **nunca vamos a calcular en problemas complicados** porque es increiblemente lento (imposible computacionalmente) y tendremos que saber como acercarnos a la solución sin calcular esto.\n",
    "\n",
    "\n",
    "### Ecuación 4-4: Ecuación Normal\n",
    "\n",
    "\n",
    "<a href=\"https://imgbb.com/\"><img src=\"https://i.ibb.co/51vHrfN/Captura-de-pantalla-2023-08-18-a-las-20-06-44.png\" alt=\"Captura-de-pantalla-2023-08-18-a-las-20-06-44\" border=\"0\"></a>\n",
    "\n",
    "Donde:\n",
    "\n",
    "* **θ** = valor de θ que minimiza la función de coste.\n",
    "* **y** = vector de valores onjetivo que contiene **y(1)** a **y(m)**."
   ]
  },
  {
   "cell_type": "code",
   "execution_count": 1,
   "id": "76b6db2d",
   "metadata": {},
   "outputs": [],
   "source": [
    "# Generamos algunos datos con forma lineal para probar que la ecuación funciona\n",
    "# Conjunto de datos lineal generado al azar.\n",
    "\n",
    "import numpy as np\n",
    "\n",
    "np.random.seed(42)\n",
    "m = 100  # número de instancias\n",
    "X = 2 * np.random.rand(m, 1)  # vector columna\n",
    "y = 4 + 3 * X + np.random.randn(m, 1)  # vector columna"
   ]
  },
  {
   "cell_type": "markdown",
   "id": "42288497",
   "metadata": {},
   "source": [
    "![data_points_lineal](https://learning.oreilly.com/api/v2/epubs/urn:orm:book:9781098125967/files/assets/mls3_0401.png)"
   ]
  },
  {
   "cell_type": "markdown",
   "id": "8dca7379",
   "metadata": {},
   "source": [
    "Ahora vamos a calcular **θ^** usando la **Ecuación Normal**. \n",
    "\n",
    "Usamos la función `inv()` del módulo de álgebra lineal de NumPy  (`np.linalg`) para hacer la inversa de la matriz, y el método `dot()` para la multiplicación de matrices."
   ]
  },
  {
   "cell_type": "code",
   "execution_count": 2,
   "id": "348d63df",
   "metadata": {},
   "outputs": [],
   "source": [
    "from sklearn.preprocessing import add_dummy_feature\n",
    "\n",
    "X_b = add_dummy_feature(X)  # add x0 = 1 to each instance\n",
    "theta_best = np.linalg.inv(X_b.T @ X_b) @ X_b.T @ y"
   ]
  },
  {
   "cell_type": "markdown",
   "id": "b35c2ce0",
   "metadata": {},
   "source": [
    "### -------------------------- NOTA --------------------------\n",
    "\n",
    "El operador `@` realiza la multiplicación de matrices. \n",
    "\n",
    "Si **A** y **B** son matrices NumPy, entonces **A @ B** es equivalente a `np.matmul(A, B)`. \n",
    "\n",
    "Muchas otras bibliotecas, como TensorFlow, PyTorch y JAX, también admiten el operador **@**. Sin embargo, no puede usar @ en arreglos puros de Python (es decir, listas de listas).\n",
    "\n",
    "### -------------------------------------------------------------\n",
    "\n",
    "La función que usamos para generar los datos es `y = 4+3x1 + ruido_gaussiano`.\n",
    "Veamos que encontró la ecuación:"
   ]
  },
  {
   "cell_type": "code",
   "execution_count": 3,
   "id": "2a0bd692",
   "metadata": {},
   "outputs": [
    {
     "data": {
      "text/plain": [
       "array([[4.21509616],\n",
       "       [2.77011339]])"
      ]
     },
     "execution_count": 3,
     "metadata": {},
     "output_type": "execute_result"
    }
   ],
   "source": [
    "theta_best"
   ]
  },
  {
   "cell_type": "markdown",
   "id": "1ba551d4",
   "metadata": {},
   "source": [
    "Habríamos esperado **(θ0 = 4** y **θ1 = 3)** en lugar de **(θ0 = 4.215** y **θ1 = 2.770)**. \n",
    "\n",
    "Lo suficientemente cerca, pero el ruido hizo imposible recuperar los parámetros exactos de la función original. \n",
    "\n",
    "**Cuanto más pequeño y ruidoso sea el conjunto de datos, más difícil se vuelve**.\n",
    "\n",
    "Ahora podemos hacer predicciones usando **θ^**:"
   ]
  },
  {
   "cell_type": "code",
   "execution_count": 4,
   "id": "898a58c6",
   "metadata": {},
   "outputs": [
    {
     "data": {
      "text/plain": [
       "array([[4.21509616],\n",
       "       [9.75532293]])"
      ]
     },
     "execution_count": 4,
     "metadata": {},
     "output_type": "execute_result"
    }
   ],
   "source": [
    "X_new = np.array([[0], [2]])\n",
    "X_new_b = add_dummy_feature(X_new)  # agregar x0 = 1 a cada instancia\n",
    "y_predict = X_new_b @ theta_best\n",
    "y_predict"
   ]
  },
  {
   "cell_type": "code",
   "execution_count": 5,
   "id": "57611120",
   "metadata": {},
   "outputs": [
    {
     "data": {
      "image/png": "[encoded data removed]",
      "text/plain": [
       "<Figure size 640x480 with 1 Axes>"
      ]
     },
     "metadata": {},
     "output_type": "display_data"
    }
   ],
   "source": [
    "# Visualizamos las predicciones del modelo de R.Lineal\n",
    "\n",
    "import matplotlib.pyplot as plt\n",
    "\n",
    "plt.plot(X_new, y_predict, \"r-\", label=\"Predictions\")\n",
    "plt.plot(X, y, \"b.\")\n",
    "plt.show()"
   ]
  },
  {
   "cell_type": "markdown",
   "id": "67cbc570",
   "metadata": {},
   "source": [
    "Realizar una regresión lineal con **Scickit-Learn**:"
   ]
  },
  {
   "cell_type": "code",
   "execution_count": 6,
   "id": "10290589",
   "metadata": {},
   "outputs": [
    {
     "data": {
      "text/plain": [
       "array([[4.21509616],\n",
       "       [9.75532293]])"
      ]
     },
     "execution_count": 6,
     "metadata": {},
     "output_type": "execute_result"
    }
   ],
   "source": [
    "from sklearn.linear_model import LinearRegression\n",
    "lin_reg = LinearRegression()\n",
    "lin_reg.fit(X, y)\n",
    "lin_reg.intercept_, lin_reg.coef_\n",
    "lin_reg.predict(X_new)"
   ]
  },
  {
   "cell_type": "markdown",
   "id": "15e77552",
   "metadata": {},
   "source": [
    "Observa que Scikit-Learn separa el término de bias (`intercept_`) de los pesos de características (`coef_`).\n",
    "\n",
    "La clase LinearRegression se basa en la función `scipy.linalg.lstsq()` (el nombre se refiere a \"mínimos cuadrados\"), a la que se puede llamar directamente:\n",
    "\n"
   ]
  },
  {
   "cell_type": "code",
   "execution_count": 7,
   "id": "df62e8a1",
   "metadata": {},
   "outputs": [
    {
     "data": {
      "text/plain": [
       "array([[4.21509616],\n",
       "       [2.77011339]])"
      ]
     },
     "execution_count": 7,
     "metadata": {},
     "output_type": "execute_result"
    }
   ],
   "source": [
    "theta_best_svd, residuals, rank, s = np.linalg.lstsq(X_b, y, rcond=1e-6)\n",
    "theta_best_svd"
   ]
  },
  {
   "cell_type": "markdown",
   "id": "280f3da7",
   "metadata": {},
   "source": [
    "Esta función calcula **θ^ = X+y**, donde **X+** es la pseudoinversa de **X** (específicamente la inversa de Moore-Penrose).\n",
    "\n",
    "Puedes usar `np.linalg.pinv()` para hacer la pseudoinversa directamente:"
   ]
  },
  {
   "cell_type": "code",
   "execution_count": 8,
   "id": "3ad75318",
   "metadata": {},
   "outputs": [
    {
     "data": {
      "text/plain": [
       "array([[4.21509616],\n",
       "       [2.77011339]])"
      ]
     },
     "execution_count": 8,
     "metadata": {},
     "output_type": "execute_result"
    }
   ],
   "source": [
    "np.linalg.pinv(X_b) @ y"
   ]
  },
  {
   "cell_type": "markdown",
   "id": "b21810da",
   "metadata": {},
   "source": [
    "La pseudoinversa en sí misma se calcula utilizando una técnica de factorización de matriz estándar llamada descomposición de valores singulares (**SVD**) que puede descomponer la matriz del conjunto de entrenamiento **X** en la multiplicación de matrices de tres matrices U Σ V⊺ (`vernumpynumpy.linalg.svd()`). \n",
    "\n",
    "La pseudoinversa se calcula como:\n",
    "\n",
    "**<center>X+ = VΣ+U⊺</center>** \n",
    "\n",
    "Para calcular la matriz Σ+, el algoritmo toma Σ y establece en cero todos los valores más pequeños que un pequeño valor de umbral, luego reemplaza todos los valores distintos de cero con su inverso y, finalmente, transpone la matriz resultante. \n",
    "\n",
    "Este enfoque es más eficiente que calcular la ecuación Normal, además de que maneja bien los casos de borde: de hecho, la ecuación Normal puede no funcionar si la matriz **X⊺X** no es invertible (es decir, singular), como si m < n o si algunas características son redundantes, pero el pseudoinverse siempre está definido.\n",
    "\n",
    "\n",
    "### Complejidad computacional\n",
    "</br></br>\n",
    "La ecuación normal calcula la inversa de **X⊺ X**, que es una matriz (n + 1) × (n + 1) (donde n es el número de características). \n",
    "\n",
    "La complejidad computacional de invertir dicha matriz suele ser de _O(n2.4) a O(n3)_, dependiendo de la implementación. \n",
    "\n",
    "En otras palabras, si duplicas el número de características, multiplicas el tiempo de cálculo por aproximadamente 22,4 = 5,3 a 23 = 8.\n",
    "\n",
    "El enfoque SVD utilizado por la clase `LinearRegression` de Scikit-Learn se trata de _O(n2)_. \n",
    "\n",
    "**Si duplicas la cantidad de características, multiplica el tiempo de cálculo por aproximadamente 4**."
   ]
  },
  {
   "cell_type": "markdown",
   "id": "de37e98d",
   "metadata": {},
   "source": [
    "#### ---------------------------------- ADVERTENCIA ----------------------------------\n",
    "\n",
    "Tanto la **ecuación normal** como el enfoque **SVD** se **ralentizan** mucho cuando el número de características **crece** (por ejemplo, 100.000). \n",
    "\n",
    "En el lado positivo, **ambos son lineales con respecto al número de instancias** en el conjunto de entrenamiento (son _O(m)_), por lo que manejan grandes conjuntos de entrenamiento de manera eficiente, siempre que puedan caber en la memoria.\n",
    "### --------------------------------------------------------------------\n",
    "\n",
    "\n",
    "Además, una vez que hayas entrenado tu modelo de regresión lineal (usando la ecuación normal o cualquier otro algoritmo), **las predicciones son muy rápidas: la complejidad computacional es lineal con respecto tanto al número de instancias en las que desea hacer predicciones como al número de características**. En otras palabras, hacer predicciones sobre el doble de casos (o el doble de características) tomará aproximadamente el doble de tiempo.\n",
    "\n",
    "**<center>x2 características = x2 tiempo</center>**\n",
    "\n",
    "#### Ahora veremos una forma muy diferente de entrenar un modelo de regresión lineal, que es más adecuado para los casos en los que hay un gran número de características o demasiadas instancias de entrenamiento para encajar en la memoria."
   ]
  },
  {
   "cell_type": "markdown",
   "id": "b05772e8",
   "metadata": {},
   "source": [
    "## Descenso del gradiente\n",
    "\n",
    "</br></br>\n",
    "El _descenso de gradiente_ es un algoritmo de optimización genérico capaz de encontrar **soluciones óptimas** para una amplia gama de problemas. \n",
    "\n",
    "La idea general del descenso del gradiente es **ajustar los parámetros de forma iterativa** para minimizar una **función de coste*.\n",
    "\n",
    "Supongamos que estás perdido en las montañas en una densa niebla, y solo puedes sentir la pendiente del suelo debajo de tus pies. Una buena estrategia para llegar al fondo del valle rápidamente es ir cuesta abajo en dirección a la pendiente más empinada. \n",
    "Esto es exactamente lo que hace el descenso del gradiente: mide el gradiente local de la función de error con respecto al vector de parámetros θ, y va en la dirección del gradiente descendente. \n",
    "Una vez que el gradiente es cero (casi nunca pasa), ¡has alcanzado un mínimo!\n",
    "\n",
    "En la práctica, comienzas por llenar θ con valores aleatorios (esto se llama inicialización aleatoria). \n",
    "\n",
    "Luego lo mejoras gradualmente, dando un paso a la vez, cada paso tratando de disminuir la función de costo (por ejemplo, el MSE), hasta que el algoritmo converge al mínimo.\n",
    "\n",
    "![descenso_gradiente](https://learning.oreilly.com/api/v2/epubs/urn:orm:book:9781098125967/files/assets/mls3_0403.png)\n",
    "\n",
    "(_En esta representación del descenso de gradiente, los parámetros del modelo se inicializan al azar y se ajustan repetidamente para minimizar la función de costo; el tamaño del paso de aprendizaje es proporcional a la pendiente de la función de costo, por lo que los pasos se reducen gradualmente a medida que el costo se acerca al mínimo_)\n",
    "\n",
    "</br></br>\n",
    "\n",
    "Un parámetro importante en el descenso de gradiente es el tamaño de los pasos, determinado por el hiperparámetro de la **tasa de aprendizaje** o learning rate.\n",
    "\n",
    "Si la tasa de aprendizaje es **demasiado pequeña**, entonces el algoritmo tendrá que pasar por **muchas iteraciones para converger**, lo que llevará mucho tiempo.\n",
    "\n",
    "![small_learning_rate](https://learning.oreilly.com/api/v2/epubs/urn:orm:book:9781098125967/files/assets/mls3_0404.png)\n",
    "\n",
    "</br></br>\n",
    "\n",
    "Por otro lado, si la tasa de aprendizaje es **demasiado alta**, podrías saltar a través del valle y terminar en el otro lado, posiblemente incluso más alto de lo que estabas antes. \n",
    "Esto podría hacer que el algoritmo **diverja** (no converja), con valores cada vez más grandes, al no encontrar una buena solución.\n",
    "\n",
    "![big_learning_rate](https://learning.oreilly.com/api/v2/epubs/urn:orm:book:9781098125967/files/assets/mls3_0405.png)\n",
    "\n",
    "Además, no todas las funciones de coste parecen cuencos bonitos y normales. Puede haber agujeros, crestas, mesetas y todo tipo de terreno irregular, lo que dificulta la convergencia al mínimo. \n",
    "\n",
    "La siguiente figura muestra los dos **desafíos principales** con el descenso en pendiente. \n",
    "\n",
    "Si la inicialización aleatoria inicia el algoritmo a la **izquierda**, entonces convergerá a un mínimo local, que no es tan bueno como el mínimo global. \n",
    "\n",
    "Si comienza a la **derecha**, entonces llevará mucho tiempo cruzar la meseta. Y si te detienes demasiado pronto, nunca alcanzarás el mínimo global.\n",
    "\n",
    "![desafios_descenso_gradiente](https://learning.oreilly.com/api/v2/epubs/urn:orm:book:9781098125967/files/assets/mls3_0406.png)\n",
    "\n",
    "\n",
    "Afortunadamente, la función de costo de MSE para un modelo de regresión lineal resulta ser una función **convexa**, lo que significa que si eliges dos puntos en la curva, el segmento de línea que los une nunca está por debajo de la curva. Esto implica que no hay mínimos locales, solo un mínimo global. \n",
    "\n",
    "También es una función continua con una pendiente que nunca cambia abruptamente.⁠\n",
    "\n",
    "Estos dos hechos tienen una gran consecuencia: se garantiza que el descenso del gradiente se acerca arbitrariamente al mínimo global (si esperas lo suficiente y si la tasa de aprendizaje no es demasiado alta).\n",
    "\n",
    "Si bien la función de costo tiene la forma de un tazón, puede ser un tazón alargado si las características tienen escalas muy diferentes. \n",
    "\n",
    "La siguiente imagen muestra el descenso en gradiente en un conjunto de entrenamiento donde las características 1 y 2 tienen la misma escala (a la izquierda), y en un conjunto de entrenamiento donde la característica 1 tiene valores mucho más pequeños que la característica 2 (a la derecha).⁠\n",
    "\n",
    "![](https://learning.oreilly.com/api/v2/epubs/urn:orm:book:9781098125967/files/assets/mls3_0407.png)\n",
    "\n",
    "Como puedes ver, a la izquierda el algoritmo de descenso de gradiente va directamente hacia el mínimo, llegando así rápidamente, mientras que a la derecha primero va en una dirección casi ortogonal a la dirección del mínimo global, y termina con una larga marcha por un valle casi plano. \n",
    "\n",
    "Eventualmente alcanzará el mínimo, pero llevará mucho tiempo.\n",
    "\n",
    "#### ----------------------------- ADVERTENCIA -----------------------------\n",
    "\n",
    "Cuando uses el gradiente descendente, deberías asegurarte que todas las características tienen una escala similar (ej: usando `StandardScaler`), de lo contrario tardará mucho más en converger.\n",
    "#### -----------------------------------------------------------------------------"
   ]
  },
  {
   "cell_type": "markdown",
   "id": "844bb5a3",
   "metadata": {},
   "source": [
    "Este diagrama también ilustra el hecho de que **entrenar un modelo significa buscar una combinación de parámetros del modelo que minimice una función de costo** (sobre el conjunto de entrenamiento). \n",
    "\n",
    "Es una búsqueda en el espacio de parámetros del modelo. \n",
    "\n",
    "Cuantos más parámetros tenga un modelo, más dimensiones tenga este espacio y más difícil sea la búsqueda: buscar una aguja en un pajar de 300 dimensiones es mucho más complicado que en 3 dimensiones. \n",
    "\n",
    "Afortunadamente, dado que la función de costo es convexa en el caso de la regresión lineal, la aguja está simplemente en la parte inferior del tazón."
   ]
  },
  {
   "cell_type": "markdown",
   "id": "768d5375",
   "metadata": {},
   "source": [
    "## Descenso del gradiente por lotes (BATCH)\n",
    "\n",
    "Para implementar el descenso de gradiente, es necesario **calcular el gradiente de la función de costo con respecto a cada parámetro del modelo θj**. \n",
    "\n",
    "En otras palabras, necesitas calcular cuánto cambiará la función de costo si cambias θj solo un poco. Esto se llama derivada parcial. \n",
    "\n",
    "Es como preguntar: \"¿Cuál es la pendiente de la montaña bajo mis pies si miro hacia el este\"? y luego hacer la misma pregunta mirando hacia el norte (y así sucesivamente para todas las demás dimensiones, si puedes imaginar un universo con más de tres dimensiones). \n",
    "\n",
    "La ecuación 4-5 calcula la derivada parcial del MSE con respecto al parámetro θj, señalado ∂ MSE(θ) / ∂θj.\n",
    "\n",
    "### Ecuación 4-5: Derivadas parciales de la función de coste\n",
    "\n",
    "<a href=\"https://ibb.co/z51jft4\"><img src=\"https://i.ibb.co/Sx2WvZ3/Captura-de-pantalla-2023-08-20-a-las-21-19-22.png\" alt=\"Captura-de-pantalla-2023-08-20-a-las-21-19-22\" border=\"0\"></a>\n",
    "\n",
    "En lugar de calcular estas derivadas parciales individualmente, puedes usar la ecuación 4-6 para calcularlas todas de una sola vez. \n",
    "\n",
    "El vector de gradiente, señalado ∇θMSE(θ), contiene todas las derivadas parciales de la función de coste (una para cada parámetro del modelo).\n",
    "\n",
    "### Ecuación 4-6: Vector de gradiente de la función de coste\n",
    "\n",
    "<a href=\"https://ibb.co/zPx8DbB\"><img src=\"https://i.ibb.co/CV8JDvY/Captura-de-pantalla-2023-08-20-a-las-21-20-53.png\" alt=\"Captura-de-pantalla-2023-08-20-a-las-21-20-53\" border=\"0\"></a>\n",
    "</br>\n",
    "\n",
    "#### ---------------------- ADVERTENCIA -------------------\n",
    "</br>\n",
    "\n",
    "¡Ten en cuenta que esta fórmula implica cálculos sobre el conjunto completo de entrenamiento X, en cada paso de descenso de gradiente! \n",
    "\n",
    "Esta es la razón por la que el algoritmo se llama descenso de gradiente **por lotes**: **utiliza todo el lote de datos de entrenamiento en cada paso** (en realidad, el descenso de gradiente completo probablemente sería un mejor nombre). \n",
    "\n",
    "Como resultado, es **terriblemente lento en conjuntos de entrenamiento muy grandes** (en breve veremos algunos algoritmos de descenso de gradiente mucho más rápidos). \n",
    "\n",
    "Sin embargo, el descenso del gradiente se escala bien con el número de características; entrenar un modelo de regresión lineal cuando hay cientos de miles de características es mucho más rápido usando el descenso del gradiente que usando la ecuación normal o la descomposición de SVD.\n",
    "\n",
    "#### -----------------------------------------------------------\n",
    "\n",
    "Una vez que tengas el vector de gradiente, que apunta cuesta arriba, simplemente ve en la dirección opuesta para ir cuesta abajo. \n",
    "\n",
    "Esto significa restar ∇θMSE(θ) de θ. \n",
    "\n",
    "Aquí es donde entra en juego la tasa de aprendizaje η:⁠4 multiplica el vector de gradiente por η para determinar el tamaño del paso de descenso (Ecuación 4-7).\n",
    "\n",
    "### Ecuación 4-7: Paso (step) del descenso del gradiente\n",
    "\n",
    "<a href=\"https://imgbb.com/\"><img src=\"https://i.ibb.co/1MHnNPW/Captura-de-pantalla-2023-08-20-a-las-21-24-54.png\" alt=\"Captura-de-pantalla-2023-08-20-a-las-21-24-54\" border=\"0\"></a>\n",
    "\n",
    "Vamos a hacer una implementación básica de este algoritmo:"
   ]
  },
  {
   "cell_type": "code",
   "execution_count": 9,
   "id": "75b0b38e",
   "metadata": {},
   "outputs": [],
   "source": [
    "eta = 0.1  # learning rate\n",
    "n_epochs = 1000\n",
    "m = len(X_b)  # número de instancias\n",
    "\n",
    "np.random.seed(42)\n",
    "theta = np.random.randn(2, 1)  # parámetros del modelo inicializados aleatoriamente\n",
    "\n",
    "for epoch in range(n_epochs):\n",
    "    gradients = 2 / m * X_b.T @ (X_b @ theta - y)\n",
    "    theta = theta - eta * gradients"
   ]
  },
  {
   "cell_type": "markdown",
   "id": "286b6a17",
   "metadata": {},
   "source": [
    "No fue muy dificil! Cada iteración del conjunto de entrenamiento es llamada \"**época**\".\n",
    "\n",
    "Vamos a ver el resultado de `theta`:"
   ]
  },
  {
   "cell_type": "code",
   "execution_count": 10,
   "id": "47e8ecef",
   "metadata": {},
   "outputs": [
    {
     "data": {
      "text/plain": [
       "array([[4.21509616],\n",
       "       [2.77011339]])"
      ]
     },
     "execution_count": 10,
     "metadata": {},
     "output_type": "execute_result"
    }
   ],
   "source": [
    "theta"
   ]
  },
  {
   "cell_type": "markdown",
   "id": "cfb21860",
   "metadata": {},
   "source": [
    "Ey, ¡eso es exactamente lo que encontró la ecuación normal! \n",
    "\n",
    "El descenso en gradiente funcionó perfectamente. Pero, ¿y si hubieras usado una tasa de aprendizaje diferente (`eta`)? \n",
    "\n",
    "La figura siguiente muestra los primeros 20 pasos de descenso de gradiente utilizando tres tasas de aprendizaje diferentes. \n",
    "\n",
    "La línea en la parte inferior de cada gráfico representa el punto de partida aleatorio, luego cada época está representada por una línea cada vez más oscura.\n",
    "\n",
    "![](https://learning.oreilly.com/api/v2/epubs/urn:orm:book:9781098125967/files/assets/mls3_0408.png)\n",
    "\n",
    "- A la **izquierda**, la tasa de aprendizaje es demasiado baja: el algoritmo finalmente llegará a la solución, pero llevará mucho tiempo. \n",
    "\n",
    "- En el **medio**, la tasa de aprendizaje se ve bastante bien: en solo unas pocas épocas, ya ha convergido hacia la solución. \n",
    "\n",
    "- A la **derecha**, la tasa de aprendizaje es demasiado alta: el algoritmo diverge, saltando por todas partes y en realidad se aleja cada vez más de la solución en cada paso.\n",
    "\n",
    "</br>\n",
    "\n",
    "Para **encontrar una buena tasa de aprendizaje**, puede utilizar la **búsqueda en grill** (`SearchGrill` en el capítulo 2). Sin embargo, es posible que desee **limitar el número de épocas** para que la búsqueda en la cuadrícula pueda eliminar los modelos que tardan demasiado en converger.\n",
    "\n",
    "Puede que te preguntes cómo establecer el **número de épocas**: \n",
    "\n",
    "Si es demasiado **bajo**, todavía estarás **lejos de la solución** óptima cuando el algoritmo se detenga; pero si es demasiado **alto**, **perderás el tiempo mientras los parámetros del modelo ya no cambian**. \n",
    "\n",
    "Una solución simple es establecer un número muy grande de épocas, pero interrumpir el algoritmo cuando el vector de gradiente se vuelve diminuto, es decir, cuando su norma se vuelve más pequeña que un número diminuto ε (llamado _tolerancia_), porque esto sucede cuando el descenso del gradiente (casi) ha alcanzado el mínimo.\n",
    "\n",
    "#### --------------------- TASA DE CONVERGENCIA -------------------------\n",
    "Cuando la función de costo es convexa y su pendiente no cambia abruptamente (como es el caso de la función de costo de MSE), el descenso del gradiente de lote con una tasa de aprendizaje fija eventualmente convergerá a la solución óptima, pero es posible que tenga que esperar un tiempo: puede tomar iteraciones O(1/ε) para alcanzar el óptimo dentro de un rango de Si divides la tolerancia entre 10 para tener una solución más precisa, entonces es posible que el algoritmo tenga que funcionar unas 10 veces más tiempo.\n",
    "#### ------------------------------------------------------------------------------"
   ]
  },
  {
   "cell_type": "markdown",
   "id": "6d1e5640",
   "metadata": {},
   "source": [
    "## Descenso del gradiente estocástico\n",
    "</br></br>\n",
    "El principal problema con el descenso del gradiente por **lotes** (batch) es el hecho de que **utiliza todo el conjunto de entrenamiento** para calcular los gradientes en cada paso, lo que lo hace **muy lento cuando el conjunto de entrenamiento es grande**. \n",
    "\n",
    "En el extremo opuesto, el descenso del gradiente **estocástico** elige una **instancia aleatoria** en el conjunto de entrenamiento en cada paso y calcula los gradientes basados **solo en esa única instancia**. \n",
    "\n",
    "Obviamente, trabajar en una sola instancia a la vez hace que el algoritmo sea mucho más rápido porque tiene muy pocos datos para manipular en cada iteración. \n",
    "\n",
    "También hace posible entrenar en grandes conjuntos de entrenamiento, ya que solo una instancia debe estar en la memoria en cada iteración (el GD estocástico se puede implementar como un algoritmo fuera del núcleo; véase el capítulo 1).\n",
    "\n",
    "Por otro lado, debido a su naturaleza estocástica (es decir, aleatoria), este algoritmo es **mucho menos regular** que el descenso del gradiente de lotes: en lugar de disminuir suavemente hasta que alcance el mínimo, la función de costo rebotará hacia arriba y hacia abajo, disminuyendo solo en promedio. \n",
    "\n",
    "Con el tiempo terminará muy cerca del mínimo, pero una vez que llegue allí, **continuará rebotando, sin asentarse** (ver figura siguiente). \n",
    "\n",
    "Una vez que el algoritmo se detenga, los valores finales de los parámetros serán buenos, pero **no óptimos**.\n",
    "\n",
    "![](https://learning.oreilly.com/api/v2/epubs/urn:orm:book:9781098125967/files/assets/mls3_0409.png)\n",
    "\n",
    "(_Con el descenso de gradiente estocástico, cada paso de entrenamiento es mucho más rápido, pero también mucho más estocástico que cuando se usa el descenso de gradiente por lotes_)\n",
    "\n",
    "Cuando la función de costo es muy irregular, esto en realidad puede ayudar al algoritmo a saltar de los mínimos locales, por lo que el descenso del gradiente estocástico tiene una mejor oportunidad de encontrar el mínimo global que el descenso del gradiente por lotes.\n",
    "\n",
    "Por lo tanto, la aleatoriedad es buena para escapar del \n",
    "óptimo local, pero mala porque significa que el algoritmo nunca puede establecerse al mínimo. \n",
    "\n",
    "Una solución a este dilema es reducir gradualmente la tasa de aprendizaje. Los pasos comienzan a lo grande (lo que ayuda a progresar rápidamente y a escapar de los mínimos locales), luego se hacen cada vez más pequeños, lo que permite que el algoritmo se establezca en el mínimo global. \n",
    "Este proceso es similar al recocido simulado, un algoritmo inspirado en el proceso en la metalurgia del recocido, donde el metal fundido se enfría lentamente. \n",
    "\n",
    "La función que determina la tasa de aprendizaje en cada iteración se llama programa de aprendizaje. \n",
    "\n",
    "Si la tasa de aprendizaje se reduce demasiado rápido, puede quedar atrapado en un mínimo local, o incluso terminar congelado a mitad del mínimo. \n",
    "\n",
    "Si la tasa de aprendizaje se reduce demasiado lentamente, puede saltar alrededor del mínimo durante mucho tiempo y terminar con una solución subóptima si detiene el entrenamiento demasiado pronto.\n",
    "\n",
    "Este código implementa el descenso del gradiente estocástico utilizando un programa de aprendizaje simple:"
   ]
  },
  {
   "cell_type": "code",
   "execution_count": 11,
   "id": "550c4ec3",
   "metadata": {},
   "outputs": [],
   "source": [
    "n_epochs = 50\n",
    "t0, t1 = 5, 50  # learning schedule hyperparameters\n",
    "\n",
    "def learning_schedule(t):\n",
    "    return t0 / (t + t1)\n",
    "\n",
    "np.random.seed(42)\n",
    "theta = np.random.randn(2, 1)  # random initialization\n",
    "\n",
    "for epoch in range(n_epochs):\n",
    "    for iteration in range(m):\n",
    "        random_index = np.random.randint(m)\n",
    "        xi = X_b[random_index : random_index + 1]\n",
    "        yi = y[random_index : random_index + 1]\n",
    "        gradients = 2 * xi.T @ (xi @ theta - yi)  # for SGD, do not divide by m\n",
    "        eta = learning_schedule(epoch * m + iteration)\n",
    "        theta = theta - eta * gradients"
   ]
  },
  {
   "cell_type": "markdown",
   "id": "00e32385",
   "metadata": {},
   "source": [
    "Por convención, iteramos por rondas de m iteraciones; cada ronda se llama una época, como antes. \n",
    "\n",
    "Mientras que el código de descenso de gradiente por lotes iteró 1000 veces a través de todo el conjunto de entrenamiento, este código pasa por el conjunto de entrenamiento solo 50 veces y alcanza una solución bastante buena:"
   ]
  },
  {
   "cell_type": "code",
   "execution_count": 12,
   "id": "baaa2c6b",
   "metadata": {},
   "outputs": [
    {
     "data": {
      "text/plain": [
       "array([[4.21076011],\n",
       "       [2.74856079]])"
      ]
     },
     "execution_count": 12,
     "metadata": {},
     "output_type": "execute_result"
    }
   ],
   "source": [
    "theta"
   ]
  },
  {
   "cell_type": "markdown",
   "id": "caafd3c0",
   "metadata": {},
   "source": [
    "Tenga en cuenta que, dado que las instancias se eligen al azar, algunas instancias pueden elegirse varias veces por época, mientras que otras pueden no elegirse en absoluto. \n",
    "\n",
    "Si quieres estar seguro de que el algoritmo pasa por cada instancia en cada época, otro enfoque es barajar el conjunto de entrenamiento (asegurándose de barajar las características de entrada y las etiquetas de forma conjunta), luego pasar por él instancia por instancia, luego barajarlo de nuevo, y así sucesivamente. Sin embargo, este enfoque es más complejo y, en general, no mejora el resultado.\n",
    "\n",
    "![](https://learning.oreilly.com/api/v2/epubs/urn:orm:book:9781098125967/files/assets/mls3_0410.png)\n",
    "\n",
    "Figura 4-10 (_Los primeros 20 pasos del descenso del gradiente estocástico_)\n",
    "\n",
    "\n",
    "\n",
    "#### ----------------------------- ADVERTENCIA --------------------------------\n",
    "\n",
    "Cuando se utiliza el descenso del gradiente estocástico, las instancias de entrenamiento deben ser independientes y distribuidas de manera idéntica (IID) para garantizar que los parámetros se tiren hacia el óptimo global, en promedio. \n",
    "Una forma sencilla de garantizar esto es barajar las instancias durante el entrenamiento (por ejemplo, elegir cada instancia al azar o barajar el conjunto de entrenamiento al comienzo de cada época). \n",
    "Si no baraja las instancias, por ejemplo, si las instancias están ordenadas por etiqueta, entonces SGD comenzará optimizando para una etiqueta, luego la siguiente, y así sucesivamente, y no se ajustará cerca del mínimo global.\n",
    "#### --------------------------------------------------------------------------------\n",
    "\n",
    "\n",
    "Para realizar una regresión lineal utilizando GD estocástico con Scikit-Learn, puede utilizar la clase `SGDRegressor`, que por defecto es la optimización de la función de costo de MSE. \n",
    "\n",
    "El siguiente código se ejecuta durante un máximo de 1000 épocas (`max_iter`) o hasta que la pérdida cae en menos de 10-5 (`tol`) durante 100 épocas (`n_iter_no_change`). \n",
    "\n",
    "Comienza con una tasa de aprendizaje de 0,01 (`eta0`), utilizando el horario de aprendizaje predeterminado (diferente del que usamos). Por último, no utiliza ninguna regularización (`penalty=None`; más detalles sobre esto en breve):"
   ]
  },
  {
   "cell_type": "code",
   "execution_count": 13,
   "id": "7461ce2e",
   "metadata": {},
   "outputs": [
    {
     "data": {
      "text/plain": [
       "SGDRegressor(n_iter_no_change=100, penalty=None, random_state=42, tol=1e-05)"
      ]
     },
     "execution_count": 13,
     "metadata": {},
     "output_type": "execute_result"
    }
   ],
   "source": [
    "from sklearn.linear_model import SGDRegressor\n",
    "\n",
    "sgd_reg = SGDRegressor(max_iter=1000, tol=1e-5, penalty=None, eta0=0.01,\n",
    "                       n_iter_no_change=100, random_state=42)\n",
    "sgd_reg.fit(X, y.ravel())  # y.ravel() porque fit() espera etiquetas de 1D"
   ]
  },
  {
   "cell_type": "markdown",
   "id": "8e93495f",
   "metadata": {},
   "source": [
    "Una vez más, encuentras una solución bastante cercana a la devuelta por la Normalequation:"
   ]
  },
  {
   "cell_type": "code",
   "execution_count": 14,
   "id": "102b95c1",
   "metadata": {},
   "outputs": [
    {
     "data": {
      "text/plain": [
       "(array([4.21278812]), array([2.77270267]))"
      ]
     },
     "execution_count": 14,
     "metadata": {},
     "output_type": "execute_result"
    }
   ],
   "source": [
    "sgd_reg.intercept_, sgd_reg.coef_"
   ]
  },
  {
   "cell_type": "markdown",
   "id": "1d1087fc",
   "metadata": {},
   "source": [
    "#### ------------------------------------ TIP ------------------------------------\n",
    "\n",
    "Todos los estimadores de Scikit-Learn se pueden entrenar usando el método `fit()`, pero algunos estimadores también tienen un método `part_fit()` al que se puede llamar para ejecutar una única ronda de entrenamiento en una o más instancias (ignora hiperparámetros como `max_iter` o `tol`). . \n",
    "\n",
    "Llamar repetidamente a `part_fit()` entrenará gradualmente el modelo. Esto resulta útil cuando necesita más control sobre el proceso de formación. \n",
    "\n",
    "Otros modelos tienen en su lugar un hiperparámetro `warm_start` (y algunos tienen ambos): si estableces `warm_start=True`, llamar al método `fit()` en un modelo entrenado no restablecerá el modelo; simplemente continuará entrenando donde lo dejó, respetando hiperparámetros como `max_iter` y `tol`. \n",
    "\n",
    "Tenga en cuenta que `fit()` restablece el contador de iteraciones utilizado por el programa de aprendizaje, mientras que `parcial_fit()` no lo hace.\n",
    "#### ---------------------------------------------------------------------"
   ]
  },
  {
   "cell_type": "markdown",
   "id": "e957940b",
   "metadata": {},
   "source": [
    "## Descenso de gradiente por Mini-Lotes (minibatches)\n",
    "</br></br>\n",
    "El último algoritmo de descenso de gradiente que veremos se llama descenso de gradiente de mini lotes. Es sencillo una vez que conoces el descenso del gradiente estocástico y por lotes: en cada paso, en lugar de calcular los gradientes basados en el conjunto de entrenamiento completo (como en el GD por lotes) o basados en una sola instancia (como en el GD estocástico), el GD de minibatería calcula los gradientes en pequeños conjuntos aleatorios de instancias\n",
    "\n",
    "El progreso del algoritmo en el espacio de parámetros es menos errático que con el GD estocástico, especialmente con minilotes bastante grandes. Como resultado, el GD en minilote terminará caminando un poco más cerca del mínimo que el GD estocástico, pero puede ser más difícil para él escapar de los mínimos locales (en el caso de problemas que sufren de mínimos locales, a diferencia de la regresión lineal con la función de costo de MSE). La figura 4-11 muestra los caminos tomados por los tres algoritmos de descenso de gradiente en el espacio de parámetros durante el entrenamiento. Todos terminan cerca del mínimo, pero el camino del lote GD en realidad se detiene en el mínimo, mientras que tanto el GD estocástico como el GD de minilote continúan caminando. Sin embargo, no olvides que el GD por lotes toma mucho tiempo para dar cada paso, y el GD estocástico y el GD de mini-lote también alcanzarían el mínimo si usaras un buen horario de aprendizaje.\n",
    "\n",
    "\n",
    "![](https://learning.oreilly.com/api/v2/epubs/urn:orm:book:9781098125967/files/assets/mls3_0411.png)\n",
    "\n",
    "<center>(Figura 4-11. Rutas de descenso de gradiente en el espacio de parámetros)</center>\n",
    "\n",
    "La tabla 4-1 compara los algoritmos que hemos discutido hasta ahora para la regresión lineal⁠ (recuerde que m es el número de instancias de entrenamiento y n es el número de características).\n",
    "\n",
    "_Tabla 4-1. Comparación de algoritmos para regresión lineal_\n",
    "\n",
    "| **Algoritmo**       | **m grande** | **Soporte fuera del núcleo** | **n grande** | **Hiperparámetros** | **Requiere escalado** | **Scikit-Learn**    |\n",
    "|-----------------|----------|--------------------------|----------|-----------------|-------------------|-----------------|\n",
    "| Ecuación normal | Rapido   | No                       | Lento    | 0               | No                | N/A             |\n",
    "| SVD             | Rapido   | No                       | Lento    | 0               | No                | LinearRegresion |\n",
    "| Batch GD        | Lento    | No                       | Rapido   | 2               | Yes               | N/A             |\n",
    "| SGD             | Rapido   | Si                       | Rapido   | >=2             | Yes               | SGDRegressor    |\n",
    "| Mini-batch GD   | Rapido   | Si                       | Rapido   | >=2             | Yes               | N/A             |\n",
    "\n",
    "</br></br>\n",
    "Casi no hay diferencia después del entrenamiento: todos estos algoritmos terminan con modelos muy similares y hacen predicciones exactamente de la misma manera."
   ]
  },
  {
   "cell_type": "markdown",
   "id": "17bfc0c9",
   "metadata": {},
   "source": [
    "## Regresión Polinómica\n",
    "\n",
    "**¿Qué pasa si tus datos son más complejos que una línea recta?** Sorprendentemente, puedes usar un modelo lineal para ajustar los datos no lineales. Una forma sencilla de hacer esto es agregar poderes de cada característica como nuevas características, y luego entrenar un modelo lineal en este conjunto extendido de características. Esta técnica se llama **regresión polinómica**.\n",
    "\n",
    "Echemos un vistazo a un ejemplo. \n",
    "En primer lugar, generaremos algunos datos no lineales (ver Figura 4-12), basados en una ecuación cuadrática simple, que es una ecuación de la forma **y = ax² +bx + c**, más algo de ruido:"
   ]
  },
  {
   "cell_type": "code",
   "execution_count": 15,
   "id": "550a4652",
   "metadata": {},
   "outputs": [],
   "source": [
    "np.random.seed(42)\n",
    "m = 100\n",
    "X = 6 * np.random.rand(m, 1) - 3\n",
    "y = 0.5 * X ** 2 + X + 2 + np.random.randn(m, 1)"
   ]
  },
  {
   "cell_type": "markdown",
   "id": "7fd5a77a",
   "metadata": {},
   "source": [
    "![](https://learning.oreilly.com/api/v2/epubs/urn:orm:book:9781098125967/files/assets/mls3_0412.png)\n",
    "\n",
    "_Figura 4-12. Conjunto de datos no lineales y ruidoso generado_\n",
    "\n",
    "Es evidente que una línea recta nunca se ajustará correctamente a estos datos. Entonces, usemos la clase `PolynomialFeatures` de Scikit-Learn para transformar nuestros datos de entrenamiento, agregando el cuadrado (polinomio de segundo grado) de cada característica en el conjunto de entrenamiento como una nueva característica (en este caso solo hay una característica):"
   ]
  },
  {
   "cell_type": "code",
   "execution_count": 17,
   "id": "ce471cf2",
   "metadata": {},
   "outputs": [
    {
     "data": {
      "text/plain": [
       "array([-0.75275929])"
      ]
     },
     "execution_count": 17,
     "metadata": {},
     "output_type": "execute_result"
    }
   ],
   "source": [
    "from sklearn.preprocessing import PolynomialFeatures\n",
    "poly_features = PolynomialFeatures(degree=2, include_bias=False)\n",
    "X_poly = poly_features.fit_transform(X)\n",
    "X[0]"
   ]
  },
  {
   "cell_type": "code",
   "execution_count": 18,
   "id": "ef09e773",
   "metadata": {},
   "outputs": [
    {
     "data": {
      "text/plain": [
       "array([-0.75275929,  0.56664654])"
      ]
     },
     "execution_count": 18,
     "metadata": {},
     "output_type": "execute_result"
    }
   ],
   "source": [
    "X_poly[0]"
   ]
  },
  {
   "cell_type": "markdown",
   "id": "d9b67d7c",
   "metadata": {},
   "source": [
    "`X_poly` ahora contiene la característica original de `X` más el cuadrado de esta característica. \n",
    "\n",
    "Ahora podemos ajustar un modelo de `LinearRegression` a estos datos de entrenamiento extendidos (Figura 4-13):"
   ]
  },
  {
   "cell_type": "code",
   "execution_count": 19,
   "id": "11ca058a",
   "metadata": {},
   "outputs": [
    {
     "data": {
      "text/plain": [
       "(array([1.78134581]), array([[0.93366893, 0.56456263]]))"
      ]
     },
     "execution_count": 19,
     "metadata": {},
     "output_type": "execute_result"
    }
   ],
   "source": [
    "lin_reg = LinearRegression()\n",
    "lin_reg.fit(X_poly, y)\n",
    "lin_reg.intercept_, lin_reg.coef_"
   ]
  },
  {
   "cell_type": "markdown",
   "id": "0a295c8b",
   "metadata": {},
   "source": [
    "![](https://learning.oreilly.com/api/v2/epubs/urn:orm:book:9781098125967/files/assets/mls3_0413.png)"
   ]
  },
  {
   "cell_type": "code",
   "execution_count": null,
   "id": "edf18756",
   "metadata": {},
   "outputs": [],
   "source": []
  }
 ],
 "metadata": {
  "kernelspec": {
   "display_name": "Python 3 (ipykernel)",
   "language": "python",
   "name": "python3"
  },
  "language_info": {
   "codemirror_mode": {
    "name": "ipython",
    "version": 3
   },
   "file_extension": ".py",
   "mimetype": "text/x-python",
   "name": "python",
   "nbconvert_exporter": "python",
   "pygments_lexer": "ipython3",
   "version": "3.9.13"
  }
 },
 "nbformat": 4,
 "nbformat_minor": 5
}
